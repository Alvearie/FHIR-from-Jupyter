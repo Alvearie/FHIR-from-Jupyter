{
 "cells": [
  {
   "cell_type": "markdown",
   "metadata": {},
   "source": [
    "# Notebook 1:  The FHIR API\n",
    "\n",
    "## Learning the FHIR REST API"
   ]
  },
  {
   "cell_type": "code",
   "execution_count": null,
   "metadata": {},
   "outputs": [],
   "source": [
    "# setup imports\n",
    "import os\n",
    "from requests import get\n",
    "from requests import post\n",
    "from requests import put\n",
    "from requests import delete\n",
    "from requests import head\n",
    "\n",
    "# save the base url of the server\n",
    "base = 'https://cluster1-573846-250babbbe4c3000e15508cd07c1d282b-0000.us-east.containers.appdomain.cloud/open'\n",
    "\n",
    "# define some useful functions\n",
    "def peek(string, line_count=10):\n",
    "    print(os.linesep.join(string.split(os.linesep)[:line_count]) + '\\n')"
   ]
  },
  {
   "cell_type": "code",
   "execution_count": null,
   "metadata": {},
   "outputs": [],
   "source": [
    "#(Optional)\n",
    "\n",
    "# install jsonpointer\n",
    "!pip install jsonpointer\n",
    "\n",
    "from jsonpointer import resolve_pointer as resolve"
   ]
  },
  {
   "cell_type": "code",
   "execution_count": 50,
   "metadata": {},
   "outputs": [
    {
     "name": "stdout",
     "output_type": "stream",
     "text": [
      "Response code: 200\n",
      "Server: IBM FHIR Server 4.5.0\n",
      "Security: {'cors': True}\n",
      "Supported types: \n",
      "  Endpoint: ['read', 'vread', 'history-instance', 'search-type']\n",
      "  Goal: ['read', 'vread', 'history-instance', 'search-type']\n",
      "  Library: ['read', 'vread', 'history-instance', 'search-type']\n",
      "  Contract: ['read', 'vread', 'history-instance', 'search-type']\n",
      "  Flag: ['read', 'vread', 'history-instance', 'search-type']\n",
      "  CodeSystem: ['read', 'vread', 'history-instance', 'search-type']\n",
      "  CapabilityStatement: ['read', 'vread', 'history-instance', 'search-type']\n",
      "  List: ['read', 'vread', 'history-instance', 'search-type']\n",
      "  ChargeItem: ['read', 'vread', 'history-instance', 'search-type']\n",
      "  PractitionerRole: ['read', 'vread', 'history-instance', 'search-type']\n",
      "  Location: ['read', 'vread', 'history-instance', 'search-type']\n",
      "  MedicinalProductIndication: ['read', 'vread', 'history-instance', 'search-type']\n",
      "  ResearchElementDefinition: ['read', 'vread', 'history-instance', 'search-type']\n",
      "  MedicinalProductManufactured: ['read', 'vread', 'history-instance', 'search-type']\n",
      "  SupplyRequest: ['read', 'vread', 'history-instance', 'search-type']\n",
      "  SubstanceProtein: ['read', 'vread', 'history-instance', 'search-type']\n",
      "  Encounter: ['read', 'vread', 'history-instance', 'search-type']\n",
      "  RiskEvidenceSynthesis: ['read', 'vread', 'history-instance', 'search-type']\n",
      "  DeviceRequest: ['read', 'vread', 'history-instance', 'search-type']\n",
      "  MedicationAdministration: ['read', 'vread', 'history-instance', 'search-type']\n",
      "  Parameters: ['read', 'vread', 'history-instance', 'search-type']\n",
      "  MedicationDispense: ['read', 'vread', 'history-instance', 'search-type']\n",
      "  MeasureReport: ['read', 'vread', 'history-instance', 'search-type']\n",
      "  Coverage: ['read', 'vread', 'history-instance', 'search-type']\n",
      "  InsurancePlan: ['read', 'vread', 'history-instance', 'search-type']\n",
      "  MedicinalProductIngredient: ['read', 'vread', 'history-instance', 'search-type']\n",
      "  Basic: ['read', 'vread', 'history-instance', 'search-type']\n",
      "  Binary: ['read', 'vread', 'history-instance', 'search-type']\n",
      "  MessageHeader: ['read', 'vread', 'history-instance', 'search-type']\n",
      "  Group: ['read', 'vread', 'history-instance', 'search-type']\n",
      "  Composition: ['read', 'vread', 'history-instance', 'search-type']\n",
      "  DiagnosticReport: ['read', 'vread', 'history-instance', 'search-type']\n",
      "  EnrollmentRequest: ['read', 'vread', 'history-instance', 'search-type']\n",
      "  TestReport: ['read', 'vread', 'history-instance', 'search-type']\n",
      "  GuidanceResponse: ['read', 'vread', 'history-instance', 'search-type']\n",
      "  Claim: ['read', 'vread', 'history-instance', 'search-type']\n",
      "  ObservationDefinition: ['read', 'vread', 'history-instance', 'search-type']\n",
      "  SpecimenDefinition: ['read', 'vread', 'history-instance', 'search-type']\n",
      "  Specimen: ['read', 'vread', 'history-instance', 'search-type']\n",
      "  Task: ['read', 'vread', 'history-instance', 'search-type']\n",
      "  DetectedIssue: ['read', 'vread', 'history-instance', 'search-type']\n",
      "  EpisodeOfCare: ['read', 'vread', 'history-instance', 'search-type']\n",
      "  FamilyMemberHistory: ['read', 'vread', 'history-instance', 'search-type']\n",
      "  EnrollmentResponse: ['read', 'vread', 'history-instance', 'search-type']\n",
      "  OrganizationAffiliation: ['read', 'vread', 'history-instance', 'search-type']\n",
      "  Bundle: ['read', 'vread', 'history-instance', 'search-type']\n",
      "  ImmunizationRecommendation: ['read', 'vread', 'history-instance', 'search-type']\n",
      "  MedicationRequest: ['read', 'vread', 'history-instance', 'search-type']\n",
      "  MedicinalProductInteraction: ['read', 'vread', 'history-instance', 'search-type']\n",
      "  Questionnaire: ['read', 'vread', 'history-instance', 'search-type']\n",
      "  BodyStructure: ['read', 'vread', 'history-instance', 'search-type']\n",
      "  DeviceUseStatement: ['read', 'vread', 'history-instance', 'search-type']\n",
      "  AdverseEvent: ['read', 'vread', 'history-instance', 'search-type']\n",
      "  Organization: ['read', 'vread', 'history-instance', 'search-type']\n",
      "  PaymentNotice: ['read', 'vread', 'history-instance', 'search-type']\n",
      "  ExplanationOfBenefit: ['read', 'vread', 'history-instance', 'search-type']\n",
      "  ChargeItemDefinition: ['read', 'vread', 'history-instance', 'search-type']\n",
      "  Consent: ['read', 'vread', 'history-instance', 'search-type']\n",
      "  PaymentReconciliation: ['read', 'vread', 'history-instance', 'search-type']\n",
      "  RiskAssessment: ['read', 'vread', 'history-instance', 'search-type']\n",
      "  Substance: ['read', 'vread', 'history-instance', 'search-type']\n",
      "  Condition: ['read', 'vread', 'history-instance', 'search-type']\n",
      "  EventDefinition: ['read', 'vread', 'history-instance', 'search-type']\n",
      "  ExampleScenario: ['read', 'vread', 'history-instance', 'search-type']\n",
      "  Evidence: ['read', 'vread', 'history-instance', 'search-type']\n",
      "  MolecularSequence: ['read', 'vread', 'history-instance', 'search-type']\n",
      "  SubstancePolymer: ['read', 'vread', 'history-instance', 'search-type']\n",
      "  SubstanceNucleicAcid: ['read', 'vread', 'history-instance', 'search-type']\n",
      "  DeviceDefinition: ['read', 'vread', 'history-instance', 'search-type']\n",
      "  AppointmentResponse: ['read', 'vread', 'history-instance', 'search-type']\n",
      "  EvidenceVariable: ['read', 'vread', 'history-instance', 'search-type']\n",
      "  MedicinalProductAuthorization: ['read', 'vread', 'history-instance', 'search-type']\n",
      "  SupplyDelivery: ['read', 'vread', 'history-instance', 'search-type']\n",
      "  ImagingStudy: ['read', 'vread', 'history-instance', 'search-type']\n",
      "  Linkage: ['read', 'vread', 'history-instance', 'search-type']\n",
      "  CatalogEntry: ['read', 'vread', 'history-instance', 'search-type']\n",
      "  MedicinalProductPackaged: ['read', 'vread', 'history-instance', 'search-type']\n",
      "  QuestionnaireResponse: ['read', 'vread', 'history-instance', 'search-type']\n",
      "  ImplementationGuide: ['read', 'vread', 'history-instance', 'search-type']\n",
      "  MedicationStatement: ['read', 'vread', 'history-instance', 'search-type']\n",
      "  MessageDefinition: ['read', 'vread', 'history-instance', 'search-type']\n",
      "  VerificationResult: ['read', 'vread', 'history-instance', 'search-type']\n",
      "  Patient: ['read', 'vread', 'history-instance', 'search-type']\n",
      "  Measure: ['read', 'vread', 'history-instance', 'search-type']\n",
      "  Invoice: ['read', 'vread', 'history-instance', 'search-type']\n",
      "  NutritionOrder: ['read', 'vread', 'history-instance', 'search-type']\n",
      "  CompartmentDefinition: ['read', 'vread', 'history-instance', 'search-type']\n",
      "  AllergyIntolerance: ['read', 'vread', 'history-instance', 'search-type']\n",
      "  RelatedPerson: ['read', 'vread', 'history-instance', 'search-type']\n",
      "  ClinicalImpression: ['read', 'vread', 'history-instance', 'search-type']\n",
      "  ValueSet: ['read', 'vread', 'history-instance', 'search-type']\n",
      "  Appointment: ['read', 'vread', 'history-instance', 'search-type']\n",
      "  Practitioner: ['read', 'vread', 'history-instance', 'search-type']\n",
      "  Immunization: ['read', 'vread', 'history-instance', 'search-type']\n",
      "  CommunicationRequest: ['read', 'vread', 'history-instance', 'search-type']\n",
      "  ConceptMap: ['read', 'vread', 'history-instance', 'search-type']\n",
      "  VisionPrescription: ['read', 'vread', 'history-instance', 'search-type']\n",
      "  ResearchSubject: ['read', 'vread', 'history-instance', 'search-type']\n",
      "  SearchParameter: ['read', 'vread', 'history-instance', 'search-type']\n",
      "  ClaimResponse: ['read', 'vread', 'history-instance', 'search-type']\n",
      "  Procedure: ['read', 'vread', 'history-instance', 'search-type']\n",
      "  SubstanceSpecification: ['read', 'vread', 'history-instance', 'search-type']\n",
      "  Provenance: ['read', 'vread', 'history-instance', 'search-type']\n",
      "  ResearchDefinition: ['read', 'vread', 'history-instance', 'search-type']\n",
      "  Media: ['read', 'vread', 'history-instance', 'search-type']\n",
      "  Schedule: ['read', 'vread', 'history-instance', 'search-type']\n",
      "  TerminologyCapabilities: ['read', 'vread', 'history-instance', 'search-type']\n",
      "  OperationDefinition: ['read', 'vread', 'history-instance', 'search-type']\n",
      "  Person: ['read', 'vread', 'history-instance', 'search-type']\n",
      "  CarePlan: ['read', 'vread', 'history-instance', 'search-type']\n",
      "  DocumentManifest: ['read', 'vread', 'history-instance', 'search-type']\n",
      "  SubstanceReferenceInformation: ['read', 'vread', 'history-instance', 'search-type']\n",
      "  Medication: ['read', 'vread', 'history-instance', 'search-type']\n",
      "  RequestGroup: ['read', 'vread', 'history-instance', 'search-type']\n",
      "  Subscription: ['read', 'vread', 'history-instance', 'search-type']\n",
      "  Device: ['read', 'vread', 'history-instance', 'search-type']\n",
      "  ResearchStudy: ['read', 'vread', 'history-instance', 'search-type']\n",
      "  MedicinalProduct: ['read', 'vread', 'history-instance', 'search-type']\n",
      "  MedicinalProductContraindication: ['read', 'vread', 'history-instance', 'search-type']\n",
      "  OperationOutcome: ['read', 'vread', 'history-instance', 'search-type']\n",
      "  CoverageEligibilityResponse: ['read', 'vread', 'history-instance', 'search-type']\n",
      "  ActivityDefinition: ['read', 'vread', 'history-instance', 'search-type']\n",
      "  MedicinalProductUndesirableEffect: ['read', 'vread', 'history-instance', 'search-type']\n",
      "  StructureMap: ['read', 'vread', 'history-instance', 'search-type']\n",
      "  HealthcareService: ['read', 'vread', 'history-instance', 'search-type']\n",
      "  MedicinalProductPharmaceutical: ['read', 'vread', 'history-instance', 'search-type']\n",
      "  ImmunizationEvaluation: ['read', 'vread', 'history-instance', 'search-type']\n",
      "  DocumentReference: ['read', 'vread', 'history-instance', 'search-type']\n",
      "  Observation: ['read', 'vread', 'history-instance', 'search-type']\n",
      "  CoverageEligibilityRequest: ['read', 'vread', 'history-instance', 'search-type']\n",
      "  PlanDefinition: ['read', 'vread', 'history-instance', 'search-type']\n",
      "  Slot: ['read', 'vread', 'history-instance', 'search-type']\n",
      "  CareTeam: ['read', 'vread', 'history-instance', 'search-type']\n",
      "  TestScript: ['read', 'vread', 'history-instance', 'search-type']\n",
      "  EffectEvidenceSynthesis: ['read', 'vread', 'history-instance', 'search-type']\n",
      "  NamingSystem: ['read', 'vread', 'history-instance', 'search-type']\n",
      "  DeviceMetric: ['read', 'vread', 'history-instance', 'search-type']\n",
      "  GraphDefinition: ['read', 'vread', 'history-instance', 'search-type']\n",
      "  SubstanceSourceMaterial: ['read', 'vread', 'history-instance', 'search-type']\n",
      "  Account: ['read', 'vread', 'history-instance', 'search-type']\n",
      "  BiologicallyDerivedProduct: ['read', 'vread', 'history-instance', 'search-type']\n",
      "  Communication: ['read', 'vread', 'history-instance', 'search-type']\n",
      "  StructureDefinition: ['read', 'vread', 'history-instance', 'search-type']\n",
      "  AuditEvent: ['read', 'vread', 'history-instance', 'search-type']\n",
      "  MedicationKnowledge: ['read', 'vread', 'history-instance', 'search-type']\n",
      "  ServiceRequest: ['read', 'vread', 'history-instance', 'search-type']\n"
     ]
    }
   ],
   "source": [
    "# retrieve the server \"CapabilityStatement\" and print the important bits\n",
    "response = get(base + '/metadata')\n",
    "print('Response code: ' + str(response.status_code))\n",
    "result = response.json()\n",
    "print('Server: ' + result['name'] + ' ' + result['version'])\n",
    "print('Security: ' + str(result['rest'][0]['security']))\n",
    "resources = result['rest'][0]['resource']\n",
    "\n",
    "supported_types = {r['type']: [i['code'] for i in r['interaction']] for r in resources}\n",
    "\n",
    "print('Supported types: ')\n",
    "for k,v in supported_types.items():\n",
    "    print('  ' + k + ': ' + str(v))"
   ]
  },
  {
   "cell_type": "code",
   "execution_count": 51,
   "metadata": {},
   "outputs": [
    {
     "name": "stdout",
     "output_type": "stream",
     "text": [
      "Response code: 200\n",
      "Response body: \n",
      "{\n",
      "    \"resourceType\": \"Bundle\",\n",
      "    \"id\": \"9d7424fe-7235-4e1a-8c6d-058d2603b263\",\n",
      "    \"type\": \"searchset\",\n",
      "    \"total\": 27319,\n",
      "    \"link\": [\n",
      "        {\n",
      "            \"relation\": \"self\",\n",
      "            \"url\": \"https://cluster1-573846-250babbbe4c3000e15508cd07c1d282b-0000.us-east.containers.appdomain.cloud/open/Patient?_count=10&_page=1\"\n",
      "        },\n",
      "        {\n",
      "            \"relation\": \"next\",\n",
      "            \"url\": \"https://cluster1-573846-250babbbe4c3000e15508cd07c1d282b-0000.us-east.containers.appdomain.cloud/open/Patient?_count=10&_page=2\"\n",
      "        }\n",
      "    ],\n",
      "    \"entry\": [\n",
      "        {\n",
      "            \"fullUrl\": \"https://cluster1-573846-250babbbe4c3000e15508cd07c1d282b-0000.us-east.containers.appdomain.cloud/open/Patient/17598bed122-d90e0186-8458-4482-a580-5b18b554ed3c\",\n",
      "            \"resource\": {\n",
      "\n"
     ]
    }
   ],
   "source": [
    "# the type of resource we want to query\n",
    "type = 'Patient'\n",
    "\n",
    "# retrieve all resources of a given type and print the HTTP status code and the first 20 lines of the response\n",
    "response = get(base + '/' + type)\n",
    "print('Response code: ' + str(response.status_code))\n",
    "peek('Response body: \\n' + response.text, 20)\n",
    "\n",
    "# technically you've now performed your first FHIR \"search\" (just with no parameters)"
   ]
  },
  {
   "cell_type": "code",
   "execution_count": 52,
   "metadata": {},
   "outputs": [
    {
     "name": "stdout",
     "output_type": "stream",
     "text": [
      "Second page: \n",
      "{\n",
      "    \"resourceType\": \"Bundle\",\n",
      "    \"id\": \"bd768eef-2a79-404c-bf0c-89d3903b572e\",\n",
      "    \"type\": \"searchset\",\n",
      "    \"total\": 27319,\n",
      "    \"link\": [\n",
      "        {\n",
      "            \"relation\": \"self\",\n",
      "            \"url\": \"https://cluster1-573846-250babbbe4c3000e15508cd07c1d282b-0000.us-east.containers.appdomain.cloud/open/Patient?_count=10&_page=2\"\n",
      "        },\n",
      "        {\n",
      "            \"relation\": \"next\",\n",
      "            \"url\": \"https://cluster1-573846-250babbbe4c3000e15508cd07c1d282b-0000.us-east.containers.appdomain.cloud/open/Patient?_count=10&_page=3\"\n",
      "        },\n",
      "        {\n",
      "            \"relation\": \"previous\",\n",
      "            \"url\": \"https://cluster1-573846-250babbbe4c3000e15508cd07c1d282b-0000.us-east.containers.appdomain.cloud/open/Patient?_count=10&_page=1\"\n",
      "        }\n",
      "    ],\n",
      "\n",
      "Number of entries: 10\n"
     ]
    }
   ],
   "source": [
    "# results are paged and the \"link\" field in the response Bundle contains links to previous, current, and next page of results\n",
    "for link in response.json().get('link'):\n",
    "    if link.get('relation') == 'next':\n",
    "        page2 = get(link.get('url'))        \n",
    "peek('Second page: \\n' + page2.text, 20)\n",
    "print('Number of entries: ' + str(len(response.json().get('entry'))))"
   ]
  },
  {
   "cell_type": "code",
   "execution_count": 53,
   "metadata": {},
   "outputs": [
    {
     "name": "stdout",
     "output_type": "stream",
     "text": [
      "Single resource per page: \n",
      "{\n",
      "    \"resourceType\": \"Bundle\",\n",
      "    \"id\": \"5d6bb5e7-6db3-4a27-ab78-596cd0b41abb\",\n",
      "    \"type\": \"searchset\",\n",
      "    \"total\": 27319,\n",
      "    \"link\": [\n",
      "        {\n",
      "            \"relation\": \"self\",\n",
      "            \"url\": \"https://cluster1-573846-250babbbe4c3000e15508cd07c1d282b-0000.us-east.containers.appdomain.cloud/open/Patient?_count=1&_page=1\"\n",
      "        },\n",
      "        {\n",
      "            \"relation\": \"next\",\n",
      "            \"url\": \"https://cluster1-573846-250babbbe4c3000e15508cd07c1d282b-0000.us-east.containers.appdomain.cloud/open/Patient?_count=1&_page=2\"\n",
      "        }\n",
      "    ],\n",
      "    \"entry\": [\n",
      "        {\n",
      "            \"fullUrl\": \"https://cluster1-573846-250babbbe4c3000e15508cd07c1d282b-0000.us-east.containers.appdomain.cloud/open/Patient/17598bed122-d90e0186-8458-4482-a580-5b18b554ed3c\",\n",
      "            \"resource\": {\n",
      "                \"resourceType\": \"Patient\",\n",
      "                \"id\": \"17598bed122-d90e0186-8458-4482-a580-5b18b554ed3c\",\n",
      "                \"meta\": {\n",
      "                    \"versionId\": \"1\",\n",
      "                    \"lastUpdated\": \"2020-11-05T14:10:43.787Z\",\n",
      "\n",
      "Number of entries: 1\n"
     ]
    }
   ],
   "source": [
    "# we can control the number of search results by passing the _count parameter\n",
    "response = get(base + '/Patient?_count=1')\n",
    "peek('Single resource per page: \\n' + response.text, 25)\n",
    "print('Number of entries: ' + str(len(response.json().get('entry'))))"
   ]
  },
  {
   "cell_type": "code",
   "execution_count": 54,
   "metadata": {},
   "outputs": [
    {
     "name": "stdout",
     "output_type": "stream",
     "text": [
      "{\n",
      "    \"resourceType\": \"Bundle\",\n",
      "    \"id\": \"8d82cfe3-1b10-4759-9589-67d59a411c12\",\n",
      "    \"meta\": {\n",
      "        \"tag\": [\n",
      "            {\n",
      "                \"system\": \"http://terminology.hl7.org/CodeSystem/v3-ObservationValue\",\n",
      "                \"code\": \"SUBSETTED\",\n",
      "                \"display\": \"subsetted\"\n",
      "            }\n",
      "        ]\n",
      "    },\n",
      "    \"type\": \"searchset\",\n",
      "    \"total\": 27319,\n",
      "    \"link\": [\n",
      "        {\n",
      "            \"relation\": \"self\",\n",
      "            \"url\": \"https://cluster1-573846-250babbbe4c3000e15508cd07c1d282b-0000.us-east.containers.appdomain.cloud/open/Patient?_count=10&_summary=count&_page=1\"\n",
      "        }\n",
      "    ]\n",
      "}\n"
     ]
    }
   ],
   "source": [
    "# if you're only interested in the count, you can specify that via either\n",
    "# A. _count=0 (0 results per page); or\n",
    "# B. _summary=count\n",
    "\n",
    "print(get(base + '/Patient' + '?' + '_summary=count').text)"
   ]
  },
  {
   "cell_type": "code",
   "execution_count": 55,
   "metadata": {},
   "outputs": [
    {
     "name": "stdout",
     "output_type": "stream",
     "text": [
      "Summary: \n",
      "dict_keys(['resourceType', 'id', 'meta', 'text', 'extension', 'identifier', 'name', 'telecom', 'gender', 'birthDate', 'address', 'maritalStatus', 'multipleBirthBoolean', 'communication'])\n"
     ]
    }
   ],
   "source": [
    "# if you want a lot of results per page, you can reduce the amount of data returned via the _summary or _elements parameters\n",
    "\n",
    "# https://www.hl7.org/fhir/search.html#summary\n",
    "# look for the Σ flag in the Resource Content section of the resource page in the specification for what elements are considered \"summary\" elements \n",
    "reponse = get(base + '/Patient?_count=1' + '&' + '_summary=true')\n",
    "print('Summary: \\n' + str(response.json().get('entry')[0].get('resource').keys()))"
   ]
  },
  {
   "cell_type": "code",
   "execution_count": 56,
   "metadata": {},
   "outputs": [
    {
     "name": "stdout",
     "output_type": "stream",
     "text": [
      "Elements: \n",
      "dict_keys(['resourceType', 'id', 'meta', 'gender'])\n"
     ]
    }
   ],
   "source": [
    "# need more control?\n",
    "# you can use the _elements parameter to ask for specific fields back (although the server should include required fields and modifier fields as well)\n",
    "response = get(base + '/Patient?_count=1' + '&' + '_elements=id,gender')\n",
    "print('Elements: \\n' + str(response.json().get('entry')[0].get('resource').keys()))"
   ]
  },
  {
   "cell_type": "code",
   "execution_count": 57,
   "metadata": {},
   "outputs": [
    {
     "name": "stdout",
     "output_type": "stream",
     "text": [
      "Normal: \t892360 bytes \t(1.934766 s)\n",
      "Summary: \t516647 bytes \t(0.416664 s)\n",
      "Elements: \t104260 bytes \t(0.348057 s)\n"
     ]
    }
   ],
   "source": [
    "# this can add up!\n",
    "\n",
    "response = get(base + '/Patient?_count=100')\n",
    "print('Normal: \\t' + str(len(response.content)) + ' bytes \\t(' + str(response.elapsed.total_seconds()) + ' s)')\n",
    "\n",
    "response = get(base + '/Patient?_count=100&_summary=true')\n",
    "print('Summary: \\t' + str(len(response.content)) + ' bytes \\t(' + str(response.elapsed.total_seconds()) + ' s)')\n",
    "\n",
    "response = get(base + '/Patient?_count=100&_elements=id,gender,birthDate')\n",
    "print('Elements: \\t' + str(len(response.content)) + ' bytes \\t(' + str(response.elapsed.total_seconds()) + ' s)')\n"
   ]
  },
  {
   "cell_type": "code",
   "execution_count": 58,
   "metadata": {},
   "outputs": [
    {
     "name": "stdout",
     "output_type": "stream",
     "text": [
      "Response code: 200\n",
      "Response body: \n",
      "{\n",
      "    \"resourceType\": \"Bundle\",\n",
      "    \"id\": \"6ed8b410-8aa6-4f61-8ac8-8a24cceb244b\",\n",
      "    \"type\": \"searchset\",\n",
      "    \"total\": 12925,\n",
      "    \"link\": [\n",
      "        {\n",
      "            \"relation\": \"self\",\n",
      "            \"url\": \"https://cluster1-573846-250babbbe4c3000e15508cd07c1d282b-0000.us-east.containers.appdomain.cloud/open/Patient?_count=10&gender=male&_page=1\"\n",
      "        },\n",
      "        {\n",
      "            \"relation\": \"next\",\n",
      "            \"url\": \"https://cluster1-573846-250babbbe4c3000e15508cd07c1d282b-0000.us-east.containers.appdomain.cloud/open/Patient?_count=10&gender=male&_page=2\"\n",
      "        }\n",
      "    ],\n",
      "    \"entry\": [\n",
      "        {\n",
      "            \"fullUrl\": \"https://cluster1-573846-250babbbe4c3000e15508cd07c1d282b-0000.us-east.containers.appdomain.cloud/open/Patient/17598bed122-d90e0186-8458-4482-a580-5b18b554ed3c\",\n",
      "            \"resource\": {\n",
      "                \"resourceType\": \"Patient\",\n",
      "                \"id\": \"17598bed122-d90e0186-8458-4482-a580-5b18b554ed3c\",\n",
      "                \"meta\": {\n",
      "                    \"versionId\": \"1\",\n",
      "                    \"lastUpdated\": \"2020-11-05T14:10:43.787Z\",\n",
      "\n"
     ]
    }
   ],
   "source": [
    "# now add some search parameters\n",
    "\n",
    "# each FHIR resource type has its own set of parameters; find them toward the bottom of the page for that resource type in the specification\n",
    "# for example, for the Patient resource type, see https://www.hl7.org/fhir/patient.html#search\n",
    "response = get(base + '/Patient' + '?' + 'gender=male')\n",
    "print('Response code: ' + str(response.status_code))\n",
    "peek('Response body: \\n' + response.text, 25)"
   ]
  },
  {
   "cell_type": "code",
   "execution_count": 59,
   "metadata": {},
   "outputs": [
    {
     "name": "stdout",
     "output_type": "stream",
     "text": [
      "male:   \t12925\n",
      "female: \t14394\n"
     ]
    }
   ],
   "source": [
    "print('male:   \\t' + str(get(base + '/Patient' + '?' + 'gender=male' + '&' + '_summary=count').json().get('total')))\n",
    "print('female: \\t' + str(get(base + '/Patient' + '?' + 'gender=female' + '&' + '_summary=count').json().get('total')))"
   ]
  },
  {
   "cell_type": "code",
   "execution_count": 60,
   "metadata": {},
   "outputs": [
    {
     "name": "stdout",
     "output_type": "stream",
     "text": [
      "missing gender: 0\n"
     ]
    }
   ],
   "source": [
    "# use the \"missing\" modifier to look for resources that do NOT have a value for the target parameter\n",
    "response = get(base + '/Patient' + '?' + 'gender:missing=true' + '&' + '_summary=count')\n",
    "print('missing gender: ' + str(response.json().get('total')))"
   ]
  },
  {
   "cell_type": "code",
   "execution_count": 61,
   "metadata": {},
   "outputs": [
    {
     "name": "stdout",
     "output_type": "stream",
     "text": [
      "male:\n",
      "{'resourceType': 'Bundle', 'id': 'bb6132a5-7147-49e0-8cd7-edd8d370fd36', 'meta': {'tag': [{'system': 'http://terminology.hl7.org/CodeSystem/v3-ObservationValue', 'code': 'SUBSETTED', 'display': 'subsetted'}]}, 'type': 'searchset', 'total': 12925, 'link': [{'relation': 'self', 'url': 'https://cluster1-573846-250babbbe4c3000e15508cd07c1d282b-0000.us-east.containers.appdomain.cloud/open/Patient?_count=1&gender=http://hl7.org/fhir/administrative-gender%7Cmale&_elements=gender&_page=1'}, {'relation': 'next', 'url': 'https://cluster1-573846-250babbbe4c3000e15508cd07c1d282b-0000.us-east.containers.appdomain.cloud/open/Patient?_count=1&gender=http://hl7.org/fhir/administrative-gender%7Cmale&_elements=gender&_page=2'}], 'entry': [{'fullUrl': 'https://cluster1-573846-250babbbe4c3000e15508cd07c1d282b-0000.us-east.containers.appdomain.cloud/open/Patient/17598bed122-d90e0186-8458-4482-a580-5b18b554ed3c', 'resource': {'resourceType': 'Patient', 'id': '17598bed122-d90e0186-8458-4482-a580-5b18b554ed3c', 'meta': {'versionId': '1', 'lastUpdated': '2020-11-05T14:10:43.787Z', 'profile': ['http://hl7.org/fhir/us/core/StructureDefinition/us-core-patient'], 'tag': [{'system': 'http://terminology.hl7.org/CodeSystem/v3-ObservationValue', 'code': 'SUBSETTED', 'display': 'subsetted'}]}, 'gender': 'male'}}]}\n",
      "\n"
     ]
    }
   ],
   "source": [
    "# search parameters have types\n",
    "\n",
    "# gender is considered a \"token\" search parameter\n",
    "\n",
    "# Token search\n",
    "# this parameter type is common for 'coded' values (Code, Coding, and CodeableConcept) and identifiers\n",
    "# token values consist of a system and a code, although sometimes the system is implicit (like in the case of gender)\n",
    "# users can search on the system and code (system|code), the code alone (code), system-less codes (|code), or even the system alone (system|)\n",
    "response = get(base + '/Patient' + '?' + 'gender=http://hl7.org/fhir/administrative-gender|male' + '&_count=1&_elements=gender')\n",
    "peek('male:\\n' + str(response.json()))\n",
    "\n",
    "\n",
    "# there are also Number, Date/DateTime, String, Reference, Quantity, URI, and Composite parameter types"
   ]
  },
  {
   "cell_type": "code",
   "execution_count": 62,
   "metadata": {},
   "outputs": [
    {
     "name": "stdout",
     "output_type": "stream",
     "text": [
      "Smiths:\n",
      "17598d8e9df-706d630f-784d-473d-a0d2-37af26e3c36e: Smitham\n",
      "17598dc69c4-fe632367-ce4f-413b-9639-5f409631fdbd: Smith\n",
      "17598e7faf2-37231ae2-90fa-4668-90cc-9d413e44ff73: Smitham\n",
      "17598fe2d81-8588df6c-a4e5-486f-8de7-f2a457e1ecbb: Smitham\n",
      "175991c2ff1-8b5aef81-6ed2-4173-8ee0-3a38612ece43: Smitham\n",
      "175991de90e-b9364b28-a200-4d19-9bba-1cd4d5d9f037: Heller, Smith\n",
      "175992f962b-159acf20-e5d5-4370-bf38-8e02eef6d761: Smith\n",
      "17599326aa9-40e01d7e-1d5b-4f1b-9bed-9c0a0b031df1: Smith\n",
      "175993420d0-eb6a0968-589a-4a71-a010-19e84056c44e: Smitham\n",
      "17599375dc6-21078467-b048-499a-b8c4-9f5ddfc6ffd3: Haley, Smitham\n"
     ]
    }
   ],
   "source": [
    "# String search\n",
    "response = get(base + '/Patient' + '?' + 'family=Smith' + '&_elements=name')\n",
    "print('Smiths:')\n",
    "for entry in response.json().get('entry'):\n",
    "    resource = entry.get('resource')\n",
    "    print(resource.get('id'), end=': ')\n",
    "    print(', '.join(map(lambda n: n.get('family'), resource.get('name'))))\n",
    "        "
   ]
  },
  {
   "cell_type": "code",
   "execution_count": 63,
   "metadata": {},
   "outputs": [
    {
     "name": "stdout",
     "output_type": "stream",
     "text": [
      "Smiths:\n",
      "17598dc69c4-fe632367-ce4f-413b-9639-5f409631fdbd: Smith\n",
      "175991de90e-b9364b28-a200-4d19-9bba-1cd4d5d9f037: Heller, Smith\n",
      "175992f962b-159acf20-e5d5-4370-bf38-8e02eef6d761: Smith\n",
      "17599326aa9-40e01d7e-1d5b-4f1b-9bed-9c0a0b031df1: Smith\n",
      "175993c2874-5f898109-a18d-4d6e-8cfb-ecd69eb37862: Smith\n",
      "17599522520-bdb4311f-3765-45f2-bd5d-1f1aca14a931: Smith\n",
      "17599539a99-bccf02f3-57ef-4399-a4c6-0296aa8356c1: Purdy, Smith\n",
      "1759954cc00-9def2bdc-a444-4e84-bf77-a0e79e449d19: Rosenbaum, Smith\n",
      "175995a5564-869be93e-c7c2-4cab-9951-d15063f39975: Wintheiser, Smith\n",
      "175995ad366-3722d3d9-c56e-4d06-ba32-1b662e18bfbe: Wehner, Smith\n",
      "\n",
      "Skis:\n",
      "17598bf6496-92b7682f-d882-4b3c-8e37-178b11cde674: Gusikowski, West\n",
      "17598c069d0-3b1b68c5-13e0-4c46-b929-1fea6d13454f: Osinski\n",
      "17598c0689e-e60c055e-c166-406d-a9b0-f6d113292dcc: Gutkowski\n",
      "17598c10cbc-642eb489-8d83-4220-8591-a31adc7a9189: Gusikowski\n",
      "17598c3ebc7-63c73ac0-7cc7-492f-b1f5-661c9da0b95e: Gulgowski\n",
      "17598c45f73-e1ac3687-ae53-4591-b9f7-65deb78c8a1b: Jaskolski\n",
      "17598c61295-bf40a9c1-ebc2-46cb-b4e5-c1ea732c0960: Gusikowski\n",
      "17598c88bd6-e98052ab-8f37-46c5-ade7-c3b441573a90: Swaniawski\n",
      "17598cbac2b-5b5193d4-9b35-48a9-88b1-b2912fd0c896: Jaskolski, Erdman\n",
      "17598ccda87-246aadea-59a6-4287-a472-7a9117e89059: Powlowski\n"
     ]
    }
   ],
   "source": [
    "# wait, \"Smitham\" !?\n",
    "\n",
    "# string search performs a case-insensitive \"begins-with\" search by default!\n",
    "# use the modifier \":exact\" if you want exact matches (and improved performance)\n",
    "response = get(base + '/Patient' + '?' + 'family:exact=Smith' + '&_elements=name')\n",
    "print('Smiths:')\n",
    "for entry in response.json().get('entry'):\n",
    "    resource = entry.get('resource')\n",
    "    print(resource.get('id'), end=': ')\n",
    "    print(', '.join(map(lambda n: n.get('family'), resource.get('name'))))\n",
    "print()\n",
    "\n",
    "# string search also has a \":contains\" modifier\n",
    "response = get(base + '/Patient' + '?' + 'family:contains=ski' + '&_elements=name')\n",
    "print('Skis:')\n",
    "for entry in response.json().get('entry'):\n",
    "    resource = entry.get('resource')\n",
    "    print(resource.get('id'), end=': ')\n",
    "    print(', '.join(map(lambda n: n.get('family'), resource.get('name'))))\n"
   ]
  },
  {
   "cell_type": "code",
   "execution_count": 64,
   "metadata": {},
   "outputs": [
    {
     "name": "stdout",
     "output_type": "stream",
     "text": [
      "Born in 1984:\n",
      "17598c01014-694ba51f-a02d-4686-b956-7d6eb9d7e5fa: 1984-12-05\n",
      "17598c330b0-817d8bac-b275-449d-8163-0ae095d6a7d5: 1984-03-23\n",
      "17598d78d31-639632e7-4f79-4b1a-81e8-f462de2c5912: 1984-09-18\n",
      "17598dc812f-37fd8fe9-e900-4f11-b166-5515fd7b4125: 1984-12-26\n",
      "17598dda658-9243965e-f6e2-4909-b2f6-89dcd7dcf799: 1984-05-04\n",
      "17598de13a7-c2c48b25-a1cc-498a-9b98-08629619ae15: 1984-03-04\n",
      "17598e32314-d67c7847-5ca3-4b0c-86df-195e40626a65: 1984-10-05\n",
      "17598e54dfe-683137bf-6a96-4b94-9218-7be5ff4ee2fb: 1984-04-21\n",
      "17598eed38d-eb24c019-4ab9-4f14-9c66-db95a1ed22dc: 1984-10-23\n",
      "17598f52f36-17f4bfd8-c305-468f-9c38-792a461e28a3: 1984-04-26\n"
     ]
    }
   ],
   "source": [
    "# Date search\n",
    "response = get(base + '/Patient' + '?' + 'birthdate=1984' + '&_elements=birthDate')\n",
    "print('Born in 1984:')\n",
    "for entry in response.json().get('entry'):\n",
    "    resource = entry.get('resource')\n",
    "    print(resource.get('id'), end=': ')\n",
    "    print(resource.get('birthDate'))"
   ]
  },
  {
   "cell_type": "code",
   "execution_count": 65,
   "metadata": {},
   "outputs": [
    {
     "name": "stdout",
     "output_type": "stream",
     "text": [
      "Born before 1984:\n",
      "17598bf0165-6eda45e2-f9c1-4c4c-9ef2-1776cfbb0a7d: 1976-10-11\n",
      "17598bf1688-037fcb72-18af-40ce-a96b-c393a595dd49: 1975-07-10\n",
      "17598bf28f3-257b9fe9-9084-41d6-bb0f-43b4729a7f0d: 1982-01-13\n",
      "17598bf36c7-fedcedc3-b78c-4688-82ef-622e0cc71b22: 1973-03-03\n",
      "17598bf6cd6-d8388338-897d-48a0-b334-a877459941b2: 1979-03-01\n",
      "17598bf3d06-15fa6deb-59ad-4bd2-b8a1-8a2fa606d084: 1924-10-07\n",
      "17598bf6496-92b7682f-d882-4b3c-8e37-178b11cde674: 1948-12-25\n",
      "17598bf98b2-789821a7-b30c-48d4-b388-5343a933d8ad: 1972-06-15\n",
      "17598bfb281-9ca10cb0-6ba0-4691-85f4-424423b1869d: 1970-12-02\n",
      "17598bfa2da-9c19d3ed-5bef-49ab-b6b0-1d731446ddf6: 1960-11-21\n",
      "\n",
      "Born after 1984:\n",
      "17598bed122-d90e0186-8458-4482-a580-5b18b554ed3c: 1990-02-05\n",
      "17598beef3c-73a65dab-c8e5-4756-a60a-69bbc48cef4f: 1986-07-15\n",
      "17598bf4a5d-185e291b-d0e3-42d3-9b70-eeae60debeec: 2005-11-09\n",
      "17598bf2ea9-7238cb29-0108-47a7-bf50-c94c6468ad2b: 2020-01-19\n",
      "17598bf555d-8e5857a0-4da9-4e6c-b9be-8624f80cf080: 1990-01-07\n",
      "17598bf809c-1a099ca4-cdb9-4837-8692-51338082cd97: 2019-09-05\n",
      "17598bf8b6a-ef83ac85-d722-406a-893a-7b016f060867: 1994-08-22\n",
      "17598bf9bf3-72e9d777-a355-4e7c-9b61-6a7dd30a61f4: 1999-10-06\n",
      "17598bfb106-0f9d95e0-84de-4b28-b8ad-d6a0f4caa980: 1993-01-07\n",
      "17598bfd0cf-22472597-7a8f-47b4-abb9-b36ab298ee12: 2007-08-05\n",
      "\n",
      "Born \"around\" 1984:\n",
      "17598beef3c-73a65dab-c8e5-4756-a60a-69bbc48cef4f: 1986-07-15\n",
      "17598bf28f3-257b9fe9-9084-41d6-bb0f-43b4729a7f0d: 1982-01-13\n",
      "17598c01014-694ba51f-a02d-4686-b956-7d6eb9d7e5fa: 1984-12-05\n",
      "17598c05638-14568b50-6d51-4ab4-a94c-096c49ac8a4e: 1982-04-20\n",
      "17598c0a7ca-46d519f3-9866-427f-91b3-75f834a5eb72: 1983-10-29\n",
      "17598c1650a-20726259-3909-46b4-8d70-effe09390d7c: 1982-09-15\n",
      "17598c31418-c137d962-05b5-4f50-aec7-70033c0de3c1: 1983-05-29\n",
      "17598c330b0-817d8bac-b275-449d-8163-0ae095d6a7d5: 1984-03-23\n",
      "17598c38744-b7e7533a-5d2d-40bd-8f34-ab16eedd8062: 1988-06-29\n",
      "17598c45cd6-04c67dca-6ae4-4bff-afaf-4c82ae824920: 1981-05-30\n"
     ]
    }
   ],
   "source": [
    "# date searches support lt(<), le(<=), gt(>), ge(>=), sa(starts after), and eb(ends before) \"prefixes\"\n",
    "response = get(base + '/Patient' + '?' + 'birthdate=eb1984' + '&_elements=birthDate')\n",
    "print('Born before 1984:')\n",
    "for entry in response.json().get('entry'):\n",
    "    resource = entry.get('resource')\n",
    "    print(resource.get('id'), end=': ')\n",
    "    print(resource.get('birthDate'))\n",
    "\n",
    "response = get(base + '/Patient' + '?' + 'birthdate=sa1984' + '&_elements=birthDate')\n",
    "print('\\n' + 'Born after 1984:')\n",
    "for entry in response.json().get('entry'):\n",
    "    resource = entry.get('resource')\n",
    "    print(resource.get('id'), end=': ')\n",
    "    print(resource.get('birthDate'))\n",
    "\n",
    "# some servers support ap(approximately equal) as well, although the spec lets the server decide exactly what that means...\n",
    "response = get(base + '/Patient' + '?' + 'birthdate=ap1984' + '&_elements=birthDate')\n",
    "print('\\n' + 'Born \"around\" 1984:')\n",
    "for entry in response.json().get('entry'):\n",
    "    resource = entry.get('resource')\n",
    "    print(resource.get('id'), end=': ')\n",
    "    print(resource.get('birthDate'))"
   ]
  },
  {
   "cell_type": "code",
   "execution_count": 66,
   "metadata": {},
   "outputs": [
    {
     "name": "stdout",
     "output_type": "stream",
     "text": [
      "Patients with a general-practitioner:   \n",
      "{'resourceType': 'Bundle', 'id': 'f9a06eae-344c-44cf-8d27-a3fa3bb401bb', 'meta': {'tag': [{'system': 'http://terminology.hl7.org/CodeSystem/v3-ObservationValue', 'code': 'SUBSETTED', 'display': 'subsetted'}]}, 'type': 'searchset', 'total': 0, 'link': [{'relation': 'self', 'url': 'https://cluster1-573846-250babbbe4c3000e15508cd07c1d282b-0000.us-east.containers.appdomain.cloud/open/Patient?_count=1&general-practitioner:missing=false&_elements=generalPractitioner,link,managingOrganization&_page=1'}]}\n",
      "\n",
      "Conditions for patient 17598beef3c-73a65dab-c8e5-4756-a60a-69bbc48cef4f:\n",
      "{'coding': [{'system': 'http://snomed.info/sct', 'code': '10509002', 'display': 'Acute bronchitis (disorder)'}], 'text': 'Acute bronchitis (disorder)'}\n",
      "{'coding': [{'system': 'http://snomed.info/sct', 'code': '195662009', 'display': 'Acute viral pharyngitis (disorder)'}], 'text': 'Acute viral pharyngitis (disorder)'}\n",
      "{'coding': [{'system': 'http://snomed.info/sct', 'code': '68235000', 'display': 'Nasal congestion (finding)'}], 'text': 'Nasal congestion (finding)'}\n",
      "{'coding': [{'system': 'http://snomed.info/sct', 'code': '267102003', 'display': 'Sore throat symptom (finding)'}], 'text': 'Sore throat symptom (finding)'}\n",
      "{'coding': [{'system': 'http://snomed.info/sct', 'code': '248595008', 'display': 'Sputum finding (finding)'}], 'text': 'Sputum finding (finding)'}\n",
      "{'coding': [{'system': 'http://snomed.info/sct', 'code': '84229001', 'display': 'Fatigue (finding)'}], 'text': 'Fatigue (finding)'}\n",
      "{'coding': [{'system': 'http://snomed.info/sct', 'code': '267036007', 'display': 'Dyspnea (finding)'}], 'text': 'Dyspnea (finding)'}\n",
      "{'coding': [{'system': 'http://snomed.info/sct', 'code': '56018004', 'display': 'Wheezing (finding)'}], 'text': 'Wheezing (finding)'}\n",
      "{'coding': [{'system': 'http://snomed.info/sct', 'code': '43724002', 'display': 'Chill (finding)'}], 'text': 'Chill (finding)'}\n",
      "{'coding': [{'system': 'http://snomed.info/sct', 'code': '386661006', 'display': 'Fever (finding)'}], 'text': 'Fever (finding)'}\n",
      "\n",
      "Result entries match? True\n",
      "\n",
      "Result entries match? True\n"
     ]
    }
   ],
   "source": [
    "# Reference search\n",
    "response = get(base + '/Patient?general-practitioner:missing=false&_elements=generalPractitioner,link,managingOrganization&_count=1')\n",
    "peek('Patients with a general-practitioner:   \\n' + str(response.json()))\n",
    "\n",
    "# since our model doesn't have any reference fields on the Patient resources, lets look at Observations instead\n",
    "response = get(base + '/Condition' + '?' + 'subject=Patient/17598beef3c-73a65dab-c8e5-4756-a60a-69bbc48cef4f' + '&_elements=code')\n",
    "print('Conditions for patient 17598beef3c-73a65dab-c8e5-4756-a60a-69bbc48cef4f:')\n",
    "for entry in response.json().get('entry'):\n",
    "    resource = entry.get('resource')\n",
    "    print(resource.get('code'))\n",
    "\n",
    "# when the type of the reference is fixed to a single value, it can be omitted (Patient/x -> x)\n",
    "response2 = get(base + '/Condition' + '?' + 'patient=17598beef3c-73a65dab-c8e5-4756-a60a-69bbc48cef4f' + '&_elements=code')\n",
    "print('\\n' + 'Result entries match? ' + str(response.json().get('entry') == response2.json().get('entry')))\n",
    "\n",
    "# a reference to a resource's full url on the server should be equivalent to the relative reference format mentioned above\n",
    "response3 = get(base + '/Condition' + '?' + 'patient=' + base + '/Patient/17598beef3c-73a65dab-c8e5-4756-a60a-69bbc48cef4f' + '&_elements=code')\n",
    "print('\\n' + 'Result entries match? ' + str(response.json().get('entry') == response3.json().get('entry')))\n",
    "\n",
    "# references can also reference resources on other servers"
   ]
  },
  {
   "cell_type": "code",
   "execution_count": 38,
   "metadata": {},
   "outputs": [
    {
     "name": "stdout",
     "output_type": "stream",
     "text": [
      "Type II Diabetes in female patients:   \n",
      "{'resourceType': 'Bundle', 'id': '9a62b679-ae9a-4118-bc3c-e4c8961915ff', 'type': 'searchset', 'total': 468, 'link': [{'relation': 'self', 'url': 'https://cluster1-573846-250babbbe4c3000e15508cd07c1d282b-0000.us-east.containers.appdomain.cloud/open/Condition?_count=1&code=http://snomed.info/sct%7C44054006&patient:Patient.gender=female&_page=1'}, {'relation': 'next', 'url': 'https://cluster1-573846-250babbbe4c3000e15508cd07c1d282b-0000.us-east.containers.appdomain.cloud/open/Condition?_count=1&code=http://snomed.info/sct%7C44054006&patient:Patient.gender=female&_page=2'}], 'entry': [{'fullUrl': 'https://cluster1-573846-250babbbe4c3000e15508cd07c1d282b-0000.us-east.containers.appdomain.cloud/open/Condition/17598ca24de-8a64595d-1f7f-4a9d-af9b-9623bbd3db6d', 'resource': {'resourceType': 'Condition', 'id': '17598ca24de-8a64595d-1f7f-4a9d-af9b-9623bbd3db6d', 'meta': {'versionId': '1', 'lastUpdated': '2020-11-05T14:23:11.963Z', 'profile': ['http://hl7.org/fhir/us/core/StructureDefinition/us-core-condition']}, 'clinicalStatus': {'coding': [{'system': 'http://terminology.hl7.org/CodeSystem/condition-clinical', 'code': 'active'}]}, 'verificationStatus': {'coding': [{'system': 'http://terminology.hl7.org/CodeSystem/condition-ver-status', 'code': 'confirmed'}]}, 'category': [{'coding': [{'system': 'http://terminology.hl7.org/CodeSystem/condition-category', 'code': 'encounter-diagnosis', 'display': 'Encounter Diagnosis'}]}], 'code': {'coding': [{'system': 'http://snomed.info/sct', 'code': '44054006', 'display': 'Diabetes'}], 'text': 'Diabetes'}, 'subject': {'reference': 'Patient/17598ca24dd-04a58485-e8ac-4b6d-b85f-de4f55bf0787'}, 'encounter': {'reference': 'Encounter/17598ca24de-40d4ed3a-1b8a-4551-a89a-eca22e717f48'}, 'onsetDateTime': '2017-12-18T16:16:32-05:00', 'recordedDate': '2017-12-18T16:16:32-05:00'}}]}\n",
      "\n"
     ]
    }
   ],
   "source": [
    "# Chaining\n",
    "\n",
    "# where reference parameters get really interesting is when you want to query one resource type based on a property of another resource to which its linked\n",
    "# for example, here is a search for Type II Diabetes in female patients\n",
    "response = get(base + '/Condition' + '?' + 'code=http://snomed.info/sct|44054006' + '&' + 'patient:Patient.gender=female' + '&_count=1')\n",
    "peek('Type II Diabetes in female patients:   \\n' + str(response.json()))\n",
    "    \n",
    "# for example, here is a search for blood pressure values for female patients\n",
    "# TODO: fix this query!\n",
    "#response = get(base + '/Observation' + '?' + 'code=http://loinc.org|85354-9' + '&' + 'date=gt2020-01-01' + '&' + 'patient:Patient.gender=female' + '&_count=1')\n",
    "#peek('Blood Pressure Observations for female patients since 2020-01-01:   \\n' + str(response.json()))"
   ]
  },
  {
   "cell_type": "code",
   "execution_count": 42,
   "metadata": {},
   "outputs": [
    {
     "name": "stdout",
     "output_type": "stream",
     "text": [
      "Patients with Type II Diabetes:   \n",
      "{'resourceType': 'Bundle', 'id': '1a9049db-1fd1-45d1-ac2e-674a7b088fdb', 'type': 'searchset', 'total': 823, 'link': [{'relation': 'self', 'url': 'https://cluster1-573846-250babbbe4c3000e15508cd07c1d282b-0000.us-east.containers.appdomain.cloud/open/Patient?_count=1&_has:Condition:patient:code=http://snomed.info/sct%7C44054006&_page=1'}, {'relation': 'next', 'url': 'https://cluster1-573846-250babbbe4c3000e15508cd07c1d282b-0000.us-east.containers.appdomain.cloud/open/Patient?_count=1&_has:Condition:patient:code=http://snomed.info/sct%7C44054006&_page=2'}], 'entry': [{'fullUrl': 'https://cluster1-573846-250babbbe4c3000e15508cd07c1d282b-0000.us-east.containers.appdomain.cloud/open/Patient/17598c0ea1f-f838725e-91e0-4a98-9eb6-f3e7323e9dfa', 'resource': {'resourceType': 'Patient', 'id': '17598c0ea1f-f838725e-91e0-4a98-9eb6-f3e7323e9dfa', 'meta': {'versionId': '1', 'lastUpdated': '2020-11-05T14:13:01.093Z', 'profile': ['http://hl7.org/fhir/us/core/StructureDefinition/us-core-patient']}, 'text': {'status': 'generated', 'div': '<div xmlns=\"http://www.w3.org/1999/xhtml\">Generated by <a href=\"https://github.com/synthetichealth/synthea\">Synthea</a>.Version identifier: v2.6.1-45-gc8c88a7e\\n .   Person seed: 918552551712940604  Population seed: 1604287715314</div>'}, 'extension': [{'extension': [{'url': 'ombCategory', 'valueCoding': {'system': 'urn:oid:2.16.840.1.113883.6.238', 'code': '2106-3', 'display': 'White'}}, {'url': 'text', 'valueString': 'White'}], 'url': 'http://hl7.org/fhir/us/core/StructureDefinition/us-core-race'}, {'extension': [{'url': 'ombCategory', 'valueCoding': {'system': 'urn:oid:2.16.840.1.113883.6.238', 'code': '2186-5', 'display': 'Non Hispanic or Latino'}}, {'url': 'text', 'valueString': 'Non Hispanic or Latino'}], 'url': 'http://hl7.org/fhir/us/core/StructureDefinition/us-core-ethnicity'}, {'url': 'http://hl7.org/fhir/StructureDefinition/patient-mothersMaidenName', 'valueString': 'Willena Metz'}, {'url': 'http://hl7.org/fhir/us/core/StructureDefinition/us-core-birthsex', 'valueCode': 'M'}, {'url': 'http://hl7.org/fhir/StructureDefinition/patient-birthPlace', 'valueAddress': {'city': 'New Bedford', 'state': 'Massachusetts', 'country': 'US'}}, {'url': 'http://synthetichealth.github.io/synthea/disability-adjusted-life-years', 'valueDecimal': 0.7864618124939783}, {'url': 'http://synthetichealth.github.io/synthea/quality-adjusted-life-years', 'valueDecimal': 46.213538187506025}], 'identifier': [{'system': 'https://github.com/synthetichealth/synthea', 'value': '19d3ce2a-5c17-4e26-0d38-20c48b3c3d97'}, {'type': {'coding': [{'system': 'http://terminology.hl7.org/CodeSystem/v2-0203', 'code': 'MR', 'display': 'Medical Record Number'}], 'text': 'Medical Record Number'}, 'system': 'http://hospital.smarthealthit.org', 'value': '19d3ce2a-5c17-4e26-0d38-20c48b3c3d97'}, {'type': {'coding': [{'system': 'http://terminology.hl7.org/CodeSystem/v2-0203', 'code': 'SS', 'display': 'Social Security Number'}], 'text': 'Social Security Number'}, 'system': 'http://hl7.org/fhir/sid/us-ssn', 'value': '999-95-5130'}, {'type': {'coding': [{'system': 'http://terminology.hl7.org/CodeSystem/v2-0203', 'code': 'DL', 'display': \"Driver's License\"}], 'text': \"Driver's License\"}, 'system': 'urn:oid:2.16.840.1.113883.4.3.25', 'value': 'S99912039'}, {'type': {'coding': [{'system': 'http://terminology.hl7.org/CodeSystem/v2-0203', 'code': 'PPN', 'display': 'Passport Number'}], 'text': 'Passport Number'}, 'system': 'http://standardhealthrecord.org/fhir/StructureDefinition/passportNumber', 'value': 'X77369136X'}], 'name': [{'use': 'official', 'family': 'Gerlach', 'given': ['Adam'], 'prefix': ['Mr.']}], 'telecom': [{'system': 'phone', 'value': '555-956-4812', 'use': 'home'}], 'gender': 'male', 'birthDate': '1972-10-22', 'address': [{'extension': [{'extension': [{'url': 'latitude', 'valueDecimal': 41.990912236757794}, {'url': 'longitude', 'valueDecimal': -71.20644811466755}], 'url': 'http://hl7.org/fhir/StructureDefinition/geolocation'}], 'line': ['464 Morissette Tunnel'], 'city': 'Mansfield Center', 'state': 'MA', 'country': 'US'}], 'maritalStatus': {'coding': [{'system': 'http://terminology.hl7.org/CodeSystem/v3-MaritalStatus', 'code': 'M', 'display': 'M'}], 'text': 'M'}, 'multipleBirthBoolean': False, 'communication': [{'language': {'coding': [{'system': 'urn:ietf:bcp:47', 'code': 'en-US', 'display': 'English'}], 'text': 'English'}}]}}]}\n",
      "\n"
     ]
    }
   ],
   "source": [
    "# Reverse chaining\n",
    "\n",
    "# references can be search the other way around via the \"_has\" parameter\n",
    "response = get(base + '/Patient' + '?' + '_has:Condition:patient:code=http://snomed.info/sct|44054006' + '&_count=1')\n",
    "peek('Patients with Type II Diabetes:   \\n' + str(response.json()))\n",
    "\n",
    "# TODO: fix this query!\n",
    "#response = get(base + '/Patient?gender=female' + '&' + '_has:Observation:patient:code=http://loinc.org|85354-9' + '&_count=1')\n",
    "#peek('Female patients with Blood Pressure Observations:   \\n' + str(response.json()))"
   ]
  },
  {
   "cell_type": "code",
   "execution_count": 43,
   "metadata": {},
   "outputs": [
    {
     "name": "stdout",
     "output_type": "stream",
     "text": [
      "Response contains both Conditions and Patients, but only the Conditions are counted in the page size and total:\n",
      "\n",
      "Total: 823\n",
      "Condition: 17598c0ea20-7b251c64-b10a-4942-b72b-3014af79875f\n",
      "Condition: 17598c6d269-b8bd24cc-0280-48f8-a835-db262812387e\n",
      "Patient: 17598c0ea1f-f838725e-91e0-4a98-9eb6-f3e7323e9dfa\n",
      "Patient: 17598c6d269-6c393947-fbeb-44b7-9ec7-fbaede13bc8a\n"
     ]
    }
   ],
   "source": [
    "# Includes\n",
    "\n",
    "# its also possible to get a resource and its related resources back in a single query\n",
    "response = get(base + '/Condition?code=http://snomed.info/sct|44054006' + '&' + '_include=Condition:patient' + '&_count=2')\n",
    "peek('Response contains both Conditions and Patients, but only the Conditions are counted in the page size and total:')\n",
    "print('Total: ' + str(response.json().get('total')))\n",
    "for entry in response.json().get('entry'):\n",
    "    resource = entry.get('resource')\n",
    "    print(resource.get('resourceType'), end=': ')\n",
    "    print(resource.get('id'))\n"
   ]
  },
  {
   "cell_type": "code",
   "execution_count": 44,
   "metadata": {},
   "outputs": [
    {
     "name": "stdout",
     "output_type": "stream",
     "text": [
      "Response contains both Patients and Conditions, but only the Patients are counted in the page size and total:\n",
      "\n",
      "Total: 14394\n",
      "Patient: 17598bf36c7-fedcedc3-b78c-4688-82ef-622e0cc71b22\n",
      "Patient: 17598bf4a5d-185e291b-d0e3-42d3-9b70-eeae60debeec\n",
      "Condition: 17598bf4a5e-b9e99052-25a6-4400-a8b8-da48b8cbb22d\n",
      "Condition: 17598bf4a65-ee99ca87-65c3-4a14-900f-02e90ec4db4a\n",
      "Condition: 17598bf4a66-49d7afde-a7f1-42e4-858d-990f49a2f1ca\n",
      "Condition: 17598bf4a66-39d8080e-27ee-488d-9e35-59275a486457\n",
      "Condition: 17598bf4a6f-b87ac7b6-6faf-49b5-95fd-3eddf4f7494c\n",
      "Condition: 17598bf4a6f-ec9abd6f-ee59-4f71-8fa5-c737ac1be63b\n",
      "Condition: 17598bf4a70-b98f87d7-d469-4b3d-987e-02b78336b82e\n",
      "Condition: 17598bf4a70-6e7537b4-1a90-4a3c-842c-6c5c1db45ad3\n",
      "Condition: 17598bf4a70-ca048f40-02a3-4c24-a1b6-f53ffb3c1667\n",
      "Condition: 17598bf36c8-5800bd67-4c08-4a68-8968-054c670ef2a6\n",
      "Condition: 17598bf36c8-7d2861ad-e607-4122-90b3-74265240aaca\n",
      "Condition: 17598bf36c9-d53628c0-8fc4-4570-bb9a-25af21328712\n",
      "Condition: 17598bf36c9-9dec87f6-1a92-4b8a-b02a-ad1ab3dabd30\n",
      "Condition: 17598bf36c9-5c6f054a-eb02-4eac-ae3e-f02d3472b15c\n",
      "Condition: 17598bf36c9-4fb95111-885e-421f-8a5b-a9942a759020\n",
      "Condition: 17598bf36c9-a8f8bb3d-c403-4fb9-8f18-5a8c0cbe2b78\n",
      "Condition: 17598bf36c9-b1f1fc40-ef31-49b5-8579-4a45cca657b2\n"
     ]
    }
   ],
   "source": [
    "# Reverse Includes\n",
    "\n",
    "response = get(base + '/Patient?gender=female' + '&' + '_revinclude=Condition:patient' + '&_count=2')\n",
    "peek('Response contains both Patients and Conditions, but only the Patients are counted in the page size and total:')\n",
    "print('Total: ' + str(response.json().get('total')))\n",
    "for entry in response.json().get('entry'):\n",
    "    resource = entry.get('resource')\n",
    "    print(resource.get('resourceType'), end=': ')\n",
    "    print(resource.get('id'))"
   ]
  },
  {
   "cell_type": "markdown",
   "metadata": {},
   "source": [
    "## Putting it together"
   ]
  },
  {
   "cell_type": "code",
   "execution_count": 45,
   "metadata": {},
   "outputs": [
    {
     "name": "stdout",
     "output_type": "stream",
     "text": [
      "Patients with Type II Diabetes:  823\n"
     ]
    }
   ],
   "source": [
    "response = get(base + '/Condition' + '?' + 'code=http://snomed.info/sct|44054006' + '&_count=1')\n",
    "print('Patients with Type II Diabetes:  ' + str(response.json().get('total')))"
   ]
  },
  {
   "cell_type": "code",
   "execution_count": 46,
   "metadata": {},
   "outputs": [
    {
     "name": "stdout",
     "output_type": "stream",
     "text": [
      "CHD: \t\t\t848\n",
      "CKD: \t\t\t0\n",
      "AFib: \t\t\t270\n",
      "stroke: \t\t830\n",
      "hypertension: \t\t0\n",
      "heart failure: \t\t54\n",
      "PVD: \t\t\t0\n",
      "arthritis: \t\t38\n",
      "cancer: \t\t0\n",
      "osteoporosis: \t\t634\n",
      "depression: \t\t0\n",
      "asthma: \t\t19\n",
      "COPD: \t\t\t0\n",
      "dementia: \t\t0\n",
      "SMI: \t\t\t0\n",
      "epilepsy: \t\t455\n",
      "hypothyroidism: \t0\n",
      "learning disability: \t0\n"
     ]
    }
   ],
   "source": [
    "# SNOMED concepts for comorbidities of Type II Diabetes\n",
    "#coronary heart disease (CHD), 53741008\n",
    "#chronic kidney disease (CKD), 709044004\n",
    "#atrial fibrillation, 49436004\n",
    "#stroke, 230690007\n",
    "#hypertension, 38341003\n",
    "#heart failure, 84114007\n",
    "#peripheral vascular disease (PVD), 400047006\n",
    "#rheumatoid arthritis, 69896004\n",
    "#Malignant neoplasm, primary (morphologic abnormality), 86049000\n",
    "#Malignant neoplastic disease (disorder), 363346000\n",
    "#osteoporosis, 64859006\n",
    "#depression, 35489007\n",
    "#asthma, 195967001\n",
    "#chronic obstructive pulmonary disease (COPD), 13645005\n",
    "#dementia, 52448006\n",
    "#severe mental illness (SMI), 391193001\n",
    "#epilepsy, 84757009\n",
    "#hypothyroidism, 40930008\n",
    "#learning disability, 1855002\n",
    "\n",
    "print('CHD: \\t\\t\\t' + str(get(base + '/Condition?_summary=count&code=http://snomed.info/sct|' + '53741008').json().get('total')))\n",
    "print('CKD: \\t\\t\\t' + str(get(base + '/Condition?_summary=count&code=http://snomed.info/sct|' + '709044004').json().get('total')))\n",
    "print('AFib: \\t\\t\\t' + str(get(base + '/Condition?_summary=count&code=http://snomed.info/sct|' + '49436004').json().get('total')))\n",
    "print('stroke: \\t\\t' + str(get(base + '/Condition?_summary=count&code=http://snomed.info/sct|' + '230690007').json().get('total')))\n",
    "print('hypertension: \\t\\t' + str(get(base + '/Condition?_summary=count&code=http://snomed.info/sct|' + '38341003').json().get('total')))\n",
    "print('heart failure: \\t\\t' + str(get(base + '/Condition?_summary=count&code=http://snomed.info/sct|' + '84114007').json().get('total')))\n",
    "print('PVD: \\t\\t\\t' + str(get(base + '/Condition?_summary=count&code=http://snomed.info/sct|' + '400047006').json().get('total')))\n",
    "print('arthritis: \\t\\t' + str(get(base + '/Condition?_summary=count&code=http://snomed.info/sct|' + '69896004').json().get('total')))\n",
    "print('cancer: \\t\\t' + str(get(base + '/Condition?_summary=count&code=http://snomed.info/sct|' + '86049000').json().get('total') + get(base + '/Condition?_summary=count&code=http://snomed.info/sct|' + '363346000').json().get('total')))\n",
    "print('osteoporosis: \\t\\t' + str(get(base + '/Condition?_summary=count&code=http://snomed.info/sct|' + '64859006').json().get('total')))\n",
    "print('depression: \\t\\t' + str(get(base + '/Condition?_summary=count&code=http://snomed.info/sct|' + '35489007').json().get('total')))\n",
    "print('asthma: \\t\\t' + str(get(base + '/Condition?_summary=count&code=http://snomed.info/sct|' + '195967001').json().get('total')))\n",
    "print('COPD: \\t\\t\\t' + str(get(base + '/Condition?_summary=count&code=http://snomed.info/sct|' + '13645005').json().get('total')))\n",
    "print('dementia: \\t\\t' + str(get(base + '/Condition?_summary=count&code=http://snomed.info/sct|' + '52448006').json().get('total')))\n",
    "print('SMI: \\t\\t\\t' + str(get(base + '/Condition?_summary=count&code=http://snomed.info/sct|' + '391193001').json().get('total')))\n",
    "print('epilepsy: \\t\\t' + str(get(base + '/Condition?_summary=count&code=http://snomed.info/sct|' + '84757009').json().get('total')))\n",
    "print('hypothyroidism: \\t' + str(get(base + '/Condition?_summary=count&code=http://snomed.info/sct|' + '40930008').json().get('total')))\n",
    "print('learning disability: \\t' + str(get(base + '/Condition?_summary=count&code=http://snomed.info/sct|' + '1855002').json().get('total')))"
   ]
  },
  {
   "cell_type": "code",
   "execution_count": 47,
   "metadata": {},
   "outputs": [
    {
     "name": "stdout",
     "output_type": "stream",
     "text": [
      "CHD:\n",
      "Total: 13\n",
      "1759a06f11a-77b7ee76-ae8d-47a8-9a8e-17e7278e4137, 1759bccd5dc-a4192660-b224-4d88-acf6-bfb538fc0052, 1759c042626-da786c63-fcd4-4a86-aaec-54ec28458861, 1759c7179ab-cdc927fb-ec72-4c10-961e-a424bb8241f3, 1759c906bce-6fcc151d-240e-441f-aa3f-3a8123222d0c, 1759c9d0e32-10946dda-2ac9-4f8e-a6ba-eade9aba6ac8, 175b90993dc-7568b0d3-91ce-4862-be00-7cb99389f323, 175ba73ffc5-86182577-c52f-4c24-b09c-acfdc0043b8c, 175babfca99-31bcaafc-876a-453a-905c-b0482607b2c5, 175bb745e4f-1f3f83a8-6f6c-43da-adf1-fdc5440d88b5, \n",
      "AFib:\n",
      "Total: 15\n",
      "1759b62a9bc-650fc722-8bb1-4a81-827c-95b73a83d7b4, 1759be696c1-fd6cfa13-8e69-454f-ad73-d3b27a051f6f, 1759c1d61ec-500b2890-fcc9-428c-86c2-bcb15a5cbaa5, 1759c4dfa60-d50fbfcb-dda0-4669-82c8-42e73c5bb239, 1759c76bdcd-dfc226a9-37b6-4a72-b303-1613ed7ec838, 175b9f4c2a0-e971ee19-f55e-4319-85bd-57737b23ba26, 175ba948672-bc9ba458-81df-4def-8064-da02406e9f62, 175ba9518ee-29c6291a-ae29-4c62-8283-6c5a1264c404, 175ba9ca813-0a7f0565-f701-4c66-9d11-7b2754dddf6d, 175baa492a2-c7306451-8ede-4d55-9a21-2da3932f036c, \n",
      "stroke:\n",
      "Total: 25\n",
      "175998f05f8-29eebaa9-2179-4d7b-9603-ca9c7cf25e23, 1759b62a9bc-650fc722-8bb1-4a81-827c-95b73a83d7b4, 1759b7179b6-d3d28532-15b8-41db-8781-fbde5c781fab, 1759b91f0bf-5a8bf1c3-7aa4-4d8b-a4d3-83d5097f18c4, 1759bcaf1a7-188d7217-1e1d-4664-bc7a-e07bc658539d, 1759c048c78-1e94db2f-f936-4a12-b427-a89667db2ee8, 1759c363589-398bc35f-8c6c-41f7-8840-572e653a30e5, 1759c3a8255-0131fdfe-0db6-47e3-9cb9-d770efee0012, 1759c4dfa60-d50fbfcb-dda0-4669-82c8-42e73c5bb239, 1759c51e871-214856d2-a5be-47ca-99a7-e9b43b21dc26, \n",
      "heart failure:\n",
      "Total: 2\n",
      "1759b62a9bc-650fc722-8bb1-4a81-827c-95b73a83d7b4, 175b9f4c2a0-e971ee19-f55e-4319-85bd-57737b23ba26, \n",
      "arthritis:\n",
      "Total: 0\n",
      "\n",
      "osteoporosis:\n",
      "Total: 18\n",
      "175998be983-6278fae0-a059-467f-8637-3cbff69d9b4e, 1759b7afa3c-e89ecf98-c0b2-4e69-866b-ef6e89f6fba0, 1759bfa2d15-72ddae5b-292a-40f5-8558-8c062211dd42, 1759c0c9587-ab5bdbf5-56e3-4328-b347-089d17ea59b8, 1759c14d16a-fa7ed5df-d034-4b8c-bc74-296cc4b32c31, 1759c51e871-214856d2-a5be-47ca-99a7-e9b43b21dc26, 1759c64e1fd-de32b308-29ab-4a04-8850-564e574b20fd, 1759c685bbc-bff3331b-d71e-4987-8246-657b653a77c2, 175b98dc155-70c909ff-7125-414d-beff-ff17bd202c40, 175ba10c839-3767563a-d7f3-4dbd-88a4-cf54a587d310, \n",
      "asthma:\n",
      "Total: 0\n",
      "\n",
      "epilepsy:\n",
      "Total: 5\n",
      "1759ba18cd9-617df281-8a07-4a25-919d-d320d53f4da2, 1759c181967-bd8686d0-bcf5-475c-932d-e41f1f3769bc, 175ba3d7afe-c2a50287-ebb2-48b0-90f8-3654e28244c1, 175bae212ec-e15e067c-7a7a-4d60-9635-213cdfcae928, 175bae68708-0423d3ed-55d0-4f64-ac98-717649009b04, \n"
     ]
    }
   ],
   "source": [
    "# Patients with Type II Diabetes *and* comorbidities\n",
    "hasDiabetes = base + '/Patient?_elements=id&_has:Condition:patient:code=http://snomed.info/sct|44054006'\n",
    "\n",
    "def printPatientsWithComorbidity(conceptId):\n",
    "    responseJSON = get(hasDiabetes + '&_has:Condition:patient:code=http://snomed.info/sct|' + conceptId).json()\n",
    "    print('Total: ' + str(responseJSON.get('total')))\n",
    "    if 'entry' in responseJSON:\n",
    "        for entry in responseJSON.get('entry'):\n",
    "            print(entry.get('resource').get('id'), end=\", \")\n",
    "    print('\\n')\n",
    "\n",
    "print('CHD:')\n",
    "printPatientsWithComorbidity('53741008')\n",
    "\n",
    "print('AFib:')\n",
    "printPatientsWithComorbidity('49436004')\n",
    "\n",
    "print('stroke:')\n",
    "printPatientsWithComorbidity('230690007')\n",
    "\n",
    "print('heart failure:')\n",
    "printPatientsWithComorbidity('84114007')\n",
    "\n",
    "print('arthritis:')\n",
    "printPatientsWithComorbidity('69896004')\n",
    "\n",
    "print('osteoporosis:')\n",
    "printPatientsWithComorbidity('64859006')\n",
    "\n",
    "print('asthma:')\n",
    "printPatientsWithComorbidity('195967001')\n",
    "\n",
    "print('epilepsy:')\n",
    "printPatientsWithComorbidity('84757009')"
   ]
  },
  {
   "cell_type": "code",
   "execution_count": 48,
   "metadata": {},
   "outputs": [
    {
     "name": "stdout",
     "output_type": "stream",
     "text": [
      "A1c:{\n",
      "    \"resourceType\": \"Bundle\",\n",
      "    \"id\": \"368e11d8-d68f-4b0c-a3b1-fc52db8bc31f\",\n",
      "    \"meta\": {\n",
      "        \"tag\": [\n",
      "            {\n",
      "                \"system\": \"http://terminology.hl7.org/CodeSystem/v3-ObservationValue\",\n",
      "                \"code\": \"SUBSETTED\",\n",
      "                \"display\": \"subsetted\"\n",
      "            }\n",
      "        ]\n",
      "    },\n",
      "    \"type\": \"searchset\",\n",
      "    \"total\": 55867,\n",
      "    \"link\": [\n",
      "        {\n",
      "            \"relation\": \"self\",\n",
      "            \"url\": \"https://cluster1-573846-250babbbe4c3000e15508cd07c1d282b-0000.us-east.containers.appdomain.cloud/open/Observation?_count=10&code=http://loinc.org%7C4548-4&_elements=code&_page=1\"\n",
      "        },\n",
      "        {\n",
      "            \"relation\": \"next\",\n",
      "            \"url\": \"https://cluster1-573846-250babbbe4c3000e15508cd07c1d282b-0000.us-east.containers.appdomain.cloud/open/Observation?_count=10&code=http://loinc.org%7C4548-4&_elements=code&_page=2\"\n",
      "        }\n",
      "    ],\n",
      "    \"entry\": [\n",
      "        {\n",
      "            \"fullUrl\": \"https://cluster1-573846-250babbbe4c3000e15508cd07c1d282b-0000.us-east.containers.appdomain.cloud/open/Observation/17598bf168a-c24efca7-0079-4bd0-83a7-fbd62b1237a3\",\n",
      "            \"resource\": {\n",
      "                \"resourceType\": \"Observation\",\n",
      "                \"id\": \"17598bf168a-c24efca7-0079-4bd0-83a7-fbd62b1237a3\",\n",
      "                \"meta\": {\n",
      "                    \"versionId\": \"1\",\n",
      "                    \"lastUpdated\": \"2020-11-05T14:11:03.794Z\",\n",
      "                    \"tag\": [\n",
      "                        {\n",
      "                            \"system\": \"http://terminology.hl7.org/CodeSystem/v3-ObservationValue\",\n",
      "                            \"code\": \"SUBSETTED\",\n",
      "                            \"display\": \"subsetted\"\n",
      "                        }\n",
      "                    ]\n",
      "                },\n",
      "                \"status\": \"final\",\n",
      "                \"code\": {\n",
      "                    \"coding\": [\n",
      "                        {\n",
      "                            \"system\": \"http://loinc.org\",\n",
      "                            \"code\": \"4548-4\",\n",
      "                            \"display\": \"Hemoglobin A1c/Hemoglobin.total in Blood\"\n",
      "                        }\n",
      "                    ],\n",
      "\n"
     ]
    }
   ],
   "source": [
    "peek('A1c:' + str(get(base + '/Observation?_elements=code&code=http://loinc.org|' + '4548-4').text), 50)\n"
   ]
  },
  {
   "cell_type": "markdown",
   "metadata": {},
   "source": [
    "## Bulk Export"
   ]
  },
  {
   "cell_type": "code",
   "execution_count": null,
   "metadata": {},
   "outputs": [],
   "source": []
  },
  {
   "cell_type": "code",
   "execution_count": null,
   "metadata": {},
   "outputs": [],
   "source": []
  },
  {
   "cell_type": "code",
   "execution_count": null,
   "metadata": {},
   "outputs": [],
   "source": []
  },
  {
   "cell_type": "code",
   "execution_count": null,
   "metadata": {},
   "outputs": [],
   "source": []
  },
  {
   "cell_type": "code",
   "execution_count": null,
   "metadata": {},
   "outputs": [],
   "source": []
  },
  {
   "cell_type": "code",
   "execution_count": null,
   "metadata": {},
   "outputs": [],
   "source": []
  },
  {
   "cell_type": "markdown",
   "metadata": {},
   "source": [
    "## Using the fhirpy pip module\n",
    "\n",
    "FHIR has a rich library of open source clients and servers for almost every lanuage.\n",
    "For python, there is a module called `fhirpy` which can be found at https://pypi.org/project/fhirpy/"
   ]
  },
  {
   "cell_type": "code",
   "execution_count": null,
   "metadata": {},
   "outputs": [],
   "source": [
    "!pip install fhirpy"
   ]
  },
  {
   "cell_type": "code",
   "execution_count": null,
   "metadata": {},
   "outputs": [],
   "source": [
    "from fhirpy import SyncFHIRClient\n",
    "\n",
    "fhir = SyncFHIRClient(base)"
   ]
  },
  {
   "cell_type": "code",
   "execution_count": null,
   "metadata": {},
   "outputs": [],
   "source": [
    "searchSet = fhir.resources('Practitioner')\n",
    "searchSet.fetch()"
   ]
  }
 ],
 "metadata": {
  "kernelspec": {
   "display_name": "Python 3.7",
   "language": "python",
   "name": "python3"
  },
  "language_info": {
   "codemirror_mode": {
    "name": "ipython",
    "version": 3
   },
   "file_extension": ".py",
   "mimetype": "text/x-python",
   "name": "python",
   "nbconvert_exporter": "python",
   "pygments_lexer": "ipython3",
   "version": "3.7.9"
  }
 },
 "nbformat": 4,
 "nbformat_minor": 1
}
