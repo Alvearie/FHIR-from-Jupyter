{
 "cells": [
  {
   "cell_type": "markdown",
   "metadata": {},
   "source": [
    "# Using the IBM FHIR Server Location Search in Jupyter\n",
    "\n",
    "**Author**: [Paul Bastide](mailto:pbastide@us.ibm.com)\n",
    "\n",
    "The IBM FHIR Server supports FHIR Search with the SearchParameter `near` on the Location API. \n",
    "\n",
    "This notebook shows how to use the IBM FHIR Server examples with Location Search and use folium to render their plots.\n",
    "\n",
    "More advanced demonstrations can be generated from this location data which reference these Locations, and are retrieved using [FHIR Search - Reference](https://www.hl7.org/fhir/search.html#reference)."
   ]
  },
  {
   "cell_type": "code",
   "execution_count": 6,
   "metadata": {},
   "outputs": [
    {
     "name": "stdout",
     "output_type": "stream",
     "text": [
      "Requirement already satisfied: geojson in /opt/conda/envs/Python-3.7-main/lib/python3.7/site-packages (2.5.0)\n",
      "Collecting git+git://github.com/geopandas/geopandas.git\n",
      "  Cloning git://github.com/geopandas/geopandas.git to /tmp/wsuser/pip-req-build-t95wez_c\n",
      "  Running command git clone -q git://github.com/geopandas/geopandas.git /tmp/wsuser/pip-req-build-t95wez_c\n",
      "Requirement already satisfied (use --upgrade to upgrade): geopandas==0.8.0+63.gcdb4282 from git+git://github.com/geopandas/geopandas.git in /opt/conda/envs/Python-3.7-main/lib/python3.7/site-packages\n",
      "Requirement already satisfied: pandas>=0.24.0 in /opt/conda/envs/Python-3.7-main/lib/python3.7/site-packages (from geopandas==0.8.0+63.gcdb4282) (1.0.5)\n",
      "Requirement already satisfied: shapely>=1.6 in /opt/conda/envs/Python-3.7-main/lib/python3.7/site-packages (from geopandas==0.8.0+63.gcdb4282) (1.7.1)\n",
      "Requirement already satisfied: fiona>=1.8 in /opt/conda/envs/Python-3.7-main/lib/python3.7/site-packages (from geopandas==0.8.0+63.gcdb4282) (1.8.18)\n",
      "Requirement already satisfied: pyproj>=2.2.0 in /opt/conda/envs/Python-3.7-main/lib/python3.7/site-packages (from geopandas==0.8.0+63.gcdb4282) (3.0.0.post1)\n",
      "Requirement already satisfied: python-dateutil>=2.6.1 in /opt/conda/envs/Python-3.7-main/lib/python3.7/site-packages (from pandas>=0.24.0->geopandas==0.8.0+63.gcdb4282) (2.8.1)\n",
      "Requirement already satisfied: pytz>=2017.2 in /opt/conda/envs/Python-3.7-main/lib/python3.7/site-packages (from pandas>=0.24.0->geopandas==0.8.0+63.gcdb4282) (2020.1)\n",
      "Requirement already satisfied: numpy>=1.13.3 in /opt/conda/envs/Python-3.7-main/lib/python3.7/site-packages (from pandas>=0.24.0->geopandas==0.8.0+63.gcdb4282) (1.18.5)\n",
      "Requirement already satisfied: munch in /opt/conda/envs/Python-3.7-main/lib/python3.7/site-packages (from fiona>=1.8->geopandas==0.8.0+63.gcdb4282) (2.5.0)\n",
      "Requirement already satisfied: cligj>=0.5 in /opt/conda/envs/Python-3.7-main/lib/python3.7/site-packages (from fiona>=1.8->geopandas==0.8.0+63.gcdb4282) (0.7.0)\n",
      "Requirement already satisfied: click-plugins>=1.0 in /opt/conda/envs/Python-3.7-main/lib/python3.7/site-packages (from fiona>=1.8->geopandas==0.8.0+63.gcdb4282) (1.1.1)\n",
      "Requirement already satisfied: attrs>=17 in /opt/conda/envs/Python-3.7-main/lib/python3.7/site-packages (from fiona>=1.8->geopandas==0.8.0+63.gcdb4282) (19.3.0)\n",
      "Requirement already satisfied: click<8,>=4.0 in /opt/conda/envs/Python-3.7-main/lib/python3.7/site-packages (from fiona>=1.8->geopandas==0.8.0+63.gcdb4282) (7.1.2)\n",
      "Requirement already satisfied: six>=1.7 in /opt/conda/envs/Python-3.7-main/lib/python3.7/site-packages (from fiona>=1.8->geopandas==0.8.0+63.gcdb4282) (1.15.0)\n",
      "Requirement already satisfied: certifi in /opt/conda/envs/Python-3.7-main/lib/python3.7/site-packages (from fiona>=1.8->geopandas==0.8.0+63.gcdb4282) (2020.6.20)\n",
      "Building wheels for collected packages: geopandas\n",
      "  Building wheel for geopandas (setup.py) ... \u001b[?25ldone\n",
      "\u001b[?25h  Created wheel for geopandas: filename=geopandas-0.8.0+63.gcdb4282-py2.py3-none-any.whl size=971092 sha256=78a353d56c98e2f560caa2b65d03ab61cdea4de3f5742f2b010c63deb4b8ebc0\n",
      "  Stored in directory: /tmp/wsuser/pip-ephem-wheel-cache-wabwd2pm/wheels/cf/3e/0b/6475054094c2b1ea054158ac1fdcf749fb92f5b512377e4cf8\n",
      "Successfully built geopandas\n",
      "Collecting folium\n",
      "  Downloading folium-0.11.0-py2.py3-none-any.whl (93 kB)\n",
      "\u001b[K     |████████████████████████████████| 93 kB 3.8 MB/s  eta 0:00:01\n",
      "\u001b[?25hRequirement already satisfied: jinja2>=2.9 in /opt/conda/envs/Python-3.7-main/lib/python3.7/site-packages (from folium) (2.11.2)\n",
      "Requirement already satisfied: numpy in /opt/conda/envs/Python-3.7-main/lib/python3.7/site-packages (from folium) (1.18.5)\n",
      "Collecting branca>=0.3.0\n",
      "  Downloading branca-0.4.1-py3-none-any.whl (24 kB)\n",
      "Requirement already satisfied: requests in /opt/conda/envs/Python-3.7-main/lib/python3.7/site-packages (from folium) (2.24.0)\n",
      "Requirement already satisfied: MarkupSafe>=0.23 in /opt/conda/envs/Python-3.7-main/lib/python3.7/site-packages (from jinja2>=2.9->folium) (1.1.1)\n",
      "Requirement already satisfied: chardet<4,>=3.0.2 in /opt/conda/envs/Python-3.7-main/lib/python3.7/site-packages (from requests->folium) (3.0.4)\n",
      "Requirement already satisfied: certifi>=2017.4.17 in /opt/conda/envs/Python-3.7-main/lib/python3.7/site-packages (from requests->folium) (2020.6.20)\n",
      "Requirement already satisfied: urllib3!=1.25.0,!=1.25.1,<1.26,>=1.21.1 in /opt/conda/envs/Python-3.7-main/lib/python3.7/site-packages (from requests->folium) (1.25.9)\n",
      "Requirement already satisfied: idna<3,>=2.5 in /opt/conda/envs/Python-3.7-main/lib/python3.7/site-packages (from requests->folium) (2.9)\n",
      "Installing collected packages: branca, folium\n",
      "Successfully installed branca-0.4.1 folium-0.11.0\n"
     ]
    }
   ],
   "source": [
    "# This snippet install geojson and geopandas to faciliate rendering in folium. \n",
    "\n",
    "# geojson to process the GIS data\n",
    "!pip3 install geojson\n",
    "\n",
    "#http://geopandas.org/\n",
    "!pip3 install git+git://github.com/geopandas/geopandas.git\n",
    "    \n",
    "!pip3 install folium"
   ]
  },
  {
   "cell_type": "code",
   "execution_count": 14,
   "metadata": {},
   "outputs": [
    {
     "name": "stdout",
     "output_type": "stream",
     "text": [
      "All imports complete\n"
     ]
    }
   ],
   "source": [
    "# The following imports are used in the analysis of the location data:\n",
    "\n",
    "import os\n",
    "\n",
    "# imported to retrieve any secondary data\n",
    "import requests\n",
    "\n",
    "# import pandas to process the data (and json_normalize to use the geojson as a plain dataframe)\n",
    "import pandas as pd\n",
    "import numpy as np\n",
    "\n",
    "# Import to control the output of the choropleth map\n",
    "import matplotlib.cm as cm\n",
    "import matplotlib.colors as colors\n",
    "\n",
    "# standard matplot lib \n",
    "import matplotlib\n",
    "import matplotlib.pyplot as plt\n",
    "from matplotlib.pyplot import figure\n",
    "import matplotlib.dates as mdates\n",
    "\n",
    "# Import Folium to visualize the map\n",
    "import folium\n",
    "from folium import plugins\n",
    "from folium.plugins import HeatMap\n",
    "from folium.plugins import MarkerCluster\n",
    "\n",
    "# Import the GeoPandas utility to process / use establish the polygon area\n",
    "import geopandas \n",
    "\n",
    "# figures out the neighborhoods for each coordinate. \n",
    "from shapely.geometry import Point \n",
    "#(switched to geojson point to more precisely identify location)\n",
    "#from geojson import Point\n",
    "\n",
    "# Imports the Clustering Utilities\n",
    "from sklearn.cluster import DBSCAN\n",
    "from sklearn import metrics\n",
    "from sklearn.datasets import make_blobs\n",
    "from sklearn.preprocessing import StandardScaler\n",
    "from sklearn.cluster import KMeans\n",
    "\n",
    "import json\n",
    "from pandas.io.json import json_normalize\n",
    "\n",
    "# used to process fhir-examples\n",
    "import zipfile, io\n",
    "import urllib3\n",
    "\n",
    "print(\"All imports complete\")\n",
    "\n",
    "# a function to print the top x rows and add a newline\n",
    "def peek(string, line_count=25):\n",
    "    print(os.linesep.join(string.split(os.linesep)[:line_count]) + '\\n')"
   ]
  },
  {
   "cell_type": "markdown",
   "metadata": {},
   "source": [
    "# Query the IBM FHIR Server with near"
   ]
  },
  {
   "cell_type": "code",
   "execution_count": 42,
   "metadata": {},
   "outputs": [
    {
     "name": "stdout",
     "output_type": "stream",
     "text": [
      "{\n",
      "    \"resourceType\": \"Bundle\",\n",
      "    \"id\": \"799c7d13-2eab-4211-b110-051ede0ea3ec\",\n",
      "    \"type\": \"searchset\",\n",
      "    \"total\": 22,\n",
      "    \"link\": [\n",
      "        {\n",
      "            \"relation\": \"self\",\n",
      "            \"url\": \"https://cluster1-573846-250babbbe4c3000e15508cd07c1d282b-0000.us-east.containers.appdomain.cloud/open/Location?_count=200&near=42.373611%7C-71.110558%7C10%7Ckm&_page=1\"\n",
      "        }\n",
      "    ],\n",
      "    \"entry\": [\n",
      "        {\n",
      "            \"fullUrl\": \"https://cluster1-573846-250babbbe4c3000e15508cd07c1d282b-0000.us-east.containers.appdomain.cloud/open/Location/175db647821-ac68d6f1-7d4c-4be7-b176-9d2d033a8a03\",\n",
      "            \"resource\": {\n",
      "                \"resourceType\": \"Location\",\n",
      "                \"id\": \"175db647821-ac68d6f1-7d4c-4be7-b176-9d2d033a8a03\",\n",
      "                \"meta\": {\n",
      "                    \"versionId\": \"1\",\n",
      "                    \"lastUpdated\": \"2020-11-18T12:46:36.065Z\"\n",
      "                },\n",
      "                \"identifier\": [\n",
      "                    {\n",
      "                        \"id\": \"9bb2a06a-358c-4219-8a58-cfc818f05133\",\n",
      "                        \"value\": \"Synthethic Mass - 21\"\n",
      "                    }\n",
      "                ],\n",
      "                \"status\": \"active\",\n",
      "                \"name\": \"Synthetic Mass - Location - 21\",\n",
      "                \"description\": \"A Synthetic Mass Location\",\n",
      "                \"mode\": \"instance\",\n",
      "                \"type\": [\n",
      "                    {\n",
      "                        \"coding\": [\n",
      "                            {\n",
      "                                \"system\": \"http://terminology.hl7.org/CodeSystem/v3-RoleCode\",\n",
      "                                \"code\": \"CVDX\",\n",
      "                                \"display\": \"Cardiovascular diagnostics or therapeutics unit\"\n",
      "                            }\n",
      "                        ],\n",
      "                        \"text\": \"Cardiovascular diagnostics or therapeutics unit\"\n",
      "                    }\n",
      "                ],\n",
      "                \"address\": {\n",
      "                    \"line\": [\n",
      "                        \"51 BLOSSOM STREET\"\n",
      "                    ],\n",
      "                    \"city\": \"BOSTON\",\n",
      "                    \"state\": \"MA\",\n",
      "                    \"postalCode\": \"02114\",\n",
      "                    \"country\": \"USA\"\n",
      "                },\n",
      "                \"physicalType\": {\n",
      "                    \"coding\": [\n",
      "                        {\n",
      "                            \"system\": \"http://terminology.hl7.org/CodeSystem/location-physical-type\",\n",
      "                            \"code\": \"bu\",\n",
      "                            \"display\": \"Building\"\n",
      "                        }\n",
      "                    ],\n",
      "                    \"text\": \"Any Building or structure. This may contain rooms, corridors, wings, etc. It might not have walls, or a roof, but is considered a defined/allocated space.\"\n",
      "                },\n",
      "                \"position\": {\n",
      "                    \"longitude\": -71.06658,\n",
      "                    \"latitude\": 42.36302\n",
      "                }\n",
      "            }\n",
      "        },\n",
      "\n"
     ]
    }
   ],
   "source": [
    "base = 'https://cluster1-573846-250babbbe4c3000e15508cd07c1d282b-0000.us-east.containers.appdomain.cloud/open'\n",
    "\n",
    "# Get the Location using Requests\n",
    "headers = {\n",
    "    'Content-Type': 'application/json'\n",
    "}\n",
    "\n",
    "# Search within 10Km of Cambridge Massachusetts\n",
    "queryParams = {\n",
    "    'near': '42.373611|-71.110558|10|km',\n",
    "    \"_count\" : 200\n",
    "}\n",
    "\n",
    "# Search Parameter = near=\n",
    "resp_loc = requests.get(base + '/Location', headers=headers, params=queryParams)\n",
    "peek(resp_loc.text, 68)"
   ]
  },
  {
   "cell_type": "code",
   "execution_count": 49,
   "metadata": {},
   "outputs": [],
   "source": [
    "# Convert to a list\n",
    "response_loc_json = json.loads(resp_loc.text)\n",
    "\n",
    "location_rows = []\n",
    "for location in response_loc_json['entry']:\n",
    "    row = pd.json_normalize(location)\n",
    "    location_rows.append(row)\n",
    "    \n",
    "# If you are debugging... print(location_rows)"
   ]
  },
  {
   "cell_type": "code",
   "execution_count": 50,
   "metadata": {
    "scrolled": false
   },
   "outputs": [
    {
     "data": {
      "text/html": [
       "<div style=\"width:100%;\"><div style=\"position:relative;width:100%;height:0;padding-bottom:60%;\"><span style=\"color:#565656\">Make this Notebook Trusted to load map: File -> Trust Notebook</span><iframe src=\"about:blank\" style=\"position:absolute;width:100%;height:100%;left:0;top:0;border:none !important;\" data-html=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 onload=\"this.contentDocument.open();this.contentDocument.write(atob(this.getAttribute('data-html')));this.contentDocument.close();\" allowfullscreen webkitallowfullscreen mozallowfullscreen></iframe></div></div>"
      ],
      "text/plain": [
       "<folium.folium.Map at 0x7fdf236ff8d0>"
      ]
     },
     "execution_count": 50,
     "metadata": {},
     "output_type": "execute_result"
    }
   ],
   "source": [
    "# zoom 15 is used to show the groupings\n",
    "cambridge = [ 42.373611, -71.11000]\n",
    "map_cambridge_locs_from_server = folium.Map(location=cambridge, zoom_start=10)\n",
    "\n",
    "# Iterate through the Rows\n",
    "for location_row in location_rows :\n",
    "        # print(location_row)\n",
    "        \n",
    "        # Cast the values into the appropriate types as FOLIUM will die weirdly without it. \n",
    "        lat_inc = float(location_row['resource.position.latitude'])\n",
    "        long_inc = float(location_row['resource.position.longitude'])\n",
    "        name_inc = str(location_row['resource.name'])\n",
    "        \n",
    "        label = folium.Popup(name_inc, parse_html=True)\n",
    "        folium.CircleMarker(\n",
    "            [lat_inc, long_inc],\n",
    "            radius=5,\n",
    "            popup=label,\n",
    "            fill=True,\n",
    "            fill_color='red',\n",
    "            fill_opacity=0.7).add_to(map_cambridge_locs_from_server)\n",
    "        \n",
    "map_cambridge_locs_from_server"
   ]
  },
  {
   "cell_type": "markdown",
   "metadata": {},
   "source": [
    "(C) Copyright IBM Corp. 2020\n",
    "\n",
    "SPDX-License-Identifier: Apache-2.0"
   ]
  }
 ],
 "metadata": {
  "kernelspec": {
   "display_name": "Python 3.7",
   "language": "python",
   "name": "python3"
  },
  "language_info": {
   "codemirror_mode": {
    "name": "ipython",
    "version": 3
   },
   "file_extension": ".py",
   "mimetype": "text/x-python",
   "name": "python",
   "nbconvert_exporter": "python",
   "pygments_lexer": "ipython3",
   "version": "3.7.9"
  }
 },
 "nbformat": 4,
 "nbformat_minor": 2
}
