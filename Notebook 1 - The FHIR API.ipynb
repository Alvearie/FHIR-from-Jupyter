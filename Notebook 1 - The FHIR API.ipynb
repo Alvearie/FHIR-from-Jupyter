{
 "cells": [
  {
   "cell_type": "markdown",
   "metadata": {},
   "source": [
    "<img src=\"https://www.hl7.org/fhir/assets/images/fhir-logo-www.png\" style=\"float: left; width: 25%; margin-bottom: 0.5em;\">"
   ]
  },
  {
   "cell_type": "markdown",
   "metadata": {},
   "source": [
    "- [Section 1: The FHIR HTTP API](#Section-1.-The-FHIR-REST-API)\n",
    "- [Section 2: FHIR Search](#Section-2:-FHIR-Search)\n",
    "- [Section 3: Search paramater types](#Section-3:-Search-parameter-types)\n",
    "- [Section 4: Chaining and includes](#Section-4:-Chaining-and-includes)\n",
    "- [Section 5: Putting it together](#Section-5:-Putting-it-together)\n",
    "- [Section 6: Bulk export](#Section-6:-Bulk-export)"
   ]
  },
  {
   "cell_type": "code",
   "execution_count": 1,
   "metadata": {},
   "outputs": [],
   "source": [
    "# save the base url of the FHIR server\n",
    "base = 'https://cluster1-573846-250babbbe4c3000e15508cd07c1d282b-0000.us-east.containers.appdomain.cloud/open'\n",
    "\n",
    "# setup imports\n",
    "import os\n",
    "from requests import get\n",
    "from requests import post\n",
    "from requests import put\n",
    "from requests import delete\n",
    "from requests import head\n",
    "from IPython.display import IFrame\n",
    "\n",
    "# a function to print the top x rows and add a newline\n",
    "def peek(string, line_count=25):\n",
    "    print(os.linesep.join(string.split(os.linesep)[:line_count]) + '\\n')"
   ]
  },
  {
   "cell_type": "code",
   "execution_count": 2,
   "metadata": {},
   "outputs": [
    {
     "name": "stdout",
     "output_type": "stream",
     "text": [
      "Requirement already satisfied: jsonpointer in /opt/conda/envs/Python-3.7-main/lib/python3.7/site-packages (2.0)\r\n"
     ]
    }
   ],
   "source": [
    "#(Optional)\n",
    "# install jsonpointer\n",
    "!pip install jsonpointer\n",
    "from jsonpointer import resolve_pointer as resolve"
   ]
  },
  {
   "cell_type": "markdown",
   "metadata": {},
   "source": [
    "## Section 1. The FHIR REST API"
   ]
  },
  {
   "cell_type": "code",
   "execution_count": 3,
   "metadata": {},
   "outputs": [
    {
     "data": {
      "text/html": [
       "\n",
       "        <iframe\n",
       "            width=\"1200\"\n",
       "            height=\"330\"\n",
       "            src=\"https://www.hl7.org/fhir/resourcelist.html#tabs\"\n",
       "            frameborder=\"0\"\n",
       "            allowfullscreen\n",
       "        ></iframe>\n",
       "        "
      ],
      "text/plain": [
       "<IPython.lib.display.IFrame at 0x7f2068228090>"
      ]
     },
     "execution_count": 3,
     "metadata": {},
     "output_type": "execute_result"
    }
   ],
   "source": [
    "# HL7 FHIR defines a set of \"resources\" for exchanging information.\n",
    "IFrame('https://www.hl7.org/fhir/resourcelist.html#tabs', width=1200, height=330)"
   ]
  },
  {
   "cell_type": "code",
   "execution_count": 4,
   "metadata": {},
   "outputs": [
    {
     "data": {
      "text/html": [
       "\n",
       "        <iframe\n",
       "            width=\"1200\"\n",
       "            height=\"330\"\n",
       "            src=\"https://www.hl7.org/fhir/http.html#operations\"\n",
       "            frameborder=\"0\"\n",
       "            allowfullscreen\n",
       "        ></iframe>\n",
       "        "
      ],
      "text/plain": [
       "<IPython.lib.display.IFrame at 0x7f2068228bd0>"
      ]
     },
     "execution_count": 4,
     "metadata": {},
     "output_type": "execute_result"
    }
   ],
   "source": [
    "# Each resource type supports the same set of interactions, categorized in the spec into \"instance-level\" and \"type-level\" interactions.\n",
    "IFrame('https://www.hl7.org/fhir/http.html#operations', width=1200, height=330)"
   ]
  },
  {
   "cell_type": "code",
   "execution_count": 5,
   "metadata": {
    "scrolled": false
   },
   "outputs": [
    {
     "name": "stdout",
     "output_type": "stream",
     "text": [
      "Response code: 200\n",
      "Server: IBM FHIR Server 4.5.0\n",
      "Security: {'cors': True}\n",
      "Supported types: \n",
      "  Account: ['read', 'vread', 'history-instance', 'search-type']\n",
      "  DocumentManifest: ['read', 'vread', 'history-instance', 'search-type']\n",
      "  CapabilityStatement: ['read', 'vread', 'history-instance', 'search-type']\n",
      "  Specimen: ['read', 'vread', 'history-instance', 'search-type']\n",
      "  Location: ['read', 'vread', 'history-instance', 'search-type']\n",
      "  MedicinalProductPackaged: ['read', 'vread', 'history-instance', 'search-type']\n",
      "  ExampleScenario: ['read', 'vread', 'history-instance', 'search-type']\n",
      "  MedicinalProductContraindication: ['read', 'vread', 'history-instance', 'search-type']\n",
      "  ImagingStudy: ['read', 'vread', 'history-instance', 'search-type']\n",
      "  EvidenceVariable: ['read', 'vread', 'history-instance', 'search-type']\n",
      "  CoverageEligibilityResponse: ['read', 'vread', 'history-instance', 'search-type']\n",
      "  ImmunizationEvaluation: ['read', 'vread', 'history-instance', 'search-type']\n",
      "  ResearchElementDefinition: ['read', 'vread', 'history-instance', 'search-type']\n",
      "  SubstanceProtein: ['read', 'vread', 'history-instance', 'search-type']\n",
      "  RequestGroup: ['read', 'vread', 'history-instance', 'search-type']\n",
      "  AllergyIntolerance: ['read', 'vread', 'history-instance', 'search-type']\n",
      "  EventDefinition: ['read', 'vread', 'history-instance', 'search-type']\n",
      "  EnrollmentResponse: ['read', 'vread', 'history-instance', 'search-type']\n",
      "  MedicationKnowledge: ['read', 'vread', 'history-instance', 'search-type']\n",
      "  QuestionnaireResponse: ['read', 'vread', 'history-instance', 'search-type']\n",
      "  MedicationAdministration: ['read', 'vread', 'history-instance', 'search-type']\n",
      "  ConceptMap: ['read', 'vread', 'history-instance', 'search-type']\n",
      "  VisionPrescription: ['read', 'vread', 'history-instance', 'search-type']\n",
      "  Endpoint: ['read', 'vread', 'history-instance', 'search-type']\n",
      "  MedicationStatement: ['read', 'vread', 'history-instance', 'search-type']\n",
      "  FamilyMemberHistory: ['read', 'vread', 'history-instance', 'search-type']\n",
      "  Parameters: ['read', 'vread', 'history-instance', 'search-type']\n",
      "  Immunization: ['read', 'vread', 'history-instance', 'search-type']\n",
      "  MedicinalProductAuthorization: ['read', 'vread', 'history-instance', 'search-type']\n",
      "  Library: ['read', 'vread', 'history-instance', 'search-type']\n",
      "  Subscription: ['read', 'vread', 'history-instance', 'search-type']\n",
      "  ChargeItem: ['read', 'vread', 'history-instance', 'search-type']\n",
      "  EffectEvidenceSynthesis: ['read', 'vread', 'history-instance', 'search-type']\n",
      "  MessageDefinition: ['read', 'vread', 'history-instance', 'search-type']\n",
      "  DeviceDefinition: ['read', 'vread', 'history-instance', 'search-type']\n",
      "  ActivityDefinition: ['read', 'vread', 'history-instance', 'search-type']\n",
      "  TerminologyCapabilities: ['read', 'vread', 'history-instance', 'search-type']\n",
      "  Person: ['read', 'vread', 'history-instance', 'search-type']\n",
      "  List: ['read', 'vread', 'history-instance', 'search-type']\n",
      "  MedicinalProductPharmaceutical: ['read', 'vread', 'history-instance', 'search-type']\n",
      "  CommunicationRequest: ['read', 'vread', 'history-instance', 'search-type']\n",
      "  EnrollmentRequest: ['read', 'vread', 'history-instance', 'search-type']\n",
      "  DeviceRequest: ['read', 'vread', 'history-instance', 'search-type']\n",
      "  RiskEvidenceSynthesis: ['read', 'vread', 'history-instance', 'search-type']\n",
      "  MedicinalProductUndesirableEffect: ['read', 'vread', 'history-instance', 'search-type']\n",
      "  ServiceRequest: ['read', 'vread', 'history-instance', 'search-type']\n",
      "  Appointment: ['read', 'vread', 'history-instance', 'search-type']\n",
      "  NutritionOrder: ['read', 'vread', 'history-instance', 'search-type']\n",
      "  Binary: ['read', 'vread', 'history-instance', 'search-type']\n",
      "  Schedule: ['read', 'vread', 'history-instance', 'search-type']\n",
      "  MolecularSequence: ['read', 'vread', 'history-instance', 'search-type']\n",
      "  DetectedIssue: ['read', 'vread', 'history-instance', 'search-type']\n",
      "  TestScript: ['read', 'vread', 'history-instance', 'search-type']\n",
      "  Procedure: ['read', 'vread', 'history-instance', 'search-type']\n",
      "  Evidence: ['read', 'vread', 'history-instance', 'search-type']\n",
      "  MedicationDispense: ['read', 'vread', 'history-instance', 'search-type']\n",
      "  Bundle: ['read', 'vread', 'history-instance', 'search-type']\n",
      "  ExplanationOfBenefit: ['read', 'vread', 'history-instance', 'search-type']\n",
      "  Consent: ['read', 'vread', 'history-instance', 'search-type']\n",
      "  MedicinalProductManufactured: ['read', 'vread', 'history-instance', 'search-type']\n",
      "  CareTeam: ['read', 'vread', 'history-instance', 'search-type']\n",
      "  SearchParameter: ['read', 'vread', 'history-instance', 'search-type']\n",
      "  Invoice: ['read', 'vread', 'history-instance', 'search-type']\n",
      "  Linkage: ['read', 'vread', 'history-instance', 'search-type']\n",
      "  GuidanceResponse: ['read', 'vread', 'history-instance', 'search-type']\n",
      "  OrganizationAffiliation: ['read', 'vread', 'history-instance', 'search-type']\n",
      "  DeviceMetric: ['read', 'vread', 'history-instance', 'search-type']\n",
      "  CarePlan: ['read', 'vread', 'history-instance', 'search-type']\n",
      "  ClinicalImpression: ['read', 'vread', 'history-instance', 'search-type']\n",
      "  DeviceUseStatement: ['read', 'vread', 'history-instance', 'search-type']\n",
      "  Composition: ['read', 'vread', 'history-instance', 'search-type']\n",
      "  InsurancePlan: ['read', 'vread', 'history-instance', 'search-type']\n",
      "  Medication: ['read', 'vread', 'history-instance', 'search-type']\n",
      "  TestReport: ['read', 'vread', 'history-instance', 'search-type']\n",
      "  ValueSet: ['read', 'vread', 'history-instance', 'search-type']\n",
      "  EpisodeOfCare: ['read', 'vread', 'history-instance', 'search-type']\n",
      "  Flag: ['read', 'vread', 'history-instance', 'search-type']\n",
      "  PlanDefinition: ['read', 'vread', 'history-instance', 'search-type']\n",
      "  MedicinalProduct: ['read', 'vread', 'history-instance', 'search-type']\n",
      "  AuditEvent: ['read', 'vread', 'history-instance', 'search-type']\n",
      "  SubstanceSpecification: ['read', 'vread', 'history-instance', 'search-type']\n",
      "  Questionnaire: ['read', 'vread', 'history-instance', 'search-type']\n",
      "  SubstanceReferenceInformation: ['read', 'vread', 'history-instance', 'search-type']\n",
      "  BiologicallyDerivedProduct: ['read', 'vread', 'history-instance', 'search-type']\n",
      "  StructureMap: ['read', 'vread', 'history-instance', 'search-type']\n",
      "  DocumentReference: ['read', 'vread', 'history-instance', 'search-type']\n",
      "  PaymentNotice: ['read', 'vread', 'history-instance', 'search-type']\n",
      "  MessageHeader: ['read', 'vread', 'history-instance', 'search-type']\n",
      "  MeasureReport: ['read', 'vread', 'history-instance', 'search-type']\n",
      "  ChargeItemDefinition: ['read', 'vread', 'history-instance', 'search-type']\n",
      "  Condition: ['read', 'vread', 'history-instance', 'search-type']\n",
      "  OperationOutcome: ['read', 'vread', 'history-instance', 'search-type']\n",
      "  Communication: ['read', 'vread', 'history-instance', 'search-type']\n",
      "  Group: ['read', 'vread', 'history-instance', 'search-type']\n",
      "  MedicationRequest: ['read', 'vread', 'history-instance', 'search-type']\n",
      "  VerificationResult: ['read', 'vread', 'history-instance', 'search-type']\n",
      "  MedicinalProductInteraction: ['read', 'vread', 'history-instance', 'search-type']\n",
      "  SubstancePolymer: ['read', 'vread', 'history-instance', 'search-type']\n",
      "  ResearchSubject: ['read', 'vread', 'history-instance', 'search-type']\n",
      "  Observation: ['read', 'vread', 'history-instance', 'search-type']\n",
      "  Organization: ['read', 'vread', 'history-instance', 'search-type']\n",
      "  CoverageEligibilityRequest: ['read', 'vread', 'history-instance', 'search-type']\n",
      "  ClaimResponse: ['read', 'vread', 'history-instance', 'search-type']\n",
      "  Contract: ['read', 'vread', 'history-instance', 'search-type']\n",
      "  ResearchStudy: ['read', 'vread', 'history-instance', 'search-type']\n",
      "  RelatedPerson: ['read', 'vread', 'history-instance', 'search-type']\n",
      "  Provenance: ['read', 'vread', 'history-instance', 'search-type']\n",
      "  PractitionerRole: ['read', 'vread', 'history-instance', 'search-type']\n",
      "  Measure: ['read', 'vread', 'history-instance', 'search-type']\n",
      "  DiagnosticReport: ['read', 'vread', 'history-instance', 'search-type']\n",
      "  Claim: ['read', 'vread', 'history-instance', 'search-type']\n",
      "  RiskAssessment: ['read', 'vread', 'history-instance', 'search-type']\n",
      "  ObservationDefinition: ['read', 'vread', 'history-instance', 'search-type']\n",
      "  SubstanceNucleicAcid: ['read', 'vread', 'history-instance', 'search-type']\n",
      "  MedicinalProductIngredient: ['read', 'vread', 'history-instance', 'search-type']\n",
      "  HealthcareService: ['read', 'vread', 'history-instance', 'search-type']\n",
      "  Media: ['read', 'vread', 'history-instance', 'search-type']\n",
      "  Practitioner: ['read', 'vread', 'history-instance', 'search-type']\n",
      "  PaymentReconciliation: ['read', 'vread', 'history-instance', 'search-type']\n",
      "  ImplementationGuide: ['read', 'vread', 'history-instance', 'search-type']\n",
      "  Substance: ['read', 'vread', 'history-instance', 'search-type']\n",
      "  Encounter: ['read', 'vread', 'history-instance', 'search-type']\n",
      "  GraphDefinition: ['read', 'vread', 'history-instance', 'search-type']\n",
      "  AppointmentResponse: ['read', 'vread', 'history-instance', 'search-type']\n",
      "  Task: ['read', 'vread', 'history-instance', 'search-type']\n",
      "  Patient: ['read', 'vread', 'history-instance', 'search-type']\n",
      "  Basic: ['read', 'vread', 'history-instance', 'search-type']\n",
      "  Slot: ['read', 'vread', 'history-instance', 'search-type']\n",
      "  SubstanceSourceMaterial: ['read', 'vread', 'history-instance', 'search-type']\n",
      "  Goal: ['read', 'vread', 'history-instance', 'search-type']\n",
      "  ResearchDefinition: ['read', 'vread', 'history-instance', 'search-type']\n",
      "  SupplyDelivery: ['read', 'vread', 'history-instance', 'search-type']\n",
      "  AdverseEvent: ['read', 'vread', 'history-instance', 'search-type']\n",
      "  OperationDefinition: ['read', 'vread', 'history-instance', 'search-type']\n",
      "  SupplyRequest: ['read', 'vread', 'history-instance', 'search-type']\n",
      "  CompartmentDefinition: ['read', 'vread', 'history-instance', 'search-type']\n",
      "  StructureDefinition: ['read', 'vread', 'history-instance', 'search-type']\n",
      "  BodyStructure: ['read', 'vread', 'history-instance', 'search-type']\n",
      "  SpecimenDefinition: ['read', 'vread', 'history-instance', 'search-type']\n",
      "  CodeSystem: ['read', 'vread', 'history-instance', 'search-type']\n",
      "  Device: ['read', 'vread', 'history-instance', 'search-type']\n",
      "  NamingSystem: ['read', 'vread', 'history-instance', 'search-type']\n",
      "  ImmunizationRecommendation: ['read', 'vread', 'history-instance', 'search-type']\n",
      "  CatalogEntry: ['read', 'vread', 'history-instance', 'search-type']\n",
      "  MedicinalProductIndication: ['read', 'vread', 'history-instance', 'search-type']\n",
      "  Coverage: ['read', 'vread', 'history-instance', 'search-type']\n"
     ]
    }
   ],
   "source": [
    "# This notebook focuses on the FHIR Search API, but first we use the \"capabilities\" interaction to learn about our target server.\n",
    "\n",
    "# retrieve the server \"CapabilityStatement\" and print the important bits\n",
    "response = get(base + '/metadata')\n",
    "print('Response code: ' + str(response.status_code))\n",
    "result = response.json()\n",
    "print('Server: ' + result['name'] + ' ' + result['version'])\n",
    "print('Security: ' + str(result['rest'][0]['security']))\n",
    "resources = result['rest'][0]['resource']\n",
    "\n",
    "supported_types = {r['type']: [i['code'] for i in r['interaction']] for r in resources}\n",
    "\n",
    "print('Supported types: ')\n",
    "for k,v in supported_types.items():\n",
    "    print('  ' + k + ': ' + str(v))"
   ]
  },
  {
   "cell_type": "markdown",
   "metadata": {},
   "source": [
    "## Section 2: FHIR Search"
   ]
  },
  {
   "cell_type": "code",
   "execution_count": 6,
   "metadata": {},
   "outputs": [
    {
     "name": "stdout",
     "output_type": "stream",
     "text": [
      "Response code: 200\n",
      "Response body: \n",
      "{\n",
      "    \"resourceType\": \"Bundle\",\n",
      "    \"id\": \"3dae0c87-6cbc-465a-8eea-e6768dd09280\",\n",
      "    \"type\": \"searchset\",\n",
      "    \"total\": 32459,\n",
      "    \"link\": [\n",
      "        {\n",
      "            \"relation\": \"self\",\n",
      "            \"url\": \"https://cluster1-573846-250babbbe4c3000e15508cd07c1d282b-0000.us-east.containers.appdomain.cloud/open/Patient?_count=10&_page=1\"\n",
      "        },\n",
      "        {\n",
      "            \"relation\": \"next\",\n",
      "            \"url\": \"https://cluster1-573846-250babbbe4c3000e15508cd07c1d282b-0000.us-east.containers.appdomain.cloud/open/Patient?_count=10&_page=2\"\n",
      "        }\n",
      "    ],\n",
      "    \"entry\": [\n",
      "        {\n",
      "            \"fullUrl\": \"https://cluster1-573846-250babbbe4c3000e15508cd07c1d282b-0000.us-east.containers.appdomain.cloud/open/Patient/17598bed122-d90e0186-8458-4482-a580-5b18b554ed3c\",\n",
      "            \"resource\": {\n",
      "                \"resourceType\": \"Patient\",\n",
      "                \"id\": \"17598bed122-d90e0186-8458-4482-a580-5b18b554ed3c\",\n",
      "                \"meta\": {\n",
      "                    \"versionId\": \"1\",\n",
      "                    \"lastUpdated\": \"2020-11-05T14:10:43.787Z\",\n",
      "\n",
      "Number of entries: 10\n"
     ]
    }
   ],
   "source": [
    "# Now that we know our server supports the \"search-type\" interaction on all resource types, lets start working with the Patient endpoint.\n",
    "\n",
    "# query for all Patient resources, then print the HTTP status code and the first 25 lines of the response\n",
    "response = get(base + '/Patient')\n",
    "print('Response code: ' + str(response.status_code))\n",
    "peek('Response body: \\n' + response.text)\n",
    "print('Number of entries: ' + str(len(response.json().get('entry'))))\n",
    "\n",
    "# technically you've now performed your first FHIR \"search\" (just with no parameters)"
   ]
  },
  {
   "cell_type": "code",
   "execution_count": 7,
   "metadata": {},
   "outputs": [
    {
     "name": "stdout",
     "output_type": "stream",
     "text": [
      "Second page: \n",
      "{\n",
      "    \"resourceType\": \"Bundle\",\n",
      "    \"id\": \"e4907718-ea58-45e6-b826-6dedc0123392\",\n",
      "    \"type\": \"searchset\",\n",
      "    \"total\": 32459,\n",
      "    \"link\": [\n",
      "        {\n",
      "            \"relation\": \"self\",\n",
      "            \"url\": \"https://cluster1-573846-250babbbe4c3000e15508cd07c1d282b-0000.us-east.containers.appdomain.cloud/open/Patient?_count=10&_page=2\"\n",
      "        },\n",
      "        {\n",
      "            \"relation\": \"next\",\n",
      "            \"url\": \"https://cluster1-573846-250babbbe4c3000e15508cd07c1d282b-0000.us-east.containers.appdomain.cloud/open/Patient?_count=10&_page=3\"\n",
      "        },\n",
      "        {\n",
      "            \"relation\": \"previous\",\n",
      "            \"url\": \"https://cluster1-573846-250babbbe4c3000e15508cd07c1d282b-0000.us-east.containers.appdomain.cloud/open/Patient?_count=10&_page=1\"\n",
      "        }\n",
      "    ],\n",
      "    \"entry\": [\n",
      "        {\n",
      "            \"fullUrl\": \"https://cluster1-573846-250babbbe4c3000e15508cd07c1d282b-0000.us-east.containers.appdomain.cloud/open/Patient/17598bf809c-1a099ca4-cdb9-4837-8692-51338082cd97\",\n",
      "            \"resource\": {\n",
      "                \"resourceType\": \"Patient\",\n",
      "\n",
      "Number of entries: 10\n"
     ]
    }
   ],
   "source": [
    "# note that results are paged and the \"link\" field in the response Bundle contains links to the previous, current, and next page of results\n",
    "for link in response.json().get('link'):\n",
    "    if link.get('relation') == 'next':\n",
    "        page2 = get(link.get('url'))        \n",
    "peek('Second page: \\n' + page2.text)\n",
    "print('Number of entries: ' + str(len(response.json().get('entry'))))"
   ]
  },
  {
   "cell_type": "code",
   "execution_count": 8,
   "metadata": {},
   "outputs": [
    {
     "name": "stdout",
     "output_type": "stream",
     "text": [
      "Single resource per page: \n",
      "{\n",
      "    \"resourceType\": \"Bundle\",\n",
      "    \"id\": \"e4d3d60c-ee08-4485-9fd7-99d4badc5e5b\",\n",
      "    \"type\": \"searchset\",\n",
      "    \"total\": 32459,\n",
      "    \"link\": [\n",
      "        {\n",
      "            \"relation\": \"self\",\n",
      "            \"url\": \"https://cluster1-573846-250babbbe4c3000e15508cd07c1d282b-0000.us-east.containers.appdomain.cloud/open/Patient?_count=1&_page=1\"\n",
      "        },\n",
      "        {\n",
      "            \"relation\": \"next\",\n",
      "            \"url\": \"https://cluster1-573846-250babbbe4c3000e15508cd07c1d282b-0000.us-east.containers.appdomain.cloud/open/Patient?_count=1&_page=2\"\n",
      "        }\n",
      "    ],\n",
      "    \"entry\": [\n",
      "        {\n",
      "            \"fullUrl\": \"https://cluster1-573846-250babbbe4c3000e15508cd07c1d282b-0000.us-east.containers.appdomain.cloud/open/Patient/17598bed122-d90e0186-8458-4482-a580-5b18b554ed3c\",\n",
      "            \"resource\": {\n",
      "                \"resourceType\": \"Patient\",\n",
      "                \"id\": \"17598bed122-d90e0186-8458-4482-a580-5b18b554ed3c\",\n",
      "                \"meta\": {\n",
      "                    \"versionId\": \"1\",\n",
      "                    \"lastUpdated\": \"2020-11-05T14:10:43.787Z\",\n",
      "\n",
      "Number of entries: 1\n"
     ]
    }
   ],
   "source": [
    "# we can control the number of resources on each page by passing the _count parameter\n",
    "response = get(base + '/Patient?_count=1')\n",
    "peek('Single resource per page: \\n' + response.text)\n",
    "print('Number of entries: ' + str(len(response.json().get('entry'))))"
   ]
  },
  {
   "cell_type": "code",
   "execution_count": 9,
   "metadata": {},
   "outputs": [
    {
     "name": "stdout",
     "output_type": "stream",
     "text": [
      "{\n",
      "    \"resourceType\": \"Bundle\",\n",
      "    \"id\": \"c7b10883-9e40-494d-83ba-49b11619f525\",\n",
      "    \"meta\": {\n",
      "        \"tag\": [\n",
      "            {\n",
      "                \"system\": \"http://terminology.hl7.org/CodeSystem/v3-ObservationValue\",\n",
      "                \"code\": \"SUBSETTED\",\n",
      "                \"display\": \"subsetted\"\n",
      "            }\n",
      "        ]\n",
      "    },\n",
      "    \"type\": \"searchset\",\n",
      "    \"total\": 32459,\n",
      "    \"link\": [\n",
      "        {\n",
      "            \"relation\": \"self\",\n",
      "            \"url\": \"https://cluster1-573846-250babbbe4c3000e15508cd07c1d282b-0000.us-east.containers.appdomain.cloud/open/Patient?_count=10&_summary=count&_page=1\"\n",
      "        }\n",
      "    ]\n",
      "}\n"
     ]
    }
   ],
   "source": [
    "# if you're only interested in the count, you can specify that via either\n",
    "# A. _count=0 (0 results per page); or\n",
    "# B. _summary=count\n",
    "\n",
    "print(get(base + '/Patient' + '?' + '_summary=count').text)"
   ]
  },
  {
   "cell_type": "code",
   "execution_count": 10,
   "metadata": {},
   "outputs": [
    {
     "data": {
      "text/html": [
       "\n",
       "        <iframe\n",
       "            width=\"1200\"\n",
       "            height=\"330\"\n",
       "            src=\"https://hl7.org/fhir/patient.html#resource\"\n",
       "            frameborder=\"0\"\n",
       "            allowfullscreen\n",
       "        ></iframe>\n",
       "        "
      ],
      "text/plain": [
       "<IPython.lib.display.IFrame at 0x7f2068542cd0>"
      ]
     },
     "execution_count": 10,
     "metadata": {},
     "output_type": "execute_result"
    }
   ],
   "source": [
    "# if you want a lot of results per page, you can reduce the amount of data returned via the _summary or _elements parameters\n",
    "\n",
    "# first, lets review the structure of the Patient resource\n",
    "IFrame('https://hl7.org/fhir/patient.html#resource', width=1200, height=330)"
   ]
  },
  {
   "cell_type": "code",
   "execution_count": 11,
   "metadata": {},
   "outputs": [
    {
     "name": "stdout",
     "output_type": "stream",
     "text": [
      "Normal: \n",
      "dict_keys(['resourceType', 'id', 'meta', 'text', 'extension', 'identifier', 'name', 'telecom', 'gender', 'birthDate', 'address', 'maritalStatus', 'multipleBirthBoolean', 'communication'])\n",
      "\n",
      "Summary: \n",
      "dict_keys(['resourceType', 'id', 'meta', 'identifier', 'name', 'telecom', 'gender', 'birthDate', 'address'])\n",
      "\n",
      "Elements: \n",
      "dict_keys(['resourceType', 'id', 'meta', 'gender'])\n",
      "\n"
     ]
    }
   ],
   "source": [
    "# print the list of top-level elements in the first Patient resource returned\n",
    "response = get(base + '/Patient')\n",
    "peek('Normal: \\n' + str(response.json().get('entry')[0].get('resource').keys()))\n",
    "\n",
    "# look for the Σ flag in the Resource Content section of the resource page in the specification for what elements are considered \"summary\" elements \n",
    "response = get(base + '/Patient?' + '_summary=true')\n",
    "peek('Summary: \\n' + str(response.json().get('entry')[0].get('resource').keys()))\n",
    "\n",
    "# need more control?\n",
    "# you can use the _elements parameter to ask for specific fields back (although the server should include required fields and modifier fields as well)\n",
    "response = get(base + '/Patient?' + '_elements=id,gender')\n",
    "peek('Elements: \\n' + str(response.json().get('entry')[0].get('resource').keys()))"
   ]
  },
  {
   "cell_type": "code",
   "execution_count": 12,
   "metadata": {},
   "outputs": [
    {
     "name": "stdout",
     "output_type": "stream",
     "text": [
      "Normal: \t892360 bytes \t(0.396416 s)\n",
      "Summary: \t516647 bytes \t(0.331421 s)\n",
      "Elements: \t104260 bytes \t(0.322297 s)\n"
     ]
    }
   ],
   "source": [
    "# this can add up!\n",
    "\n",
    "response = get(base + '/Patient?_count=100')\n",
    "print('Normal: \\t' + str(len(response.content)) + ' bytes \\t(' + str(response.elapsed.total_seconds()) + ' s)')\n",
    "\n",
    "response = get(base + '/Patient?_count=100&_summary=true')\n",
    "print('Summary: \\t' + str(len(response.content)) + ' bytes \\t(' + str(response.elapsed.total_seconds()) + ' s)')\n",
    "\n",
    "response = get(base + '/Patient?_count=100&_elements=id,gender,birthDate')\n",
    "print('Elements: \\t' + str(len(response.content)) + ' bytes \\t(' + str(response.elapsed.total_seconds()) + ' s)')\n"
   ]
  },
  {
   "cell_type": "code",
   "execution_count": 13,
   "metadata": {
    "scrolled": false
   },
   "outputs": [
    {
     "data": {
      "text/html": [
       "\n",
       "        <iframe\n",
       "            width=\"1200\"\n",
       "            height=\"500\"\n",
       "            src=\"https://www.hl7.org/fhir/patient.html#search\"\n",
       "            frameborder=\"0\"\n",
       "            allowfullscreen\n",
       "        ></iframe>\n",
       "        "
      ],
      "text/plain": [
       "<IPython.lib.display.IFrame at 0x7f20610ce7d0>"
      ]
     },
     "execution_count": 13,
     "metadata": {},
     "output_type": "execute_result"
    }
   ],
   "source": [
    "# now add some search parameters\n",
    "\n",
    "# each FHIR resource type has its own set of parameters; find them toward the bottom of the page for that resource type in the specification\n",
    "# for example, for the Patient resource type, see https://www.hl7.org/fhir/patient.html#search\n",
    "IFrame('https://www.hl7.org/fhir/patient.html#search', width=1200, height=500)"
   ]
  },
  {
   "cell_type": "code",
   "execution_count": 14,
   "metadata": {},
   "outputs": [
    {
     "name": "stdout",
     "output_type": "stream",
     "text": [
      "Response code: 200\n",
      "Response body: \n",
      "{\n",
      "    \"resourceType\": \"Bundle\",\n",
      "    \"id\": \"eb159d1b-bf51-40ff-b992-4722682ddc80\",\n",
      "    \"type\": \"searchset\",\n",
      "    \"total\": 15323,\n",
      "    \"link\": [\n",
      "        {\n",
      "            \"relation\": \"self\",\n",
      "            \"url\": \"https://cluster1-573846-250babbbe4c3000e15508cd07c1d282b-0000.us-east.containers.appdomain.cloud/open/Patient?_count=10&gender=male&_page=1\"\n",
      "        },\n",
      "        {\n",
      "            \"relation\": \"next\",\n",
      "            \"url\": \"https://cluster1-573846-250babbbe4c3000e15508cd07c1d282b-0000.us-east.containers.appdomain.cloud/open/Patient?_count=10&gender=male&_page=2\"\n",
      "        }\n",
      "    ],\n",
      "    \"entry\": [\n",
      "        {\n",
      "            \"fullUrl\": \"https://cluster1-573846-250babbbe4c3000e15508cd07c1d282b-0000.us-east.containers.appdomain.cloud/open/Patient/17598bed122-d90e0186-8458-4482-a580-5b18b554ed3c\",\n",
      "            \"resource\": {\n",
      "                \"resourceType\": \"Patient\",\n",
      "                \"id\": \"17598bed122-d90e0186-8458-4482-a580-5b18b554ed3c\",\n",
      "                \"meta\": {\n",
      "                    \"versionId\": \"1\",\n",
      "                    \"lastUpdated\": \"2020-11-05T14:10:43.787Z\",\n",
      "\n"
     ]
    }
   ],
   "source": [
    "# for example, lets use the search parameter named \"gender\"\n",
    "response = get(base + '/Patient' + '?' + 'gender=male')\n",
    "print('Response code: ' + str(response.status_code))\n",
    "peek('Response body: \\n' + response.text)"
   ]
  },
  {
   "cell_type": "code",
   "execution_count": 15,
   "metadata": {},
   "outputs": [
    {
     "name": "stdout",
     "output_type": "stream",
     "text": [
      "male:   \t15323\n",
      "female: \t17136\n",
      "missing gender: 0\n"
     ]
    }
   ],
   "source": [
    "# pro tip: combine your search query with _summary=count to explore the data\n",
    "print('male:   \\t' + str(get(base + '/Patient' + '?' + 'gender=male' + '&' + '_summary=count').json().get('total')))\n",
    "print('female: \\t' + str(get(base + '/Patient' + '?' + 'gender=female' + '&' + '_summary=count').json().get('total')))\n",
    "\n",
    "# use the \"missing\" modifier to look for resources that do NOT have a value for the target parameter\n",
    "response = get(base + '/Patient' + '?' + 'gender:missing=true' + '&' + '_summary=count')\n",
    "print('missing gender: ' + str(response.json().get('total')))"
   ]
  },
  {
   "cell_type": "markdown",
   "metadata": {},
   "source": [
    "## Section 3: Search parameter types"
   ]
  },
  {
   "cell_type": "code",
   "execution_count": 16,
   "metadata": {},
   "outputs": [
    {
     "name": "stdout",
     "output_type": "stream",
     "text": [
      "male:\n",
      "{\n",
      "    \"resourceType\": \"Bundle\",\n",
      "    \"id\": \"810abe80-fa63-42df-9711-d511be1ac3ba\",\n",
      "    \"meta\": {\n",
      "        \"tag\": [\n",
      "            {\n",
      "                \"system\": \"http://terminology.hl7.org/CodeSystem/v3-ObservationValue\",\n",
      "                \"code\": \"SUBSETTED\",\n",
      "                \"display\": \"subsetted\"\n",
      "            }\n",
      "        ]\n",
      "    },\n",
      "    \"type\": \"searchset\",\n",
      "    \"total\": 15323,\n",
      "    \"link\": [\n",
      "        {\n",
      "            \"relation\": \"self\",\n",
      "            \"url\": \"https://cluster1-573846-250babbbe4c3000e15508cd07c1d282b-0000.us-east.containers.appdomain.cloud/open/Patient?_count=1&gender=http://hl7.org/fhir/administrative-gender%7Cmale&_elements=gender&_page=1\"\n",
      "        },\n",
      "        {\n",
      "            \"relation\": \"next\",\n",
      "            \"url\": \"https://cluster1-573846-250babbbe4c3000e15508cd07c1d282b-0000.us-east.containers.appdomain.cloud/open/Patient?_count=1&gender=http://hl7.org/fhir/administrative-gender%7Cmale&_elements=gender&_page=2\"\n",
      "        }\n",
      "    ],\n",
      "    \"entry\": [\n",
      "        {\n",
      "            \"fullUrl\": \"https://cluster1-573846-250babbbe4c3000e15508cd07c1d282b-0000.us-east.containers.appdomain.cloud/open/Patient/17598bed122-d90e0186-8458-4482-a580-5b18b554ed3c\",\n",
      "            \"resource\": {\n",
      "                \"resourceType\": \"Patient\",\n",
      "                \"id\": \"17598bed122-d90e0186-8458-4482-a580-5b18b554ed3c\",\n",
      "                \"meta\": {\n",
      "                    \"versionId\": \"1\",\n",
      "                    \"lastUpdated\": \"2020-11-05T14:10:43.787Z\",\n",
      "                    \"profile\": [\n",
      "                        \"http://hl7.org/fhir/us/core/StructureDefinition/us-core-patient\"\n",
      "                    ],\n",
      "                    \"tag\": [\n",
      "                        {\n",
      "                            \"system\": \"http://terminology.hl7.org/CodeSystem/v3-ObservationValue\",\n",
      "                            \"code\": \"SUBSETTED\",\n",
      "                            \"display\": \"subsetted\"\n",
      "                        }\n",
      "                    ]\n",
      "                },\n",
      "                \"gender\": \"male\"\n",
      "            }\n",
      "        }\n",
      "    ]\n",
      "}\n"
     ]
    }
   ],
   "source": [
    "# search parameters have types\n",
    "\n",
    "# gender is considered a \"token\" search parameter\n",
    "\n",
    "# Token search\n",
    "# this parameter type is common for 'coded' values (Code, Coding, and CodeableConcept) and identifiers\n",
    "# token values consist of a system and a code, although sometimes the system is implicit (like in the case of gender)\n",
    "# users can search on the system and code (system|code), the code alone (code), system-less codes (|code), or even the system alone (system|)\n",
    "response = get(base + '/Patient' + '?' + 'gender=http://hl7.org/fhir/administrative-gender|male' + '&_count=1&_elements=gender')\n",
    "print('male:\\n' + response.text)\n",
    "\n",
    "\n",
    "# there are also Number, Date/DateTime, String, Reference, Quantity, URI, and Composite parameter types"
   ]
  },
  {
   "cell_type": "code",
   "execution_count": 17,
   "metadata": {},
   "outputs": [
    {
     "name": "stdout",
     "output_type": "stream",
     "text": [
      "Smiths:\n",
      "17598d8e9df-706d630f-784d-473d-a0d2-37af26e3c36e: Smitham\n",
      "17598dc69c4-fe632367-ce4f-413b-9639-5f409631fdbd: Smith\n",
      "17598e7faf2-37231ae2-90fa-4668-90cc-9d413e44ff73: Smitham\n",
      "17598fe2d81-8588df6c-a4e5-486f-8de7-f2a457e1ecbb: Smitham\n",
      "175991c2ff1-8b5aef81-6ed2-4173-8ee0-3a38612ece43: Smitham\n",
      "175991de90e-b9364b28-a200-4d19-9bba-1cd4d5d9f037: Heller, Smith\n",
      "175992f962b-159acf20-e5d5-4370-bf38-8e02eef6d761: Smith\n",
      "17599326aa9-40e01d7e-1d5b-4f1b-9bed-9c0a0b031df1: Smith\n",
      "175993420d0-eb6a0968-589a-4a71-a010-19e84056c44e: Smitham\n",
      "17599375dc6-21078467-b048-499a-b8c4-9f5ddfc6ffd3: Haley, Smitham\n"
     ]
    }
   ],
   "source": [
    "# String search\n",
    "response = get(base + '/Patient' + '?' + 'family=Smith' + '&_elements=name')\n",
    "print('Smiths:')\n",
    "for entry in response.json().get('entry'):\n",
    "    resource = entry.get('resource')\n",
    "    print(resource.get('id'), end=': ')\n",
    "    print(', '.join(map(lambda n: n.get('family'), resource.get('name'))))\n",
    "        "
   ]
  },
  {
   "cell_type": "code",
   "execution_count": 18,
   "metadata": {},
   "outputs": [
    {
     "name": "stdout",
     "output_type": "stream",
     "text": [
      "Smiths:\n",
      "17598dc69c4-fe632367-ce4f-413b-9639-5f409631fdbd: Smith\n",
      "175991de90e-b9364b28-a200-4d19-9bba-1cd4d5d9f037: Heller, Smith\n",
      "175992f962b-159acf20-e5d5-4370-bf38-8e02eef6d761: Smith\n",
      "17599326aa9-40e01d7e-1d5b-4f1b-9bed-9c0a0b031df1: Smith\n",
      "175993c2874-5f898109-a18d-4d6e-8cfb-ecd69eb37862: Smith\n",
      "17599522520-bdb4311f-3765-45f2-bd5d-1f1aca14a931: Smith\n",
      "17599539a99-bccf02f3-57ef-4399-a4c6-0296aa8356c1: Purdy, Smith\n",
      "1759954cc00-9def2bdc-a444-4e84-bf77-a0e79e449d19: Rosenbaum, Smith\n",
      "175995a5564-869be93e-c7c2-4cab-9951-d15063f39975: Wintheiser, Smith\n",
      "175995ad366-3722d3d9-c56e-4d06-ba32-1b662e18bfbe: Wehner, Smith\n",
      "\n",
      "Skis:\n",
      "17598bf6496-92b7682f-d882-4b3c-8e37-178b11cde674: Gusikowski, West\n",
      "17598c069d0-3b1b68c5-13e0-4c46-b929-1fea6d13454f: Osinski\n",
      "17598c0689e-e60c055e-c166-406d-a9b0-f6d113292dcc: Gutkowski\n",
      "17598c10cbc-642eb489-8d83-4220-8591-a31adc7a9189: Gusikowski\n",
      "17598c3ebc7-63c73ac0-7cc7-492f-b1f5-661c9da0b95e: Gulgowski\n",
      "17598c45f73-e1ac3687-ae53-4591-b9f7-65deb78c8a1b: Jaskolski\n",
      "17598c61295-bf40a9c1-ebc2-46cb-b4e5-c1ea732c0960: Gusikowski\n",
      "17598c88bd6-e98052ab-8f37-46c5-ade7-c3b441573a90: Swaniawski\n",
      "17598cbac2b-5b5193d4-9b35-48a9-88b1-b2912fd0c896: Jaskolski, Erdman\n",
      "17598ccda87-246aadea-59a6-4287-a472-7a9117e89059: Powlowski\n"
     ]
    }
   ],
   "source": [
    "# wait, \"Smitham\" !?\n",
    "\n",
    "# string search performs a case-insensitive \"begins-with\" search by default!\n",
    "# use the modifier \":exact\" if you want exact matches (and improved performance)\n",
    "response = get(base + '/Patient' + '?' + 'family:exact=Smith' + '&_elements=name')\n",
    "print('Smiths:')\n",
    "for entry in response.json().get('entry'):\n",
    "    resource = entry.get('resource')\n",
    "    print(resource.get('id'), end=': ')\n",
    "    print(', '.join(map(lambda n: n.get('family'), resource.get('name'))))\n",
    "print()\n",
    "\n",
    "# string search also has a \":contains\" modifier\n",
    "response = get(base + '/Patient' + '?' + 'family:contains=ski' + '&_elements=name')\n",
    "print('Skis:')\n",
    "for entry in response.json().get('entry'):\n",
    "    resource = entry.get('resource')\n",
    "    print(resource.get('id'), end=': ')\n",
    "    print(', '.join(map(lambda n: n.get('family'), resource.get('name'))))\n"
   ]
  },
  {
   "cell_type": "code",
   "execution_count": 19,
   "metadata": {},
   "outputs": [
    {
     "name": "stdout",
     "output_type": "stream",
     "text": [
      "Born in 1984:\n",
      "17598c01014-694ba51f-a02d-4686-b956-7d6eb9d7e5fa: 1984-12-05\n",
      "17598c330b0-817d8bac-b275-449d-8163-0ae095d6a7d5: 1984-03-23\n",
      "17598d78d31-639632e7-4f79-4b1a-81e8-f462de2c5912: 1984-09-18\n",
      "17598dc812f-37fd8fe9-e900-4f11-b166-5515fd7b4125: 1984-12-26\n",
      "17598dda658-9243965e-f6e2-4909-b2f6-89dcd7dcf799: 1984-05-04\n",
      "17598de13a7-c2c48b25-a1cc-498a-9b98-08629619ae15: 1984-03-04\n",
      "17598e32314-d67c7847-5ca3-4b0c-86df-195e40626a65: 1984-10-05\n",
      "17598e54dfe-683137bf-6a96-4b94-9218-7be5ff4ee2fb: 1984-04-21\n",
      "17598eed38d-eb24c019-4ab9-4f14-9c66-db95a1ed22dc: 1984-10-23\n",
      "17598f52f36-17f4bfd8-c305-468f-9c38-792a461e28a3: 1984-04-26\n"
     ]
    }
   ],
   "source": [
    "# Date search\n",
    "response = get(base + '/Patient' + '?' + 'birthdate=1984' + '&_elements=birthDate')\n",
    "print('Born in 1984:')\n",
    "for entry in response.json().get('entry'):\n",
    "    resource = entry.get('resource')\n",
    "    print(resource.get('id'), end=': ')\n",
    "    print(resource.get('birthDate'))"
   ]
  },
  {
   "cell_type": "code",
   "execution_count": 20,
   "metadata": {},
   "outputs": [
    {
     "name": "stdout",
     "output_type": "stream",
     "text": [
      "Born before 1984:\n",
      "17598bf0165-6eda45e2-f9c1-4c4c-9ef2-1776cfbb0a7d: 1976-10-11\n",
      "17598bf1688-037fcb72-18af-40ce-a96b-c393a595dd49: 1975-07-10\n",
      "17598bf28f3-257b9fe9-9084-41d6-bb0f-43b4729a7f0d: 1982-01-13\n",
      "17598bf36c7-fedcedc3-b78c-4688-82ef-622e0cc71b22: 1973-03-03\n",
      "17598bf6cd6-d8388338-897d-48a0-b334-a877459941b2: 1979-03-01\n",
      "17598bf3d06-15fa6deb-59ad-4bd2-b8a1-8a2fa606d084: 1924-10-07\n",
      "17598bf6496-92b7682f-d882-4b3c-8e37-178b11cde674: 1948-12-25\n",
      "17598bf98b2-789821a7-b30c-48d4-b388-5343a933d8ad: 1972-06-15\n",
      "17598bfb281-9ca10cb0-6ba0-4691-85f4-424423b1869d: 1970-12-02\n",
      "17598bfa2da-9c19d3ed-5bef-49ab-b6b0-1d731446ddf6: 1960-11-21\n",
      "\n",
      "Born after 1984:\n",
      "17598bed122-d90e0186-8458-4482-a580-5b18b554ed3c: 1990-02-05\n",
      "17598beef3c-73a65dab-c8e5-4756-a60a-69bbc48cef4f: 1986-07-15\n",
      "17598bf4a5d-185e291b-d0e3-42d3-9b70-eeae60debeec: 2005-11-09\n",
      "17598bf2ea9-7238cb29-0108-47a7-bf50-c94c6468ad2b: 2020-01-19\n",
      "17598bf555d-8e5857a0-4da9-4e6c-b9be-8624f80cf080: 1990-01-07\n",
      "17598bf809c-1a099ca4-cdb9-4837-8692-51338082cd97: 2019-09-05\n",
      "17598bf8b6a-ef83ac85-d722-406a-893a-7b016f060867: 1994-08-22\n",
      "17598bf9bf3-72e9d777-a355-4e7c-9b61-6a7dd30a61f4: 1999-10-06\n",
      "17598bfb106-0f9d95e0-84de-4b28-b8ad-d6a0f4caa980: 1993-01-07\n",
      "17598bfd0cf-22472597-7a8f-47b4-abb9-b36ab298ee12: 2007-08-05\n",
      "\n",
      "Born \"around\" 1984:\n",
      "17598beef3c-73a65dab-c8e5-4756-a60a-69bbc48cef4f: 1986-07-15\n",
      "17598bf28f3-257b9fe9-9084-41d6-bb0f-43b4729a7f0d: 1982-01-13\n",
      "17598c01014-694ba51f-a02d-4686-b956-7d6eb9d7e5fa: 1984-12-05\n",
      "17598c05638-14568b50-6d51-4ab4-a94c-096c49ac8a4e: 1982-04-20\n",
      "17598c0a7ca-46d519f3-9866-427f-91b3-75f834a5eb72: 1983-10-29\n",
      "17598c1650a-20726259-3909-46b4-8d70-effe09390d7c: 1982-09-15\n",
      "17598c31418-c137d962-05b5-4f50-aec7-70033c0de3c1: 1983-05-29\n",
      "17598c330b0-817d8bac-b275-449d-8163-0ae095d6a7d5: 1984-03-23\n",
      "17598c38744-b7e7533a-5d2d-40bd-8f34-ab16eedd8062: 1988-06-29\n",
      "17598c45cd6-04c67dca-6ae4-4bff-afaf-4c82ae824920: 1981-05-30\n"
     ]
    }
   ],
   "source": [
    "# date searches support lt(<), le(<=), gt(>), ge(>=), sa(starts after), and eb(ends before) \"prefixes\"\n",
    "response = get(base + '/Patient' + '?' + 'birthdate=eb1984' + '&_elements=birthDate')\n",
    "print('Born before 1984:')\n",
    "for entry in response.json().get('entry'):\n",
    "    resource = entry.get('resource')\n",
    "    print(resource.get('id'), end=': ')\n",
    "    print(resource.get('birthDate'))\n",
    "\n",
    "response = get(base + '/Patient' + '?' + 'birthdate=sa1984' + '&_elements=birthDate')\n",
    "print('\\n' + 'Born after 1984:')\n",
    "for entry in response.json().get('entry'):\n",
    "    resource = entry.get('resource')\n",
    "    print(resource.get('id'), end=': ')\n",
    "    print(resource.get('birthDate'))\n",
    "\n",
    "# some servers support ap(approximately equal) as well, although the spec lets the server decide exactly what that means...\n",
    "response = get(base + '/Patient' + '?' + 'birthdate=ap1984' + '&_elements=birthDate')\n",
    "print('\\n' + 'Born \"around\" 1984:')\n",
    "for entry in response.json().get('entry'):\n",
    "    resource = entry.get('resource')\n",
    "    print(resource.get('id'), end=': ')\n",
    "    print(resource.get('birthDate'))"
   ]
  },
  {
   "cell_type": "code",
   "execution_count": 21,
   "metadata": {},
   "outputs": [
    {
     "name": "stdout",
     "output_type": "stream",
     "text": [
      "Patients with a general-practitioner:   \n",
      "{\n",
      "    \"resourceType\": \"Bundle\",\n",
      "    \"id\": \"0a9f0316-b9b2-46df-8eed-385560273eb2\",\n",
      "    \"meta\": {\n",
      "        \"tag\": [\n",
      "            {\n",
      "                \"system\": \"http://terminology.hl7.org/CodeSystem/v3-ObservationValue\",\n",
      "                \"code\": \"SUBSETTED\",\n",
      "                \"display\": \"subsetted\"\n",
      "            }\n",
      "        ]\n",
      "    },\n",
      "    \"type\": \"searchset\",\n",
      "    \"total\": 0,\n",
      "\n"
     ]
    }
   ],
   "source": [
    "# Reference search\n",
    "response = get(base + '/Patient?general-practitioner:missing=false&_elements=generalPractitioner,link,managingOrganization&_count=1')\n",
    "peek('Patients with a general-practitioner:   \\n' + response.text, 15)"
   ]
  },
  {
   "cell_type": "code",
   "execution_count": 22,
   "metadata": {},
   "outputs": [
    {
     "data": {
      "text/html": [
       "\n",
       "        <iframe\n",
       "            width=\"1200\"\n",
       "            height=\"480\"\n",
       "            src=\"https://hl7.org/fhir/condition.html#resource\"\n",
       "            frameborder=\"0\"\n",
       "            allowfullscreen\n",
       "        ></iframe>\n",
       "        "
      ],
      "text/plain": [
       "<IPython.lib.display.IFrame at 0x7f20610de650>"
      ]
     },
     "execution_count": 22,
     "metadata": {},
     "output_type": "execute_result"
    }
   ],
   "source": [
    "# since our model doesn't have any reference fields on the Patient resources, lets look at Conditions instead\n",
    "IFrame('https://hl7.org/fhir/condition.html#resource', width=1200, height=480)"
   ]
  },
  {
   "cell_type": "code",
   "execution_count": 23,
   "metadata": {
    "scrolled": true
   },
   "outputs": [
    {
     "name": "stdout",
     "output_type": "stream",
     "text": [
      "Conditions for patient 17598beef3c-73a65dab-c8e5-4756-a60a-69bbc48cef4f:\n",
      "{'coding': [{'system': 'http://snomed.info/sct', 'code': '10509002', 'display': 'Acute bronchitis (disorder)'}], 'text': 'Acute bronchitis (disorder)'}\n",
      "{'coding': [{'system': 'http://snomed.info/sct', 'code': '195662009', 'display': 'Acute viral pharyngitis (disorder)'}], 'text': 'Acute viral pharyngitis (disorder)'}\n",
      "{'coding': [{'system': 'http://snomed.info/sct', 'code': '68235000', 'display': 'Nasal congestion (finding)'}], 'text': 'Nasal congestion (finding)'}\n",
      "{'coding': [{'system': 'http://snomed.info/sct', 'code': '267102003', 'display': 'Sore throat symptom (finding)'}], 'text': 'Sore throat symptom (finding)'}\n",
      "{'coding': [{'system': 'http://snomed.info/sct', 'code': '248595008', 'display': 'Sputum finding (finding)'}], 'text': 'Sputum finding (finding)'}\n",
      "{'coding': [{'system': 'http://snomed.info/sct', 'code': '84229001', 'display': 'Fatigue (finding)'}], 'text': 'Fatigue (finding)'}\n",
      "{'coding': [{'system': 'http://snomed.info/sct', 'code': '267036007', 'display': 'Dyspnea (finding)'}], 'text': 'Dyspnea (finding)'}\n",
      "{'coding': [{'system': 'http://snomed.info/sct', 'code': '56018004', 'display': 'Wheezing (finding)'}], 'text': 'Wheezing (finding)'}\n",
      "{'coding': [{'system': 'http://snomed.info/sct', 'code': '43724002', 'display': 'Chill (finding)'}], 'text': 'Chill (finding)'}\n",
      "{'coding': [{'system': 'http://snomed.info/sct', 'code': '386661006', 'display': 'Fever (finding)'}], 'text': 'Fever (finding)'}\n",
      "\n",
      "Result entries match? True\n",
      "\n",
      "Result entries match? True\n"
     ]
    }
   ],
   "source": [
    "# get all conditions that reference a specific patient\n",
    "response = get(base + '/Condition' + '?' + 'subject=Patient/17598beef3c-73a65dab-c8e5-4756-a60a-69bbc48cef4f' + '&_elements=code')\n",
    "print('Conditions for patient 17598beef3c-73a65dab-c8e5-4756-a60a-69bbc48cef4f:')\n",
    "for entry in response.json().get('entry'):\n",
    "    resource = entry.get('resource')\n",
    "    print(resource.get('code'))\n",
    "\n",
    "# when the type of the reference is fixed to a single value, it can be omitted (Patient/x -> x)\n",
    "response2 = get(base + '/Condition' + '?' + 'patient=17598beef3c-73a65dab-c8e5-4756-a60a-69bbc48cef4f' + '&_elements=code')\n",
    "print('\\n' + 'Result entries match? ' + str(response.json().get('entry') == response2.json().get('entry')))\n",
    "\n",
    "# a reference to a resource's full url on the server should be equivalent to the relative reference format mentioned above\n",
    "response3 = get(base + '/Condition' + '?' + 'patient=' + base + '/Patient/17598beef3c-73a65dab-c8e5-4756-a60a-69bbc48cef4f' + '&_elements=code')\n",
    "print('\\n' + 'Result entries match? ' + str(response.json().get('entry') == response3.json().get('entry')))\n",
    "\n",
    "# references can also reference resources on other servers"
   ]
  },
  {
   "cell_type": "markdown",
   "metadata": {},
   "source": [
    "## Section 4: Chaining and includes"
   ]
  },
  {
   "cell_type": "code",
   "execution_count": 24,
   "metadata": {},
   "outputs": [
    {
     "name": "stdout",
     "output_type": "stream",
     "text": [
      "Type II Diabetes in female patients:   \n",
      "{\n",
      "    \"resourceType\": \"Bundle\",\n",
      "    \"id\": \"a8bf3e28-c44c-4272-aec2-72fa86fc0c05\",\n",
      "    \"type\": \"searchset\",\n",
      "    \"total\": 600,\n",
      "    \"link\": [\n",
      "        {\n",
      "            \"relation\": \"self\",\n",
      "            \"url\": \"https://cluster1-573846-250babbbe4c3000e15508cd07c1d282b-0000.us-east.containers.appdomain.cloud/open/Condition?_count=1&code=http://snomed.info/sct%7C44054006&patient:Patient.gender=female&_page=1\"\n",
      "        },\n",
      "        {\n",
      "            \"relation\": \"next\",\n",
      "            \"url\": \"https://cluster1-573846-250babbbe4c3000e15508cd07c1d282b-0000.us-east.containers.appdomain.cloud/open/Condition?_count=1&code=http://snomed.info/sct%7C44054006&patient:Patient.gender=female&_page=2\"\n",
      "        }\n",
      "    ],\n",
      "    \"entry\": [\n",
      "        {\n",
      "            \"fullUrl\": \"https://cluster1-573846-250babbbe4c3000e15508cd07c1d282b-0000.us-east.containers.appdomain.cloud/open/Condition/17598ca24de-8a64595d-1f7f-4a9d-af9b-9623bbd3db6d\",\n",
      "            \"resource\": {\n",
      "                \"resourceType\": \"Condition\",\n",
      "                \"id\": \"17598ca24de-8a64595d-1f7f-4a9d-af9b-9623bbd3db6d\",\n",
      "                \"meta\": {\n",
      "                    \"versionId\": \"1\",\n",
      "                    \"lastUpdated\": \"2020-11-05T14:23:11.963Z\",\n",
      "                    \"profile\": [\n",
      "                        \"http://hl7.org/fhir/us/core/StructureDefinition/us-core-condition\"\n",
      "                    ]\n",
      "                },\n",
      "                \"clinicalStatus\": {\n",
      "                    \"coding\": [\n",
      "                        {\n",
      "                            \"system\": \"http://terminology.hl7.org/CodeSystem/condition-clinical\",\n",
      "                            \"code\": \"active\"\n",
      "                        }\n",
      "                    ]\n",
      "                },\n",
      "                \"verificationStatus\": {\n",
      "                    \"coding\": [\n",
      "                        {\n",
      "                            \"system\": \"http://terminology.hl7.org/CodeSystem/condition-ver-status\",\n",
      "                            \"code\": \"confirmed\"\n",
      "                        }\n",
      "                    ]\n",
      "                },\n",
      "                \"category\": [\n",
      "                    {\n",
      "                        \"coding\": [\n",
      "                            {\n",
      "                                \"system\": \"http://terminology.hl7.org/CodeSystem/condition-category\",\n",
      "                                \"code\": \"encounter-diagnosis\",\n",
      "                                \"display\": \"Encounter Diagnosis\"\n",
      "                            }\n",
      "                        ]\n",
      "                    }\n",
      "                ],\n",
      "                \"code\": {\n",
      "                    \"coding\": [\n",
      "                        {\n",
      "                            \"system\": \"http://snomed.info/sct\",\n",
      "                            \"code\": \"44054006\",\n",
      "                            \"display\": \"Diabetes\"\n",
      "                        }\n",
      "                    ],\n",
      "                    \"text\": \"Diabetes\"\n",
      "                },\n",
      "                \"subject\": {\n",
      "                    \"reference\": \"Patient/17598ca24dd-04a58485-e8ac-4b6d-b85f-de4f55bf0787\"\n",
      "                },\n",
      "                \"encounter\": {\n",
      "                    \"reference\": \"Encounter/17598ca24de-40d4ed3a-1b8a-4551-a89a-eca22e717f48\"\n",
      "                },\n",
      "                \"onsetDateTime\": \"2017-12-18T16:16:32-05:00\",\n",
      "                \"recordedDate\": \"2017-12-18T16:16:32-05:00\"\n",
      "            }\n",
      "        }\n",
      "    ]\n",
      "}\n",
      "\n"
     ]
    }
   ],
   "source": [
    "# Chaining\n",
    "\n",
    "# where reference parameters get really interesting is when you want to query one resource type based on a property of another resource to which its linked\n",
    "# for example, here is a search for Type II Diabetes in female patients\n",
    "response = get(base + '/Condition' + '?' + 'code=http://snomed.info/sct|44054006' + '&' + 'patient:Patient.gender=female' + '&_count=1')\n",
    "peek('Type II Diabetes in female patients:   \\n' + str(response.text), 100)"
   ]
  },
  {
   "cell_type": "code",
   "execution_count": 25,
   "metadata": {},
   "outputs": [
    {
     "name": "stdout",
     "output_type": "stream",
     "text": [
      "Patients with Type II Diabetes:   \n",
      "{\n",
      "    \"resourceType\": \"Bundle\",\n",
      "    \"id\": \"e32adaca-4d16-49aa-a808-712fae72a115\",\n",
      "    \"type\": \"searchset\",\n",
      "    \"total\": 1063,\n",
      "    \"link\": [\n",
      "        {\n",
      "            \"relation\": \"self\",\n",
      "            \"url\": \"https://cluster1-573846-250babbbe4c3000e15508cd07c1d282b-0000.us-east.containers.appdomain.cloud/open/Patient?_count=1&_has:Condition:patient:code=http://snomed.info/sct%7C44054006&_page=1\"\n",
      "        },\n",
      "        {\n",
      "            \"relation\": \"next\",\n",
      "            \"url\": \"https://cluster1-573846-250babbbe4c3000e15508cd07c1d282b-0000.us-east.containers.appdomain.cloud/open/Patient?_count=1&_has:Condition:patient:code=http://snomed.info/sct%7C44054006&_page=2\"\n",
      "        }\n",
      "    ],\n",
      "    \"entry\": [\n",
      "        {\n",
      "            \"fullUrl\": \"https://cluster1-573846-250babbbe4c3000e15508cd07c1d282b-0000.us-east.containers.appdomain.cloud/open/Patient/17598c0ea1f-f838725e-91e0-4a98-9eb6-f3e7323e9dfa\",\n",
      "            \"resource\": {\n",
      "                \"resourceType\": \"Patient\",\n",
      "                \"id\": \"17598c0ea1f-f838725e-91e0-4a98-9eb6-f3e7323e9dfa\",\n",
      "                \"meta\": {\n",
      "                    \"versionId\": \"1\",\n",
      "                    \"lastUpdated\": \"2020-11-05T14:13:01.093Z\",\n",
      "\n"
     ]
    }
   ],
   "source": [
    "# Reverse chaining\n",
    "\n",
    "# references can be searched the other way around via the \"_has\" parameter\n",
    "response = get(base + '/Patient' + '?' + '_has:Condition:patient:code=http://snomed.info/sct|44054006' + '&_count=1')\n",
    "peek('Patients with Type II Diabetes:   \\n' + response.text)"
   ]
  },
  {
   "cell_type": "code",
   "execution_count": 26,
   "metadata": {},
   "outputs": [
    {
     "name": "stdout",
     "output_type": "stream",
     "text": [
      "Response contains both Conditions and Patients, but only the Conditions are counted in the page size and total:\n",
      "\n",
      "Total: 1063\n",
      "Condition: 17598c0ea20-7b251c64-b10a-4942-b72b-3014af79875f\n",
      "Condition: 17598c6d269-b8bd24cc-0280-48f8-a835-db262812387e\n",
      "Patient: 17598c0ea1f-f838725e-91e0-4a98-9eb6-f3e7323e9dfa\n",
      "Patient: 17598c6d269-6c393947-fbeb-44b7-9ec7-fbaede13bc8a\n"
     ]
    }
   ],
   "source": [
    "# Includes\n",
    "\n",
    "# its also possible to get a resource and its related resources back in a single query\n",
    "response = get(base + '/Condition?code=http://snomed.info/sct|44054006' + '&' + '_include=Condition:patient' + '&_count=2')\n",
    "peek('Response contains both Conditions and Patients, but only the Conditions are counted in the page size and total:')\n",
    "print('Total: ' + str(response.json().get('total')))\n",
    "for entry in response.json().get('entry'):\n",
    "    resource = entry.get('resource')\n",
    "    print(resource.get('resourceType'), end=': ')\n",
    "    print(resource.get('id'))\n"
   ]
  },
  {
   "cell_type": "code",
   "execution_count": 27,
   "metadata": {},
   "outputs": [
    {
     "name": "stdout",
     "output_type": "stream",
     "text": [
      "Response contains both Patients and Conditions, but only the Patients are counted in the page size and total:\n",
      "\n",
      "Total: 17136\n",
      "Patient: 17598bf36c7-fedcedc3-b78c-4688-82ef-622e0cc71b22\n",
      "Patient: 17598bf4a5d-185e291b-d0e3-42d3-9b70-eeae60debeec\n",
      "Condition: 17598bf4a5e-b9e99052-25a6-4400-a8b8-da48b8cbb22d\n",
      "Condition: 17598bf4a65-ee99ca87-65c3-4a14-900f-02e90ec4db4a\n",
      "Condition: 17598bf4a66-49d7afde-a7f1-42e4-858d-990f49a2f1ca\n",
      "Condition: 17598bf4a66-39d8080e-27ee-488d-9e35-59275a486457\n",
      "Condition: 17598bf4a6f-b87ac7b6-6faf-49b5-95fd-3eddf4f7494c\n",
      "Condition: 17598bf4a6f-ec9abd6f-ee59-4f71-8fa5-c737ac1be63b\n",
      "Condition: 17598bf4a70-b98f87d7-d469-4b3d-987e-02b78336b82e\n",
      "Condition: 17598bf4a70-6e7537b4-1a90-4a3c-842c-6c5c1db45ad3\n",
      "Condition: 17598bf4a70-ca048f40-02a3-4c24-a1b6-f53ffb3c1667\n",
      "Condition: 17598bf36c8-5800bd67-4c08-4a68-8968-054c670ef2a6\n",
      "Condition: 17598bf36c8-7d2861ad-e607-4122-90b3-74265240aaca\n",
      "Condition: 17598bf36c9-d53628c0-8fc4-4570-bb9a-25af21328712\n",
      "Condition: 17598bf36c9-9dec87f6-1a92-4b8a-b02a-ad1ab3dabd30\n",
      "Condition: 17598bf36c9-5c6f054a-eb02-4eac-ae3e-f02d3472b15c\n",
      "Condition: 17598bf36c9-4fb95111-885e-421f-8a5b-a9942a759020\n",
      "Condition: 17598bf36c9-a8f8bb3d-c403-4fb9-8f18-5a8c0cbe2b78\n",
      "Condition: 17598bf36c9-b1f1fc40-ef31-49b5-8579-4a45cca657b2\n"
     ]
    }
   ],
   "source": [
    "# Reverse Includes\n",
    "\n",
    "response = get(base + '/Patient?gender=female' + '&' + '_revinclude=Condition:patient' + '&_count=2')\n",
    "peek('Response contains both Patients and Conditions, but only the Patients are counted in the page size and total:')\n",
    "print('Total: ' + str(response.json().get('total')))\n",
    "for entry in response.json().get('entry'):\n",
    "    resource = entry.get('resource')\n",
    "    print(resource.get('resourceType'), end=': ')\n",
    "    print(resource.get('id'))"
   ]
  },
  {
   "cell_type": "markdown",
   "metadata": {},
   "source": [
    "## Section 5: Putting it together"
   ]
  },
  {
   "cell_type": "code",
   "execution_count": 28,
   "metadata": {},
   "outputs": [
    {
     "name": "stdout",
     "output_type": "stream",
     "text": [
      "Patients with Type II Diabetes:  1063\n"
     ]
    }
   ],
   "source": [
    "response = get(base + '/Condition' + '?' + 'code=http://snomed.info/sct|44054006' + '&_count=1')\n",
    "print('Patients with Type II Diabetes:  ' + str(response.json().get('total')))"
   ]
  },
  {
   "cell_type": "code",
   "execution_count": 29,
   "metadata": {
    "scrolled": true
   },
   "outputs": [
    {
     "name": "stdout",
     "output_type": "stream",
     "text": [
      "CHD: \t\t\t1059\n",
      "CKD: \t\t\t0\n",
      "AFib: \t\t\t359\n",
      "stroke: \t\t1008\n",
      "hypertension: \t\t0\n",
      "heart failure: \t\t84\n",
      "PVD: \t\t\t0\n",
      "arthritis: \t\t48\n",
      "cancer: \t\t0\n",
      "osteoporosis: \t\t762\n",
      "depression: \t\t0\n",
      "asthma: \t\t24\n",
      "COPD: \t\t\t0\n",
      "dementia: \t\t0\n",
      "SMI: \t\t\t0\n",
      "epilepsy: \t\t546\n",
      "hypothyroidism: \t0\n",
      "learning disability: \t0\n"
     ]
    }
   ],
   "source": [
    "# SNOMED concepts for comorbidities of Type II Diabetes\n",
    "#coronary heart disease (CHD), 53741008\n",
    "#chronic kidney disease (CKD), 709044004\n",
    "#atrial fibrillation, 49436004\n",
    "#stroke, 230690007\n",
    "#hypertension, 38341003\n",
    "#heart failure, 84114007\n",
    "#peripheral vascular disease (PVD), 400047006\n",
    "#rheumatoid arthritis, 69896004\n",
    "#Malignant neoplasm, primary (morphologic abnormality), 86049000\n",
    "#Malignant neoplastic disease (disorder), 363346000\n",
    "#osteoporosis, 64859006\n",
    "#depression, 35489007\n",
    "#asthma, 195967001\n",
    "#chronic obstructive pulmonary disease (COPD), 13645005\n",
    "#dementia, 52448006\n",
    "#severe mental illness (SMI), 391193001\n",
    "#epilepsy, 84757009\n",
    "#hypothyroidism, 40930008\n",
    "#learning disability, 1855002\n",
    "\n",
    "print('CHD: \\t\\t\\t' + str(get(base + '/Condition?_summary=count&code=http://snomed.info/sct|' + '53741008').json().get('total')))\n",
    "print('CKD: \\t\\t\\t' + str(get(base + '/Condition?_summary=count&code=http://snomed.info/sct|' + '709044004').json().get('total')))\n",
    "print('AFib: \\t\\t\\t' + str(get(base + '/Condition?_summary=count&code=http://snomed.info/sct|' + '49436004').json().get('total')))\n",
    "print('stroke: \\t\\t' + str(get(base + '/Condition?_summary=count&code=http://snomed.info/sct|' + '230690007').json().get('total')))\n",
    "print('hypertension: \\t\\t' + str(get(base + '/Condition?_summary=count&code=http://snomed.info/sct|' + '38341003').json().get('total')))\n",
    "print('heart failure: \\t\\t' + str(get(base + '/Condition?_summary=count&code=http://snomed.info/sct|' + '84114007').json().get('total')))\n",
    "print('PVD: \\t\\t\\t' + str(get(base + '/Condition?_summary=count&code=http://snomed.info/sct|' + '400047006').json().get('total')))\n",
    "print('arthritis: \\t\\t' + str(get(base + '/Condition?_summary=count&code=http://snomed.info/sct|' + '69896004').json().get('total')))\n",
    "print('cancer: \\t\\t' + str(get(base + '/Condition?_summary=count&code=http://snomed.info/sct|' + '86049000').json().get('total') + get(base + '/Condition?_summary=count&code=http://snomed.info/sct|' + '363346000').json().get('total')))\n",
    "print('osteoporosis: \\t\\t' + str(get(base + '/Condition?_summary=count&code=http://snomed.info/sct|' + '64859006').json().get('total')))\n",
    "print('depression: \\t\\t' + str(get(base + '/Condition?_summary=count&code=http://snomed.info/sct|' + '35489007').json().get('total')))\n",
    "print('asthma: \\t\\t' + str(get(base + '/Condition?_summary=count&code=http://snomed.info/sct|' + '195967001').json().get('total')))\n",
    "print('COPD: \\t\\t\\t' + str(get(base + '/Condition?_summary=count&code=http://snomed.info/sct|' + '13645005').json().get('total')))\n",
    "print('dementia: \\t\\t' + str(get(base + '/Condition?_summary=count&code=http://snomed.info/sct|' + '52448006').json().get('total')))\n",
    "print('SMI: \\t\\t\\t' + str(get(base + '/Condition?_summary=count&code=http://snomed.info/sct|' + '391193001').json().get('total')))\n",
    "print('epilepsy: \\t\\t' + str(get(base + '/Condition?_summary=count&code=http://snomed.info/sct|' + '84757009').json().get('total')))\n",
    "print('hypothyroidism: \\t' + str(get(base + '/Condition?_summary=count&code=http://snomed.info/sct|' + '40930008').json().get('total')))\n",
    "print('learning disability: \\t' + str(get(base + '/Condition?_summary=count&code=http://snomed.info/sct|' + '1855002').json().get('total')))"
   ]
  },
  {
   "cell_type": "code",
   "execution_count": 30,
   "metadata": {
    "scrolled": true
   },
   "outputs": [
    {
     "name": "stdout",
     "output_type": "stream",
     "text": [
      "CHD:\n",
      "Total: 30\n",
      "1759a06f11a-77b7ee76-ae8d-47a8-9a8e-17e7278e4137, 1759bccd5dc-a4192660-b224-4d88-acf6-bfb538fc0052, 1759c042626-da786c63-fcd4-4a86-aaec-54ec28458861, 1759c7179ab-cdc927fb-ec72-4c10-961e-a424bb8241f3, 1759c906bce-6fcc151d-240e-441f-aa3f-3a8123222d0c, 1759c9d0e32-10946dda-2ac9-4f8e-a6ba-eade9aba6ac8, 175b90993dc-7568b0d3-91ce-4862-be00-7cb99389f323, 175ba73ffc5-86182577-c52f-4c24-b09c-acfdc0043b8c, 175babfca99-31bcaafc-876a-453a-905c-b0482607b2c5, 175bb745e4f-1f3f83a8-6f6c-43da-adf1-fdc5440d88b5, \n",
      "\n",
      "AFib:\n",
      "Total: 23\n",
      "1759b62a9bc-650fc722-8bb1-4a81-827c-95b73a83d7b4, 1759be696c1-fd6cfa13-8e69-454f-ad73-d3b27a051f6f, 1759c1d61ec-500b2890-fcc9-428c-86c2-bcb15a5cbaa5, 1759c4dfa60-d50fbfcb-dda0-4669-82c8-42e73c5bb239, 1759c76bdcd-dfc226a9-37b6-4a72-b303-1613ed7ec838, 175b9f4c2a0-e971ee19-f55e-4319-85bd-57737b23ba26, 175ba948672-bc9ba458-81df-4def-8064-da02406e9f62, 175ba9518ee-29c6291a-ae29-4c62-8283-6c5a1264c404, 175ba9ca813-0a7f0565-f701-4c66-9d11-7b2754dddf6d, 175baa492a2-c7306451-8ede-4d55-9a21-2da3932f036c, \n",
      "\n",
      "stroke:\n",
      "Total: 36\n",
      "175998f05f8-29eebaa9-2179-4d7b-9603-ca9c7cf25e23, 1759b62a9bc-650fc722-8bb1-4a81-827c-95b73a83d7b4, 1759b7179b6-d3d28532-15b8-41db-8781-fbde5c781fab, 1759b91f0bf-5a8bf1c3-7aa4-4d8b-a4d3-83d5097f18c4, 1759bcaf1a7-188d7217-1e1d-4664-bc7a-e07bc658539d, 1759c048c78-1e94db2f-f936-4a12-b427-a89667db2ee8, 1759c363589-398bc35f-8c6c-41f7-8840-572e653a30e5, 1759c3a8255-0131fdfe-0db6-47e3-9cb9-d770efee0012, 1759c4dfa60-d50fbfcb-dda0-4669-82c8-42e73c5bb239, 1759c51e871-214856d2-a5be-47ca-99a7-e9b43b21dc26, \n",
      "\n",
      "heart failure:\n",
      "Total: 5\n",
      "1759b62a9bc-650fc722-8bb1-4a81-827c-95b73a83d7b4, 175b9f4c2a0-e971ee19-f55e-4319-85bd-57737b23ba26, 175c0fd9b65-022a8b08-76b1-481e-bef9-82866c621bd9, 175c1151cca-345c1f27-af3e-403f-8aad-42be1a128b73, 175c2e6aa49-7a8d5bae-e376-41fc-8d51-659148290cbe, \n",
      "\n",
      "arthritis:\n",
      "Total: 0\n",
      "\n",
      "\n",
      "osteoporosis:\n",
      "Total: 25\n",
      "175998be983-6278fae0-a059-467f-8637-3cbff69d9b4e, 1759b7afa3c-e89ecf98-c0b2-4e69-866b-ef6e89f6fba0, 1759bfa2d15-72ddae5b-292a-40f5-8558-8c062211dd42, 1759c0c9587-ab5bdbf5-56e3-4328-b347-089d17ea59b8, 1759c14d16a-fa7ed5df-d034-4b8c-bc74-296cc4b32c31, 1759c51e871-214856d2-a5be-47ca-99a7-e9b43b21dc26, 1759c64e1fd-de32b308-29ab-4a04-8850-564e574b20fd, 1759c685bbc-bff3331b-d71e-4987-8246-657b653a77c2, 175b98dc155-70c909ff-7125-414d-beff-ff17bd202c40, 175ba10c839-3767563a-d7f3-4dbd-88a4-cf54a587d310, \n",
      "\n",
      "asthma:\n",
      "Total: 1\n",
      "175c2b7c38a-61ab893b-7b40-45ae-9955-6f26107de9cc, \n",
      "\n",
      "epilepsy:\n",
      "Total: 8\n",
      "1759ba18cd9-617df281-8a07-4a25-919d-d320d53f4da2, 1759c181967-bd8686d0-bcf5-475c-932d-e41f1f3769bc, 175ba3d7afe-c2a50287-ebb2-48b0-90f8-3654e28244c1, 175bae212ec-e15e067c-7a7a-4d60-9635-213cdfcae928, 175bae68708-0423d3ed-55d0-4f64-ac98-717649009b04, 175c0c66c0a-f500462c-e568-47ac-ad35-045a11eb8b8f, 175c15e0a00-c2dcdc18-a2f6-4cd1-b9f4-e78a940e8064, 175c2ac659d-cc743967-f254-43bb-b345-17a5282088fe, \n",
      "\n"
     ]
    }
   ],
   "source": [
    "# Patients with Type II Diabetes *and* comorbidities\n",
    "hasDiabetes = base + '/Patient?_elements=id&_has:Condition:patient:code=http://snomed.info/sct|44054006'\n",
    "\n",
    "def printPatientsWithComorbidity(conceptId):\n",
    "    responseJSON = get(hasDiabetes + '&_has:Condition:patient:code=http://snomed.info/sct|' + conceptId).json()\n",
    "    print('Total: ' + str(responseJSON.get('total')))\n",
    "    if 'entry' in responseJSON:\n",
    "        for entry in responseJSON.get('entry'):\n",
    "            print(entry.get('resource').get('id'), end=\", \")\n",
    "    print('\\n')\n",
    "\n",
    "print('CHD:')\n",
    "printPatientsWithComorbidity('53741008')\n",
    "\n",
    "print('AFib:')\n",
    "printPatientsWithComorbidity('49436004')\n",
    "\n",
    "print('stroke:')\n",
    "printPatientsWithComorbidity('230690007')\n",
    "\n",
    "print('heart failure:')\n",
    "printPatientsWithComorbidity('84114007')\n",
    "\n",
    "print('arthritis:')\n",
    "printPatientsWithComorbidity('69896004')\n",
    "\n",
    "print('osteoporosis:')\n",
    "printPatientsWithComorbidity('64859006')\n",
    "\n",
    "print('asthma:')\n",
    "printPatientsWithComorbidity('195967001')\n",
    "\n",
    "print('epilepsy:')\n",
    "printPatientsWithComorbidity('84757009')"
   ]
  },
  {
   "cell_type": "markdown",
   "metadata": {},
   "source": [
    "## Section 6: Bulk export"
   ]
  },
  {
   "cell_type": "code",
   "execution_count": 31,
   "metadata": {},
   "outputs": [
    {
     "name": "stdout",
     "output_type": "stream",
     "text": [
      "Response code: 202\n",
      "{'Date': 'Mon, 16 Nov 2020 20:55:51 GMT', 'Content-Length': '0', 'Connection': 'keep-alive', 'Content-Location': 'https://cluster1-573846-250babbbe4c3000e15508cd07c1d282b-0000.us-east.containers.appdomain.cloud/open/$bulkdata-status?job=C44eJARlx28_nw%2B_tH%2Bjlg', 'Content-Language': 'en-US', 'Strict-Transport-Security': 'max-age=86400; includeSubDomains'}\n"
     ]
    }
   ],
   "source": [
    "# To perform deeper analysis of the data, it can be useful to export some or all of the data into \"bulk fhir\" format\n",
    "export_response = get(base + '/$export' + '?' + '_type=Patient,Condition')\n",
    "print('Response code: ' + str(export_response.status_code))\n",
    "print(export_response.headers)"
   ]
  },
  {
   "cell_type": "code",
   "execution_count": 32,
   "metadata": {
    "scrolled": true
   },
   "outputs": [
    {
     "name": "stdout",
     "output_type": "stream",
     "text": [
      "Response code: 202\n",
      "Response code: 202\n",
      "Response code: 202\n",
      "Response code: 202\n",
      "Response code: 202\n",
      "Response code: 202\n",
      "Response code: 202\n",
      "Response code: 202\n",
      "Response code: 202\n",
      "Response code: 202\n",
      "Response code: 202\n",
      "Response code: 202\n",
      "Response code: 202\n",
      "Response code: 202\n",
      "Response code: 202\n",
      "Response code: 202\n",
      "Response code: 202\n",
      "Response code: 202\n",
      "Response code: 202\n",
      "Response code: 202\n",
      "Response code: 202\n",
      "Response code: 202\n",
      "Response code: 202\n",
      "Response code: 202\n",
      "Response code: 202\n",
      "Response code: 202\n",
      "Response code: 202\n",
      "Response code: 202\n",
      "Response code: 202\n",
      "Response code: 200\n",
      "Response body: \n",
      "{\n",
      "    \"transactionTime\": \"2020-11-16T21:05:33.645Z\",\n",
      "    \"request\": \"$export?_type=Patient,Condition\",\n",
      "    \"requiresAccessToken\": false,\n",
      "    \"output\": [\n",
      "        {\n",
      "            \"type\": \"Patient\",\n",
      "            \"url\": \"https://s3.us-east.cloud-object-storage.appdomain.cloud/fhir-export-2fbaaea5-68b5-4775-8a40-c1eb3c4f12d5/yZc5xIahhrgSlxGgTZS33AWxMN9Dmr6sAHALAlIZLog=/Patient_1.ndjson\",\n",
      "            \"count\": 26000\n",
      "        },\n",
      "        {\n",
      "            \"type\": \"Patient\",\n",
      "            \"url\": \"https://s3.us-east.cloud-object-storage.appdomain.cloud/fhir-export-2fbaaea5-68b5-4775-8a40-c1eb3c4f12d5/yZc5xIahhrgSlxGgTZS33AWxMN9Dmr6sAHALAlIZLog=/Patient_2.ndjson\",\n",
      "            \"count\": 6459\n",
      "        },\n",
      "        {\n",
      "            \"type\": \"Condition\",\n",
      "            \"url\": \"https://s3.us-east.cloud-object-storage.appdomain.cloud/fhir-export-2fbaaea5-68b5-4775-8a40-c1eb3c4f12d5/yZc5xIahhrgSlxGgTZS33AWxMN9Dmr6sAHALAlIZLog=/Condition_1.ndjson\",\n",
      "            \"count\": 38000\n",
      "        },\n",
      "        {\n",
      "            \"type\": \"Condition\",\n",
      "            \"url\": \"https://s3.us-east.cloud-object-storage.appdomain.cloud/fhir-export-2fbaaea5-68b5-4775-8a40-c1eb3c4f12d5/yZc5xIahhrgSlxGgTZS33AWxMN9Dmr6sAHALAlIZLog=/Condition_2.ndjson\",\n",
      "            \"count\": 38000\n",
      "        },\n",
      "        {\n",
      "            \"type\": \"Condition\",\n",
      "            \"url\": \"https://s3.us-east.cloud-object-storage.appdomain.cloud/fhir-export-2fbaaea5-68b5-4775-8a40-c1eb3c4f12d5/yZc5xIahhrgSlxGgTZS33AWxMN9Dmr6sAHALAlIZLog=/Condition_3.ndjson\",\n",
      "            \"count\": 38000\n",
      "        },\n",
      "        {\n",
      "            \"type\": \"Condition\",\n",
      "            \"url\": \"https://s3.us-east.cloud-object-storage.appdomain.cloud/fhir-export-2fbaaea5-68b5-4775-8a40-c1eb3c4f12d5/yZc5xIahhrgSlxGgTZS33AWxMN9Dmr6sAHALAlIZLog=/Condition_4.ndjson\",\n",
      "            \"count\": 38000\n",
      "        },\n",
      "        {\n",
      "            \"type\": \"Condition\",\n",
      "            \"url\": \"https://s3.us-east.cloud-object-storage.appdomain.cloud/fhir-export-2fbaaea5-68b5-4775-8a40-c1eb3c4f12d5/yZc5xIahhrgSlxGgTZS33AWxMN9Dmr6sAHALAlIZLog=/Condition_5.ndjson\",\n",
      "            \"count\": 38000\n",
      "        },\n",
      "        {\n",
      "            \"type\": \"Condition\",\n",
      "            \"url\": \"https://s3.us-east.cloud-object-storage.appdomain.cloud/fhir-export-2fbaaea5-68b5-4775-8a40-c1eb3c4f12d5/yZc5xIahhrgSlxGgTZS33AWxMN9Dmr6sAHALAlIZLog=/Condition_6.ndjson\",\n",
      "            \"count\": 38000\n",
      "        },\n",
      "        {\n",
      "            \"type\": \"Condition\",\n",
      "            \"url\": \"https://s3.us-east.cloud-object-storage.appdomain.cloud/fhir-export-2fbaaea5-68b5-4775-8a40-c1eb3c4f12d5/yZc5xIahhrgSlxGgTZS33AWxMN9Dmr6sAHALAlIZLog=/Condition_7.ndjson\",\n",
      "            \"count\": 38000\n",
      "        },\n",
      "        {\n",
      "            \"type\": \"Condition\",\n",
      "            \"url\": \"https://s3.us-east.cloud-object-storage.appdomain.cloud/fhir-export-2fbaaea5-68b5-4775-8a40-c1eb3c4f12d5/yZc5xIahhrgSlxGgTZS33AWxMN9Dmr6sAHALAlIZLog=/Condition_8.ndjson\",\n",
      "            \"count\": 38000\n",
      "        },\n",
      "        {\n",
      "            \"type\": \"Condition\",\n",
      "            \"url\": \"https://s3.us-east.cloud-object-storage.appdomain.cloud/fhir-export-2fbaaea5-68b5-4775-8a40-c1eb3c4f12d5/yZc5xIahhrgSlxGgTZS33AWxMN9Dmr6sAHALAlIZLog=/Condition_9.ndjson\",\n",
      "            \"count\": 38000\n",
      "        },\n",
      "        {\n",
      "            \"type\": \"Condition\",\n",
      "            \"url\": \"https://s3.us-east.cloud-object-storage.appdomain.cloud/fhir-export-2fbaaea5-68b5-4775-8a40-c1eb3c4f12d5/yZc5xIahhrgSlxGgTZS33AWxMN9Dmr6sAHALAlIZLog=/Condition_10.ndjson\",\n",
      "            \"count\": 18376\n",
      "        }\n",
      "    ]\n",
      "}\n"
     ]
    }
   ],
   "source": [
    "import time\n",
    "\n",
    "# poll the status endpoint (returned in the Content-Location header of the $export response)\n",
    "status_response = get(export_response.headers['Content-Location'])\n",
    "print('Response code: ' + str(status_response.status_code))\n",
    "\n",
    "while(status_response.status_code != 200):\n",
    "    time.sleep(20)\n",
    "    status_response = get(export_response.headers['Content-Location'])\n",
    "    print('Response code: ' + str(status_response.status_code))\n",
    "    \n",
    "print('Response body: ' + str(status_response.text))"
   ]
  },
  {
   "cell_type": "code",
   "execution_count": 33,
   "metadata": {
    "scrolled": true
   },
   "outputs": [
    {
     "name": "stdout",
     "output_type": "stream",
     "text": [
      "{\"resourceType\":\"Patient\",\"id\":\"175bd3f85e2-755eaef7-0bdb-4122-94fe-7090f2b829b7\",\"meta\":{\"versionId\":\"1\",\"lastUpdated\":\"2020-11-12T16:17:38.282Z\",\"profile\":[\"http://hl7.org/fhir/us/core/StructureDefinition/us-core-patient\"]},\"text\":{\"status\":\"generated\",\"div\":\"<div xmlns=\\\"http://www.w3.org/1999/xhtml\\\">Generated by <a href=\\\"https://github.com/synthetichealth/synthea\\\">Synthea</a>.Version identifier: v2.6.1-45-gc8c88a7e\\n .   Person seed: -3906462213851746096  Population seed: 1604618056762</div>\"},\"extension\":[{\"extension\":[{\"url\":\"ombCategory\",\"valueCoding\":{\"system\":\"urn:oid:2.16.840.1.113883.6.238\",\"code\":\"2054-5\",\"display\":\"Black or African American\"}},{\"url\":\"text\",\"valueString\":\"Black or African American\"}],\"url\":\"http://hl7.org/fhir/us/core/StructureDefinition/us-core-race\"},{\"extension\":[{\"url\":\"ombCategory\",\"valueCoding\":{\"system\":\"urn:oid:2.16.840.1.113883.6.238\",\"code\":\"2186-5\",\"display\":\"Non Hispanic or Latino\"}},{\"url\":\"text\",\"valueString\":\"Non Hispanic or Latino\"}],\"url\":\"http://hl7.org/fhir/us/core/StructureDefinition/us-core-ethnicity\"},{\"url\":\"http://hl7.org/fhir/StructureDefinition/patient-mothersMaidenName\",\"valueString\":\"Faustina Bailey\"},{\"url\":\"http://hl7.org/fhir/us/core/StructureDefinition/us-core-birthsex\",\"valueCode\":\"F\"},{\"url\":\"http://hl7.org/fhir/StructureDefinition/patient-birthPlace\",\"valueAddress\":{\"city\":\"Boston\",\"state\":\"Massachusetts\",\"country\":\"US\"}},{\"url\":\"http://synthetichealth.github.io/synthea/disability-adjusted-life-years\",\"valueDecimal\":0.0},{\"url\":\"http://synthetichealth.github.io/synthea/quality-adjusted-life-years\",\"valueDecimal\":1.0}],\"identifier\":[{\"system\":\"https://github.com/synthetichealth/synthea\",\"value\":\"f496ff71-f15b-5484-d955-59b3b24a4b17\"},{\"type\":{\"coding\":[{\"system\":\"http://terminology.hl7.org/CodeSystem/v2-0203\",\"code\":\"MR\",\"display\":\"Medical Record Number\"}],\"text\":\"Medical Record Number\"},\"system\":\"http://hospital.smarthealthit.org\",\"value\":\"f496ff71-f15b-5484-d955-59b3b24a4b17\"},{\"type\":{\"coding\":[{\"system\":\"http://terminology.hl7.org/CodeSystem/v2-0203\",\"code\":\"SS\",\"display\":\"Social Security Number\"}],\"text\":\"Social Security Number\"},\"system\":\"http://hl7.org/fhir/sid/us-ssn\",\"value\":\"999-75-2004\"}],\"name\":[{\"use\":\"official\",\"family\":\"Kub\",\"given\":[\"Annett\"]}],\"telecom\":[{\"system\":\"phone\",\"value\":\"555-375-6200\",\"use\":\"home\"}],\"gender\":\"female\",\"birthDate\":\"2018-05-18\",\"address\":[{\"extension\":[{\"extension\":[{\"url\":\"latitude\",\"valueDecimal\":42.37192097065},{\"url\":\"longitude\",\"valueDecimal\":-71.0324458367702}],\"url\":\"http://hl7.org/fhir/StructureDefinition/geolocation\"}],\"line\":[\"103 Stamm Approach Apt 66\"],\"city\":\"Boston\",\"state\":\"MA\",\"postalCode\":\"02127\",\"country\":\"US\"}],\"maritalStatus\":{\"coding\":[{\"system\":\"http://terminology.hl7.org/CodeSystem/v3-MaritalStatus\",\"code\":\"S\",\"display\":\"Never Married\"}],\"text\":\"Never Married\"},\"multipleBirthBoolean\":false,\"communication\":[{\"language\":{\"coding\":[{\"system\":\"urn:ietf:bcp:47\",\"code\":\"en-US\",\"display\":\"English\"}],\"text\":\"English\"}}]}\r\n",
      "{\"resourceType\":\"Patient\",\"id\":\"175992d814a-7d76f383-dd9c-4bad-80a4-de277ecc5360\",\"meta\":{\"versionId\":\"1\",\"lastUpdated\":\"2020-11-05T16:11:37.683Z\",\"profile\":[\"http://hl7.org/fhir/us/core/StructureDefinition/us-core-patient\"]},\"text\":{\"status\":\"generated\",\"div\":\"<div xmlns=\\\"http://www.w3.org/1999/xhtml\\\">Generated by <a href=\\\"https://github.com/synthetichealth/synthea\\\">Synthea</a>.Version identifier: v2.6.1-45-gc8c88a7e\\n .   Person seed: 6528100509630110831  Population seed: 1604287715314</div>\"},\"extension\":[{\"extension\":[{\"url\":\"ombCategory\",\"valueCoding\":{\"system\":\"urn:oid:2.16.840.1.113883.6.238\",\"code\":\"2106-3\",\"display\":\"White\"}},{\"url\":\"text\",\"valueString\":\"White\"}],\"url\":\"http://hl7.org/fhir/us/core/StructureDefinition/us-core-race\"},{\"extension\":[{\"url\":\"ombCategory\",\"valueCoding\":{\"system\":\"urn:oid:2.16.840.1.113883.6.238\",\"code\":\"2186-5\",\"display\":\"Non Hispanic or Latino\"}},{\"url\":\"text\",\"valueString\":\"Non Hispanic or Latino\"}],\"url\":\"http://hl7.org/fhir/us/core/StructureDefinition/us-core-ethnicity\"},{\"url\":\"http://hl7.org/fhir/StructureDefinition/patient-mothersMaidenName\",\"valueString\":\"Veda Yost\"},{\"url\":\"http://hl7.org/fhir/us/core/StructureDefinition/us-core-birthsex\",\"valueCode\":\"F\"},{\"url\":\"http://hl7.org/fhir/StructureDefinition/patient-birthPlace\",\"valueAddress\":{\"city\":\"Northampton\",\"state\":\"Massachusetts\",\"country\":\"US\"}},{\"url\":\"http://synthetichealth.github.io/synthea/disability-adjusted-life-years\",\"valueDecimal\":0.5093541475054438},{\"url\":\"http://synthetichealth.github.io/synthea/quality-adjusted-life-years\",\"valueDecimal\":52.49064585249456}],\"identifier\":[{\"system\":\"https://github.com/synthetichealth/synthea\",\"value\":\"2c412c88-a2c3-4944-6439-d401a61ecdcb\"},{\"type\":{\"coding\":[{\"system\":\"http://terminology.hl7.org/CodeSystem/v2-0203\",\"code\":\"MR\",\"display\":\"Medical Record Number\"}],\"text\":\"Medical Record Number\"},\"system\":\"http://hospital.smarthealthit.org\",\"value\":\"2c412c88-a2c3-4944-6439-d401a61ecdcb\"},{\"type\":{\"coding\":[{\"system\":\"http://terminology.hl7.org/CodeSystem/v2-0203\",\"code\":\"SS\",\"display\":\"Social Security Number\"}],\"text\":\"Social Security Number\"},\"system\":\"http://hl7.org/fhir/sid/us-ssn\",\"value\":\"999-66-4421\"},{\"type\":{\"coding\":[{\"system\":\"http://terminology.hl7.org/CodeSystem/v2-0203\",\"code\":\"DL\",\"display\":\"Driver's License\"}],\"text\":\"Driver's License\"},\"system\":\"urn:oid:2.16.840.1.113883.4.3.25\",\"value\":\"S99965665\"},{\"type\":{\"coding\":[{\"system\":\"http://terminology.hl7.org/CodeSystem/v2-0203\",\"code\":\"PPN\",\"display\":\"Passport Number\"}],\"text\":\"Passport Number\"},\"system\":\"http://standardhealthrecord.org/fhir/StructureDefinition/passportNumber\",\"value\":\"X57152518X\"}],\"name\":[{\"use\":\"official\",\"family\":\"Bergnaum\",\"given\":[\"Jacqueline\"],\"prefix\":[\"Mrs.\"]},{\"use\":\"maiden\",\"family\":\"Streich\",\"given\":[\"Jacqueline\"],\"prefix\":[\"Mrs.\"]}],\"telecom\":[{\"system\":\"phone\",\"value\":\"555-821-8569\",\"use\":\"home\"}],\"gender\":\"female\",\"birthDate\":\"1966-02-25\",\"address\":[{\"extension\":[{\"extension\":[{\"url\":\"latitude\",\"valueDecimal\":41.68876430172522},{\"url\":\"longitude\",\"valueDecimal\":-70.06318119170918}],\"url\":\"http://hl7.org/fhir/StructureDefinition/geolocation\"}],\"line\":[\"504 Bruen Overpass Unit 90\"],\"city\":\"Harwich\",\"state\":\"MA\",\"country\":\"US\"}],\"maritalStatus\":{\"coding\":[{\"system\":\"http://terminology.hl7.org/CodeSystem/v3-MaritalStatus\",\"code\":\"M\",\"display\":\"M\"}],\"text\":\"M\"},\"multipleBirthBoolean\":false,\"communication\":[{\"language\":{\"coding\":[{\"system\":\"urn:ietf:bcp:47\",\"code\":\"en-US\",\"display\":\"English\"}],\"text\":\"English\"}}]}\r\n",
      "{\"resourceType\":\"Patient\",\"id\":\"175c228035b-886dcee7-c8c1-41f8-9dcf-4b6f92192e02\",\"meta\":{\"versionId\":\"1\",\"lastUpdated\":\"2020-11-13T15:10:03.623Z\",\"profile\":[\"http://hl7.org/fhir/us/core/StructureDefinition/us-core-patient\"]},\"text\":{\"status\":\"generated\",\"div\":\"<div xmlns=\\\"http://www.w3.org/1999/xhtml\\\">Generated by <a href=\\\"https://github.com/synthetichealth/synthea\\\">Synthea</a>.Version identifier: v2.6.1-45-gc8c88a7e\\n .   Person seed: -8685578035875499194  Population seed: 1604618056762</div>\"},\"extension\":[{\"extension\":[{\"url\":\"ombCategory\",\"valueCoding\":{\"system\":\"urn:oid:2.16.840.1.113883.6.238\",\"code\":\"2106-3\",\"display\":\"White\"}},{\"url\":\"text\",\"valueString\":\"White\"}],\"url\":\"http://hl7.org/fhir/us/core/StructureDefinition/us-core-race\"},{\"extension\":[{\"url\":\"ombCategory\",\"valueCoding\":{\"system\":\"urn:oid:2.16.840.1.113883.6.238\",\"code\":\"2186-5\",\"display\":\"Non Hispanic or Latino\"}},{\"url\":\"text\",\"valueString\":\"Non Hispanic or Latino\"}],\"url\":\"http://hl7.org/fhir/us/core/StructureDefinition/us-core-ethnicity\"},{\"url\":\"http://hl7.org/fhir/StructureDefinition/patient-mothersMaidenName\",\"valueString\":\"Cyrstal Cronin\"},{\"url\":\"http://hl7.org/fhir/us/core/StructureDefinition/us-core-birthsex\",\"valueCode\":\"F\"},{\"url\":\"http://hl7.org/fhir/StructureDefinition/patient-birthPlace\",\"valueAddress\":{\"city\":\"Sudbury\",\"state\":\"Massachusetts\",\"country\":\"US\"}},{\"url\":\"http://synthetichealth.github.io/synthea/disability-adjusted-life-years\",\"valueDecimal\":1.6095609962843584},{\"url\":\"http://synthetichealth.github.io/synthea/quality-adjusted-life-years\",\"valueDecimal\":52.39043900371564}],\"identifier\":[{\"system\":\"https://github.com/synthetichealth/synthea\",\"value\":\"66c4a7c4-539f-cfdc-99d0-5ea4e49a19a1\"},{\"type\":{\"coding\":[{\"system\":\"http://terminology.hl7.org/CodeSystem/v2-0203\",\"code\":\"MR\",\"display\":\"Medical Record Number\"}],\"text\":\"Medical Record Number\"},\"system\":\"http://hospital.smarthealthit.org\",\"value\":\"66c4a7c4-539f-cfdc-99d0-5ea4e49a19a1\"},{\"type\":{\"coding\":[{\"system\":\"http://terminology.hl7.org/CodeSystem/v2-0203\",\"code\":\"SS\",\"display\":\"Social Security Number\"}],\"text\":\"Social Security Number\"},\"system\":\"http://hl7.org/fhir/sid/us-ssn\",\"value\":\"999-57-9826\"},{\"type\":{\"coding\":[{\"system\":\"http://terminology.hl7.org/CodeSystem/v2-0203\",\"code\":\"DL\",\"display\":\"Driver's License\"}],\"text\":\"Driver's License\"},\"system\":\"urn:oid:2.16.840.1.113883.4.3.25\",\"value\":\"S99918887\"},{\"type\":{\"coding\":[{\"system\":\"http://terminology.hl7.org/CodeSystem/v2-0203\",\"code\":\"PPN\",\"display\":\"Passport Number\"}],\"text\":\"Passport Number\"},\"system\":\"http://standardhealthrecord.org/fhir/StructureDefinition/passportNumber\",\"value\":\"X3122016X\"}],\"name\":[{\"use\":\"official\",\"family\":\"Lockman\",\"given\":[\"Kera\"],\"prefix\":[\"Mrs.\"]},{\"use\":\"maiden\",\"family\":\"Toy\",\"given\":[\"Kera\"],\"prefix\":[\"Mrs.\"]}],\"telecom\":[{\"system\":\"phone\",\"value\":\"555-447-3237\",\"use\":\"home\"}],\"gender\":\"female\",\"birthDate\":\"1965-05-28\",\"address\":[{\"extension\":[{\"extension\":[{\"url\":\"latitude\",\"valueDecimal\":42.018339474544554},{\"url\":\"longitude\",\"valueDecimal\":-70.96249014568423}],\"url\":\"http://hl7.org/fhir/StructureDefinition/geolocation\"}],\"line\":[\"289 Pacocha Hollow Apt 43\"],\"city\":\"Bridgewater\",\"state\":\"MA\",\"postalCode\":\"02324\",\"country\":\"US\"}],\"maritalStatus\":{\"coding\":[{\"system\":\"http://terminology.hl7.org/CodeSystem/v3-MaritalStatus\",\"code\":\"M\",\"display\":\"M\"}],\"text\":\"M\"},\"multipleBirthBoolean\":false,\"communication\":[{\"language\":{\"coding\":[{\"system\":\"urn:ietf:bcp:47\",\"code\":\"en-US\",\"display\":\"English\"}],\"text\":\"English\"}}]}\r\n",
      "{\"resourceType\":\"Patient\",\"id\":\"175bc6040af-17407f3c-4a5c-4479-923d-b2351829e7d7\",\"meta\":{\"versionId\":\"1\",\"lastUpdated\":\"2020-11-12T12:13:46.065Z\",\"profile\":[\"http://hl7.org/fhir/us/core/StructureDefinition/us-core-patient\"]},\"text\":{\"status\":\"generated\",\"div\":\"<div xmlns=\\\"http://www.w3.org/1999/xhtml\\\">Generated by <a href=\\\"https://github.com/synthetichealth/synthea\\\">Synthea</a>.Version identifier: v2.6.1-45-gc8c88a7e\\n .   Person seed: -2138741553698507042  Population seed: 1604618056762</div>\"},\"extension\":[{\"extension\":[{\"url\":\"ombCategory\",\"valueCoding\":{\"system\":\"urn:oid:2.16.840.1.113883.6.238\",\"code\":\"2106-3\",\"display\":\"White\"}},{\"url\":\"text\",\"valueString\":\"White\"}],\"url\":\"http://hl7.org/fhir/us/core/StructureDefinition/us-core-race\"},{\"extension\":[{\"url\":\"ombCategory\",\"valueCoding\":{\"system\":\"urn:oid:2.16.840.1.113883.6.238\",\"code\":\"2186-5\",\"display\":\"Non Hispanic or Latino\"}},{\"url\":\"text\",\"valueString\":\"Non Hispanic or Latino\"}],\"url\":\"http://hl7.org/fhir/us/core/StructureDefinition/us-core-ethnicity\"},{\"url\":\"http://hl7.org/fhir/StructureDefinition/patient-mothersMaidenName\",\"valueString\":\"Candelaria Ledner\"},{\"url\":\"http://hl7.org/fhir/us/core/StructureDefinition/us-core-birthsex\",\"valueCode\":\"F\"},{\"url\":\"http://hl7.org/fhir/StructureDefinition/patient-birthPlace\",\"valueAddress\":{\"city\":\"Plainville\",\"state\":\"Massachusetts\",\"country\":\"US\"}},{\"url\":\"http://synthetichealth.github.io/synthea/disability-adjusted-life-years\",\"valueDecimal\":9.212634629124299},{\"url\":\"http://synthetichealth.github.io/synthea/quality-adjusted-life-years\",\"valueDecimal\":53.787365370875705}],\"identifier\":[{\"system\":\"https://github.com/synthetichealth/synthea\",\"value\":\"82c93464-ce9d-c44d-d0d2-ce0afb1a735e\"},{\"type\":{\"coding\":[{\"system\":\"http://terminology.hl7.org/CodeSystem/v2-0203\",\"code\":\"MR\",\"display\":\"Medical Record Number\"}],\"text\":\"Medical Record Number\"},\"system\":\"http://hospital.smarthealthit.org\",\"value\":\"82c93464-ce9d-c44d-d0d2-ce0afb1a735e\"},{\"type\":{\"coding\":[{\"system\":\"http://terminology.hl7.org/CodeSystem/v2-0203\",\"code\":\"SS\",\"display\":\"Social Security Number\"}],\"text\":\"Social Security Number\"},\"system\":\"http://hl7.org/fhir/sid/us-ssn\",\"value\":\"999-51-6054\"},{\"type\":{\"coding\":[{\"system\":\"http://terminology.hl7.org/CodeSystem/v2-0203\",\"code\":\"DL\",\"display\":\"Driver's License\"}],\"text\":\"Driver's License\"},\"system\":\"urn:oid:2.16.840.1.113883.4.3.25\",\"value\":\"S99998142\"},{\"type\":{\"coding\":[{\"system\":\"http://terminology.hl7.org/CodeSystem/v2-0203\",\"code\":\"PPN\",\"display\":\"Passport Number\"}],\"text\":\"Passport Number\"},\"system\":\"http://standardhealthrecord.org/fhir/StructureDefinition/passportNumber\",\"value\":\"X77639035X\"}],\"name\":[{\"use\":\"official\",\"family\":\"Miller\",\"given\":[\"Annett\"],\"prefix\":[\"Mrs.\"]},{\"use\":\"maiden\",\"family\":\"Hessel\",\"given\":[\"Annett\"],\"prefix\":[\"Mrs.\"]}],\"telecom\":[{\"system\":\"phone\",\"value\":\"555-352-6885\",\"use\":\"home\"}],\"gender\":\"female\",\"birthDate\":\"1956-11-03\",\"address\":[{\"extension\":[{\"extension\":[{\"url\":\"latitude\",\"valueDecimal\":42.30442161562674},{\"url\":\"longitude\",\"valueDecimal\":-71.38248166762841}],\"url\":\"http://hl7.org/fhir/StructureDefinition/geolocation\"}],\"line\":[\"650 Yundt Harbor Suite 43\"],\"city\":\"Natick\",\"state\":\"MA\",\"country\":\"US\"}],\"maritalStatus\":{\"coding\":[{\"system\":\"http://terminology.hl7.org/CodeSystem/v3-MaritalStatus\",\"code\":\"M\",\"display\":\"M\"}],\"text\":\"M\"},\"multipleBirthBoolean\":false,\"communication\":[{\"language\":{\"coding\":[{\"system\":\"urn:ietf:bcp:47\",\"code\":\"en-US\",\"display\":\"English\"}],\"text\":\"English\"}}]}\r\n",
      "{\"resourceType\":\"Patient\",\"id\":\"175bf5b4379-8ba52962-bd3a-44fb-ada4-77f994cbe113\",\"meta\":{\"versionId\":\"1\",\"lastUpdated\":\"2020-11-13T02:07:10.719Z\",\"profile\":[\"http://hl7.org/fhir/us/core/StructureDefinition/us-core-patient\"]},\"text\":{\"status\":\"generated\",\"div\":\"<div xmlns=\\\"http://www.w3.org/1999/xhtml\\\">Generated by <a href=\\\"https://github.com/synthetichealth/synthea\\\">Synthea</a>.Version identifier: v2.6.1-45-gc8c88a7e\\n .   Person seed: 6576100285361271674  Population seed: 1604287715314</div>\"},\"extension\":[{\"extension\":[{\"url\":\"ombCategory\",\"valueCoding\":{\"system\":\"urn:oid:2.16.840.1.113883.6.238\",\"code\":\"2106-3\",\"display\":\"White\"}},{\"url\":\"text\",\"valueString\":\"White\"}],\"url\":\"http://hl7.org/fhir/us/core/StructureDefinition/us-core-race\"},{\"extension\":[{\"url\":\"ombCategory\",\"valueCoding\":{\"system\":\"urn:oid:2.16.840.1.113883.6.238\",\"code\":\"2186-5\",\"display\":\"Non Hispanic or Latino\"}},{\"url\":\"text\",\"valueString\":\"Non Hispanic or Latino\"}],\"url\":\"http://hl7.org/fhir/us/core/StructureDefinition/us-core-ethnicity\"},{\"url\":\"http://hl7.org/fhir/StructureDefinition/patient-mothersMaidenName\",\"valueString\":\"Isa Yost\"},{\"url\":\"http://hl7.org/fhir/us/core/StructureDefinition/us-core-birthsex\",\"valueCode\":\"M\"},{\"url\":\"http://hl7.org/fhir/StructureDefinition/patient-birthPlace\",\"valueAddress\":{\"city\":\"Westfield\",\"state\":\"Massachusetts\",\"country\":\"US\"}},{\"url\":\"http://synthetichealth.github.io/synthea/disability-adjusted-life-years\",\"valueDecimal\":0.0805149386188746},{\"url\":\"http://synthetichealth.github.io/synthea/quality-adjusted-life-years\",\"valueDecimal\":0.9194850613811254}],\"identifier\":[{\"system\":\"https://github.com/synthetichealth/synthea\",\"value\":\"011aa456-99a5-7a4c-d935-b36a9ec2c002\"},{\"type\":{\"coding\":[{\"system\":\"http://terminology.hl7.org/CodeSystem/v2-0203\",\"code\":\"MR\",\"display\":\"Medical Record Number\"}],\"text\":\"Medical Record Number\"},\"system\":\"http://hospital.smarthealthit.org\",\"value\":\"011aa456-99a5-7a4c-d935-b36a9ec2c002\"},{\"type\":{\"coding\":[{\"system\":\"http://terminology.hl7.org/CodeSystem/v2-0203\",\"code\":\"SS\",\"display\":\"Social Security Number\"}],\"text\":\"Social Security Number\"},\"system\":\"http://hl7.org/fhir/sid/us-ssn\",\"value\":\"999-59-9325\"}],\"name\":[{\"use\":\"official\",\"family\":\"Baumbach\",\"given\":[\"Ferdinand\"]}],\"telecom\":[{\"system\":\"phone\",\"value\":\"555-595-8321\",\"use\":\"home\"}],\"gender\":\"male\",\"birthDate\":\"2018-08-04\",\"address\":[{\"extension\":[{\"extension\":[{\"url\":\"latitude\",\"valueDecimal\":42.58923063044289},{\"url\":\"longitude\",\"valueDecimal\":-72.47442795752671}],\"url\":\"http://hl7.org/fhir/StructureDefinition/geolocation\"}],\"line\":[\"656 Koch Dam\"],\"city\":\"Millers Falls\",\"state\":\"MA\",\"postalCode\":\"01349\",\"country\":\"US\"}],\"maritalStatus\":{\"coding\":[{\"system\":\"http://terminology.hl7.org/CodeSystem/v3-MaritalStatus\",\"code\":\"S\",\"display\":\"Never Married\"}],\"text\":\"Never Married\"},\"multipleBirthBoolean\":false,\"communication\":[{\"language\":{\"coding\":[{\"system\":\"urn:ietf:bcp:47\",\"code\":\"en-US\",\"display\":\"English\"}],\"text\":\"English\"}}]}\r\n",
      "{\"resourceType\":\"Patient\",\"id\":\"175baf9c731-dd1930d1-f63c-4301-9856-dff196048197\",\"meta\":{\"versionId\":\"1\",\"lastUpdated\":\"2020-11-12T05:42:13.051Z\",\"profile\":[\"http://hl7.org/fhir/us/core/StructureDefinition/us-core-patient\"]},\"text\":{\"status\":\"generated\",\"div\":\"<div xmlns=\\\"http://www.w3.org/1999/xhtml\\\">Generated by <a href=\\\"https://github.com/synthetichealth/synthea\\\">Synthea</a>.Version identifier: v2.6.1-45-gc8c88a7e\\n .   Person seed: 8259526803066443871  Population seed: 1604618056762</div>\"},\"extension\":[{\"extension\":[{\"url\":\"ombCategory\",\"valueCoding\":{\"system\":\"urn:oid:2.16.840.1.113883.6.238\",\"code\":\"2106-3\",\"display\":\"White\"}},{\"url\":\"text\",\"valueString\":\"White\"}],\"url\":\"http://hl7.org/fhir/us/core/StructureDefinition/us-core-race\"},{\"extension\":[{\"url\":\"ombCategory\",\"valueCoding\":{\"system\":\"urn:oid:2.16.840.1.113883.6.238\",\"code\":\"2186-5\",\"display\":\"Non Hispanic or Latino\"}},{\"url\":\"text\",\"valueString\":\"Non Hispanic or Latino\"}],\"url\":\"http://hl7.org/fhir/us/core/StructureDefinition/us-core-ethnicity\"},{\"url\":\"http://hl7.org/fhir/StructureDefinition/patient-mothersMaidenName\",\"valueString\":\"Mi Fisher\"},{\"url\":\"http://hl7.org/fhir/us/core/StructureDefinition/us-core-birthsex\",\"valueCode\":\"M\"},{\"url\":\"http://hl7.org/fhir/StructureDefinition/patient-birthPlace\",\"valueAddress\":{\"city\":\"Lawrence\",\"state\":\"Massachusetts\",\"country\":\"US\"}},{\"url\":\"http://synthetichealth.github.io/synthea/disability-adjusted-life-years\",\"valueDecimal\":1.4688183130689818},{\"url\":\"http://synthetichealth.github.io/synthea/quality-adjusted-life-years\",\"valueDecimal\":50.53118168693102}],\"identifier\":[{\"system\":\"https://github.com/synthetichealth/synthea\",\"value\":\"c1d44f71-be82-94e8-089e-2602f1d1e1a0\"},{\"type\":{\"coding\":[{\"system\":\"http://terminology.hl7.org/CodeSystem/v2-0203\",\"code\":\"MR\",\"display\":\"Medical Record Number\"}],\"text\":\"Medical Record Number\"},\"system\":\"http://hospital.smarthealthit.org\",\"value\":\"c1d44f71-be82-94e8-089e-2602f1d1e1a0\"},{\"type\":{\"coding\":[{\"system\":\"http://terminology.hl7.org/CodeSystem/v2-0203\",\"code\":\"SS\",\"display\":\"Social Security Number\"}],\"text\":\"Social Security Number\"},\"system\":\"http://hl7.org/fhir/sid/us-ssn\",\"value\":\"999-62-7811\"},{\"type\":{\"coding\":[{\"system\":\"http://terminology.hl7.org/CodeSystem/v2-0203\",\"code\":\"DL\",\"display\":\"Driver's License\"}],\"text\":\"Driver's License\"},\"system\":\"urn:oid:2.16.840.1.113883.4.3.25\",\"value\":\"S99942168\"},{\"type\":{\"coding\":[{\"system\":\"http://terminology.hl7.org/CodeSystem/v2-0203\",\"code\":\"PPN\",\"display\":\"Passport Number\"}],\"text\":\"Passport Number\"},\"system\":\"http://standardhealthrecord.org/fhir/StructureDefinition/passportNumber\",\"value\":\"X35564506X\"}],\"name\":[{\"use\":\"official\",\"family\":\"O'Conner\",\"given\":[\"Amado\"],\"prefix\":[\"Mr.\"]}],\"telecom\":[{\"system\":\"phone\",\"value\":\"555-249-3714\",\"use\":\"home\"}],\"gender\":\"male\",\"birthDate\":\"1967-07-10\",\"address\":[{\"extension\":[{\"extension\":[{\"url\":\"latitude\",\"valueDecimal\":41.72243656532266},{\"url\":\"longitude\",\"valueDecimal\":-71.1392835257935}],\"url\":\"http://hl7.org/fhir/StructureDefinition/geolocation\"}],\"line\":[\"1003 Block Throughway\"],\"city\":\"Fall River\",\"state\":\"MA\",\"postalCode\":\"02747\",\"country\":\"US\"}],\"maritalStatus\":{\"coding\":[{\"system\":\"http://terminology.hl7.org/CodeSystem/v3-MaritalStatus\",\"code\":\"M\",\"display\":\"M\"}],\"text\":\"M\"},\"multipleBirthBoolean\":false,\"communication\":[{\"language\":{\"coding\":[{\"system\":\"urn:ietf:bcp:47\",\"code\":\"en-US\",\"display\":\"English\"}],\"text\":\"English\"}}]}\r\n",
      "{\"resourceType\":\"Patient\",\"id\":\"175bad9e6f6-d94a0e67-6c1a-4c4e-9a6f-52e9a6b68f8e\",\"meta\":{\"versionId\":\"1\",\"lastUpdated\":\"2020-11-12T05:07:24.027Z\",\"profile\":[\"http://hl7.org/fhir/us/core/StructureDefinition/us-core-patient\"]},\"text\":{\"status\":\"generated\",\"div\":\"<div xmlns=\\\"http://www.w3.org/1999/xhtml\\\">Generated by <a href=\\\"https://github.com/synthetichealth/synthea\\\">Synthea</a>.Version identifier: v2.6.1-45-gc8c88a7e\\n .   Person seed: -6609068457505872622  Population seed: 1604618056762</div>\"},\"extension\":[{\"extension\":[{\"url\":\"ombCategory\",\"valueCoding\":{\"system\":\"urn:oid:2.16.840.1.113883.6.238\",\"code\":\"2106-3\",\"display\":\"White\"}},{\"url\":\"text\",\"valueString\":\"White\"}],\"url\":\"http://hl7.org/fhir/us/core/StructureDefinition/us-core-race\"},{\"extension\":[{\"url\":\"ombCategory\",\"valueCoding\":{\"system\":\"urn:oid:2.16.840.1.113883.6.238\",\"code\":\"2186-5\",\"display\":\"Non Hispanic or Latino\"}},{\"url\":\"text\",\"valueString\":\"Non Hispanic or Latino\"}],\"url\":\"http://hl7.org/fhir/us/core/StructureDefinition/us-core-ethnicity\"},{\"url\":\"http://hl7.org/fhir/StructureDefinition/patient-mothersMaidenName\",\"valueString\":\"Coletta Ankunding\"},{\"url\":\"http://hl7.org/fhir/us/core/StructureDefinition/us-core-birthsex\",\"valueCode\":\"M\"},{\"url\":\"http://hl7.org/fhir/StructureDefinition/patient-birthPlace\",\"valueAddress\":{\"city\":\"Wellesley\",\"state\":\"Massachusetts\",\"country\":\"US\"}},{\"url\":\"http://synthetichealth.github.io/synthea/disability-adjusted-life-years\",\"valueDecimal\":0.11120785008011906},{\"url\":\"http://synthetichealth.github.io/synthea/quality-adjusted-life-years\",\"valueDecimal\":32.88879214991988}],\"identifier\":[{\"system\":\"https://github.com/synthetichealth/synthea\",\"value\":\"6319794a-dedf-1c37-41e2-0defe920b4cc\"},{\"type\":{\"coding\":[{\"system\":\"http://terminology.hl7.org/CodeSystem/v2-0203\",\"code\":\"MR\",\"display\":\"Medical Record Number\"}],\"text\":\"Medical Record Number\"},\"system\":\"http://hospital.smarthealthit.org\",\"value\":\"6319794a-dedf-1c37-41e2-0defe920b4cc\"},{\"type\":{\"coding\":[{\"system\":\"http://terminology.hl7.org/CodeSystem/v2-0203\",\"code\":\"SS\",\"display\":\"Social Security Number\"}],\"text\":\"Social Security Number\"},\"system\":\"http://hl7.org/fhir/sid/us-ssn\",\"value\":\"999-75-9188\"},{\"type\":{\"coding\":[{\"system\":\"http://terminology.hl7.org/CodeSystem/v2-0203\",\"code\":\"DL\",\"display\":\"Driver's License\"}],\"text\":\"Driver's License\"},\"system\":\"urn:oid:2.16.840.1.113883.4.3.25\",\"value\":\"S99977317\"},{\"type\":{\"coding\":[{\"system\":\"http://terminology.hl7.org/CodeSystem/v2-0203\",\"code\":\"PPN\",\"display\":\"Passport Number\"}],\"text\":\"Passport Number\"},\"system\":\"http://standardhealthrecord.org/fhir/StructureDefinition/passportNumber\",\"value\":\"X62677889X\"}],\"name\":[{\"use\":\"official\",\"family\":\"Stroman\",\"given\":[\"Alton\"],\"prefix\":[\"Mr.\"]}],\"telecom\":[{\"system\":\"phone\",\"value\":\"555-900-5967\",\"use\":\"home\"}],\"gender\":\"male\",\"birthDate\":\"1986-03-26\",\"address\":[{\"extension\":[{\"extension\":[{\"url\":\"latitude\",\"valueDecimal\":42.11659636031727},{\"url\":\"longitude\",\"valueDecimal\":-70.6997071650609}],\"url\":\"http://hl7.org/fhir/StructureDefinition/geolocation\"}],\"line\":[\"329 Johnston Trail Suite 36\"],\"city\":\"Marshfield\",\"state\":\"MA\",\"country\":\"US\"}],\"maritalStatus\":{\"coding\":[{\"system\":\"http://terminology.hl7.org/CodeSystem/v3-MaritalStatus\",\"code\":\"M\",\"display\":\"M\"}],\"text\":\"M\"},\"multipleBirthBoolean\":false,\"communication\":[{\"language\":{\"coding\":[{\"system\":\"urn:ietf:bcp:47\",\"code\":\"en-US\",\"display\":\"English\"}],\"text\":\"English\"}}]}\r\n",
      "{\"resourceType\":\"Patient\",\"id\":\"175c0b9256d-be0f5fa5-32d4-45ad-9848-2df55ca24972\",\"meta\":{\"versionId\":\"1\",\"lastUpdated\":\"2020-11-13T08:29:20.633Z\",\"profile\":[\"http://hl7.org/fhir/us/core/StructureDefinition/us-core-patient\"]},\"text\":{\"status\":\"generated\",\"div\":\"<div xmlns=\\\"http://www.w3.org/1999/xhtml\\\">Generated by <a href=\\\"https://github.com/synthetichealth/synthea\\\">Synthea</a>.Version identifier: v2.6.1-45-gc8c88a7e\\n .   Person seed: -8759499453952249014  Population seed: 1604618056762</div>\"},\"extension\":[{\"extension\":[{\"url\":\"ombCategory\",\"valueCoding\":{\"system\":\"urn:oid:2.16.840.1.113883.6.238\",\"code\":\"2106-3\",\"display\":\"White\"}},{\"url\":\"text\",\"valueString\":\"White\"}],\"url\":\"http://hl7.org/fhir/us/core/StructureDefinition/us-core-race\"},{\"extension\":[{\"url\":\"ombCategory\",\"valueCoding\":{\"system\":\"urn:oid:2.16.840.1.113883.6.238\",\"code\":\"2135-2\",\"display\":\"Hispanic or Latino\"}},{\"url\":\"text\",\"valueString\":\"Hispanic or Latino\"}],\"url\":\"http://hl7.org/fhir/us/core/StructureDefinition/us-core-ethnicity\"},{\"url\":\"http://hl7.org/fhir/StructureDefinition/patient-mothersMaidenName\",\"valueString\":\"Carmina Stamm\"},{\"url\":\"http://hl7.org/fhir/us/core/StructureDefinition/us-core-birthsex\",\"valueCode\":\"M\"},{\"url\":\"http://hl7.org/fhir/StructureDefinition/patient-birthPlace\",\"valueAddress\":{\"city\":\"Framingham\",\"state\":\"Massachusetts\",\"country\":\"US\"}},{\"url\":\"http://synthetichealth.github.io/synthea/disability-adjusted-life-years\",\"valueDecimal\":0.0023491872495428664},{\"url\":\"http://synthetichealth.github.io/synthea/quality-adjusted-life-years\",\"valueDecimal\":28.997650812750457}],\"identifier\":[{\"system\":\"https://github.com/synthetichealth/synthea\",\"value\":\"8d5b095e-bbe0-4c92-c4a2-3b77ca556d15\"},{\"type\":{\"coding\":[{\"system\":\"http://terminology.hl7.org/CodeSystem/v2-0203\",\"code\":\"MR\",\"display\":\"Medical Record Number\"}],\"text\":\"Medical Record Number\"},\"system\":\"http://hospital.smarthealthit.org\",\"value\":\"8d5b095e-bbe0-4c92-c4a2-3b77ca556d15\"},{\"type\":{\"coding\":[{\"system\":\"http://terminology.hl7.org/CodeSystem/v2-0203\",\"code\":\"SS\",\"display\":\"Social Security Number\"}],\"text\":\"Social Security Number\"},\"system\":\"http://hl7.org/fhir/sid/us-ssn\",\"value\":\"999-76-4076\"},{\"type\":{\"coding\":[{\"system\":\"http://terminology.hl7.org/CodeSystem/v2-0203\",\"code\":\"DL\",\"display\":\"Driver's License\"}],\"text\":\"Driver's License\"},\"system\":\"urn:oid:2.16.840.1.113883.4.3.25\",\"value\":\"S99920768\"},{\"type\":{\"coding\":[{\"system\":\"http://terminology.hl7.org/CodeSystem/v2-0203\",\"code\":\"PPN\",\"display\":\"Passport Number\"}],\"text\":\"Passport Number\"},\"system\":\"http://standardhealthrecord.org/fhir/StructureDefinition/passportNumber\",\"value\":\"X10711505X\"}],\"name\":[{\"use\":\"official\",\"family\":\"Rutherford\",\"given\":[\"Barry\"],\"prefix\":[\"Mr.\"]}],\"telecom\":[{\"system\":\"phone\",\"value\":\"555-956-6795\",\"use\":\"home\"}],\"gender\":\"male\",\"birthDate\":\"1971-08-07\",\"deceasedDateTime\":\"2001-02-05T21:13:46-05:00\",\"address\":[{\"extension\":[{\"extension\":[{\"url\":\"latitude\",\"valueDecimal\":42.17124051450019},{\"url\":\"longitude\",\"valueDecimal\":-72.62817191741492}],\"url\":\"http://hl7.org/fhir/StructureDefinition/geolocation\"}],\"line\":[\"1064 Kessler Throughway Suite 76\"],\"city\":\"Holyoke\",\"state\":\"MA\",\"postalCode\":\"01040\",\"country\":\"US\"}],\"maritalStatus\":{\"coding\":[{\"system\":\"http://terminology.hl7.org/CodeSystem/v3-MaritalStatus\",\"code\":\"M\",\"display\":\"M\"}],\"text\":\"M\"},\"multipleBirthBoolean\":false,\"communication\":[{\"language\":{\"coding\":[{\"system\":\"urn:ietf:bcp:47\",\"code\":\"en-US\",\"display\":\"English\"}],\"text\":\"English\"}}]}\r\n",
      "{\"resourceType\":\"Patient\",\"id\":\"175bedb0b2b-1ac4dc6b-0084-48b2-95f0-3cded67bac0c\",\"meta\":{\"versionId\":\"1\",\"lastUpdated\":\"2020-11-12T23:47:07.698Z\",\"profile\":[\"http://hl7.org/fhir/us/core/StructureDefinition/us-core-patient\"]},\"text\":{\"status\":\"generated\",\"div\":\"<div xmlns=\\\"http://www.w3.org/1999/xhtml\\\">Generated by <a href=\\\"https://github.com/synthetichealth/synthea\\\">Synthea</a>.Version identifier: v2.6.1-45-gc8c88a7e\\n .   Person seed: 5151294287851598501  Population seed: 1604287715314</div>\"},\"extension\":[{\"extension\":[{\"url\":\"ombCategory\",\"valueCoding\":{\"system\":\"urn:oid:2.16.840.1.113883.6.238\",\"code\":\"2106-3\",\"display\":\"White\"}},{\"url\":\"text\",\"valueString\":\"White\"}],\"url\":\"http://hl7.org/fhir/us/core/StructureDefinition/us-core-race\"},{\"extension\":[{\"url\":\"ombCategory\",\"valueCoding\":{\"system\":\"urn:oid:2.16.840.1.113883.6.238\",\"code\":\"2186-5\",\"display\":\"Non Hispanic or Latino\"}},{\"url\":\"text\",\"valueString\":\"Non Hispanic or Latino\"}],\"url\":\"http://hl7.org/fhir/us/core/StructureDefinition/us-core-ethnicity\"},{\"url\":\"http://hl7.org/fhir/StructureDefinition/patient-mothersMaidenName\",\"valueString\":\"Wilda O'Kon\"},{\"url\":\"http://hl7.org/fhir/us/core/StructureDefinition/us-core-birthsex\",\"valueCode\":\"M\"},{\"url\":\"http://hl7.org/fhir/StructureDefinition/patient-birthPlace\",\"valueAddress\":{\"city\":\"Ludlow\",\"state\":\"Massachusetts\",\"country\":\"US\"}},{\"url\":\"http://synthetichealth.github.io/synthea/disability-adjusted-life-years\",\"valueDecimal\":1.44401465952885},{\"url\":\"http://synthetichealth.github.io/synthea/quality-adjusted-life-years\",\"valueDecimal\":38.55598534047115}],\"identifier\":[{\"system\":\"https://github.com/synthetichealth/synthea\",\"value\":\"b08aee17-0977-73e8-404c-78eac9ed6428\"},{\"type\":{\"coding\":[{\"system\":\"http://terminology.hl7.org/CodeSystem/v2-0203\",\"code\":\"MR\",\"display\":\"Medical Record Number\"}],\"text\":\"Medical Record Number\"},\"system\":\"http://hospital.smarthealthit.org\",\"value\":\"b08aee17-0977-73e8-404c-78eac9ed6428\"},{\"type\":{\"coding\":[{\"system\":\"http://terminology.hl7.org/CodeSystem/v2-0203\",\"code\":\"SS\",\"display\":\"Social Security Number\"}],\"text\":\"Social Security Number\"},\"system\":\"http://hl7.org/fhir/sid/us-ssn\",\"value\":\"999-76-8416\"},{\"type\":{\"coding\":[{\"system\":\"http://terminology.hl7.org/CodeSystem/v2-0203\",\"code\":\"DL\",\"display\":\"Driver's License\"}],\"text\":\"Driver's License\"},\"system\":\"urn:oid:2.16.840.1.113883.4.3.25\",\"value\":\"S99953112\"},{\"type\":{\"coding\":[{\"system\":\"http://terminology.hl7.org/CodeSystem/v2-0203\",\"code\":\"PPN\",\"display\":\"Passport Number\"}],\"text\":\"Passport Number\"},\"system\":\"http://standardhealthrecord.org/fhir/StructureDefinition/passportNumber\",\"value\":\"X4647006X\"}],\"name\":[{\"use\":\"official\",\"family\":\"Windler\",\"given\":[\"Connie\"],\"prefix\":[\"Mr.\"]}],\"telecom\":[{\"system\":\"phone\",\"value\":\"555-982-4632\",\"use\":\"home\"}],\"gender\":\"male\",\"birthDate\":\"1979-04-22\",\"address\":[{\"extension\":[{\"extension\":[{\"url\":\"latitude\",\"valueDecimal\":42.39112935875138},{\"url\":\"longitude\",\"valueDecimal\":-71.01338395992506}],\"url\":\"http://hl7.org/fhir/StructureDefinition/geolocation\"}],\"line\":[\"741 Walter Overpass\"],\"city\":\"Malden\",\"state\":\"MA\",\"postalCode\":\"02148\",\"country\":\"US\"}],\"maritalStatus\":{\"coding\":[{\"system\":\"http://terminology.hl7.org/CodeSystem/v3-MaritalStatus\",\"code\":\"S\",\"display\":\"S\"}],\"text\":\"S\"},\"multipleBirthBoolean\":false,\"communication\":[{\"language\":{\"coding\":[{\"system\":\"urn:ietf:bcp:47\",\"code\":\"en-US\",\"display\":\"English\"}],\"text\":\"English\"}}]}\r\n",
      "{\"resourceType\":\"Patient\",\"id\":\"175999e289f-87a603bb-f58a-4b2d-bbb8-7c302c267fbb\",\"meta\":{\"versionId\":\"1\",\"lastUpdated\":\"2020-11-05T18:14:40.554Z\",\"profile\":[\"http://hl7.org/fhir/us/core/StructureDefinition/us-core-patient\"]},\"text\":{\"status\":\"generated\",\"div\":\"<div xmlns=\\\"http://www.w3.org/1999/xhtml\\\">Generated by <a href=\\\"https://github.com/synthetichealth/synthea\\\">Synthea</a>.Version identifier: v2.6.1-45-gc8c88a7e\\n .   Person seed: -3847467908193721252  Population seed: 1604287715314</div>\"},\"extension\":[{\"extension\":[{\"url\":\"ombCategory\",\"valueCoding\":{\"system\":\"urn:oid:2.16.840.1.113883.6.238\",\"code\":\"2106-3\",\"display\":\"White\"}},{\"url\":\"text\",\"valueString\":\"White\"}],\"url\":\"http://hl7.org/fhir/us/core/StructureDefinition/us-core-race\"},{\"extension\":[{\"url\":\"ombCategory\",\"valueCoding\":{\"system\":\"urn:oid:2.16.840.1.113883.6.238\",\"code\":\"2135-2\",\"display\":\"Hispanic or Latino\"}},{\"url\":\"text\",\"valueString\":\"Hispanic or Latino\"}],\"url\":\"http://hl7.org/fhir/us/core/StructureDefinition/us-core-ethnicity\"},{\"url\":\"http://hl7.org/fhir/StructureDefinition/patient-mothersMaidenName\",\"valueString\":\"Leticia Rol�n\"},{\"url\":\"http://hl7.org/fhir/us/core/StructureDefinition/us-core-birthsex\",\"valueCode\":\"F\"},{\"url\":\"http://hl7.org/fhir/StructureDefinition/patient-birthPlace\",\"valueAddress\":{\"city\":\"San Juan\",\"state\":\"Puerto Rico\",\"country\":\"PR\"}},{\"url\":\"http://synthetichealth.github.io/synthea/disability-adjusted-life-years\",\"valueDecimal\":2.181954426316043},{\"url\":\"http://synthetichealth.github.io/synthea/quality-adjusted-life-years\",\"valueDecimal\":51.81804557368396}],\"identifier\":[{\"system\":\"https://github.com/synthetichealth/synthea\",\"value\":\"c19a6279-768c-75d5-335a-b2c38c882d1a\"},{\"type\":{\"coding\":[{\"system\":\"http://terminology.hl7.org/CodeSystem/v2-0203\",\"code\":\"MR\",\"display\":\"Medical Record Number\"}],\"text\":\"Medical Record Number\"},\"system\":\"http://hospital.smarthealthit.org\",\"value\":\"c19a6279-768c-75d5-335a-b2c38c882d1a\"},{\"type\":{\"coding\":[{\"system\":\"http://terminology.hl7.org/CodeSystem/v2-0203\",\"code\":\"SS\",\"display\":\"Social Security Number\"}],\"text\":\"Social Security Number\"},\"system\":\"http://hl7.org/fhir/sid/us-ssn\",\"value\":\"999-81-6729\"},{\"type\":{\"coding\":[{\"system\":\"http://terminology.hl7.org/CodeSystem/v2-0203\",\"code\":\"DL\",\"display\":\"Driver's License\"}],\"text\":\"Driver's License\"},\"system\":\"urn:oid:2.16.840.1.113883.4.3.25\",\"value\":\"S99950208\"},{\"type\":{\"coding\":[{\"system\":\"http://terminology.hl7.org/CodeSystem/v2-0203\",\"code\":\"PPN\",\"display\":\"Passport Number\"}],\"text\":\"Passport Number\"},\"system\":\"http://standardhealthrecord.org/fhir/StructureDefinition/passportNumber\",\"value\":\"X38957490X\"}],\"name\":[{\"use\":\"official\",\"family\":\"Osorio\",\"given\":[\"Raquel\"],\"prefix\":[\"Mrs.\"]},{\"use\":\"maiden\",\"family\":\"Barrios\",\"given\":[\"Raquel\"],\"prefix\":[\"Mrs.\"]}],\"telecom\":[{\"system\":\"phone\",\"value\":\"555-710-9171\",\"use\":\"home\"}],\"gender\":\"female\",\"birthDate\":\"1965-09-18\",\"address\":[{\"extension\":[{\"extension\":[{\"url\":\"latitude\",\"valueDecimal\":41.73505267649058},{\"url\":\"longitude\",\"valueDecimal\":-71.16531369200526}],\"url\":\"http://hl7.org/fhir/StructureDefinition/geolocation\"}],\"line\":[\"426 Trantow Wall\"],\"city\":\"Fall River\",\"state\":\"MA\",\"postalCode\":\"02723\",\"country\":\"US\"}],\"maritalStatus\":{\"coding\":[{\"system\":\"http://terminology.hl7.org/CodeSystem/v3-MaritalStatus\",\"code\":\"M\",\"display\":\"M\"}],\"text\":\"M\"},\"multipleBirthBoolean\":false,\"communication\":[{\"language\":{\"coding\":[{\"system\":\"urn:ietf:bcp:47\",\"code\":\"es\",\"display\":\"Spanish\"}],\"text\":\"Spanish\"}}]}\r\n",
      "{\"resourceType\":\"Patient\",\"id\":\"1759c384d68-f0f2c512-7143-4b31-a26a-f68192b566d3\",\"meta\":{\"versionId\":\"1\",\"lastUpdated\":\"2020-11-06T06:22:16.95Z\",\"profile\":[\"http://hl7.org/fhir/us/core/StructureDefinition/us-core-patient\"]},\"text\":{\"status\":\"generated\",\"div\":\"<div xmlns=\\\"http://www.w3.org/1999/xhtml\\\">Generated by <a href=\\\"https://github.com/synthetichealth/synthea\\\">Synthea</a>.Version identifier: v2.6.1-45-gc8c88a7e\\n .   Person seed: 6605440444798407813  Population seed: 1604618056762</div>\"},\"extension\":[{\"extension\":[{\"url\":\"ombCategory\",\"valueCoding\":{\"system\":\"urn:oid:2.16.840.1.113883.6.238\",\"code\":\"2106-3\",\"display\":\"White\"}},{\"url\":\"text\",\"valueString\":\"White\"}],\"url\":\"http://hl7.org/fhir/us/core/StructureDefinition/us-core-race\"},{\"extension\":[{\"url\":\"ombCategory\",\"valueCoding\":{\"system\":\"urn:oid:2.16.840.1.113883.6.238\",\"code\":\"2186-5\",\"display\":\"Non Hispanic or Latino\"}},{\"url\":\"text\",\"valueString\":\"Non Hispanic or Latino\"}],\"url\":\"http://hl7.org/fhir/us/core/StructureDefinition/us-core-ethnicity\"},{\"url\":\"http://hl7.org/fhir/StructureDefinition/patient-mothersMaidenName\",\"valueString\":\"Tracee Kuhic\"},{\"url\":\"http://hl7.org/fhir/us/core/StructureDefinition/us-core-birthsex\",\"valueCode\":\"F\"},{\"url\":\"http://hl7.org/fhir/StructureDefinition/patient-birthPlace\",\"valueAddress\":{\"city\":\"Lancaster\",\"state\":\"Massachusetts\",\"country\":\"US\"}},{\"url\":\"http://synthetichealth.github.io/synthea/disability-adjusted-life-years\",\"valueDecimal\":5.520816597166037},{\"url\":\"http://synthetichealth.github.io/synthea/quality-adjusted-life-years\",\"valueDecimal\":56.47918340283396}],\"identifier\":[{\"system\":\"https://github.com/synthetichealth/synthea\",\"value\":\"5bdf9de7-d85e-ff0f-191a-9c702411aa42\"},{\"type\":{\"coding\":[{\"system\":\"http://terminology.hl7.org/CodeSystem/v2-0203\",\"code\":\"MR\",\"display\":\"Medical Record Number\"}],\"text\":\"Medical Record Number\"},\"system\":\"http://hospital.smarthealthit.org\",\"value\":\"5bdf9de7-d85e-ff0f-191a-9c702411aa42\"},{\"type\":{\"coding\":[{\"system\":\"http://terminology.hl7.org/CodeSystem/v2-0203\",\"code\":\"SS\",\"display\":\"Social Security Number\"}],\"text\":\"Social Security Number\"},\"system\":\"http://hl7.org/fhir/sid/us-ssn\",\"value\":\"999-49-5058\"},{\"type\":{\"coding\":[{\"system\":\"http://terminology.hl7.org/CodeSystem/v2-0203\",\"code\":\"DL\",\"display\":\"Driver's License\"}],\"text\":\"Driver's License\"},\"system\":\"urn:oid:2.16.840.1.113883.4.3.25\",\"value\":\"S99941000\"},{\"type\":{\"coding\":[{\"system\":\"http://terminology.hl7.org/CodeSystem/v2-0203\",\"code\":\"PPN\",\"display\":\"Passport Number\"}],\"text\":\"Passport Number\"},\"system\":\"http://standardhealthrecord.org/fhir/StructureDefinition/passportNumber\",\"value\":\"X74680109X\"}],\"name\":[{\"use\":\"official\",\"family\":\"Hammes\",\"given\":[\"Amparo\"],\"prefix\":[\"Mrs.\"]},{\"use\":\"maiden\",\"family\":\"Jenkins\",\"given\":[\"Amparo\"],\"prefix\":[\"Mrs.\"]}],\"telecom\":[{\"system\":\"phone\",\"value\":\"555-455-1684\",\"use\":\"home\"}],\"gender\":\"female\",\"birthDate\":\"1957-04-09\",\"deceasedDateTime\":\"2020-03-20T15:47:20-04:00\",\"address\":[{\"extension\":[{\"extension\":[{\"url\":\"latitude\",\"valueDecimal\":42.0151196505135},{\"url\":\"longitude\",\"valueDecimal\":-71.24289956003105}],\"url\":\"http://hl7.org/fhir/StructureDefinition/geolocation\"}],\"line\":[\"609 Lubowitz Approach\"],\"city\":\"Mansfield\",\"state\":\"MA\",\"country\":\"US\"}],\"maritalStatus\":{\"coding\":[{\"system\":\"http://terminology.hl7.org/CodeSystem/v3-MaritalStatus\",\"code\":\"M\",\"display\":\"M\"}],\"text\":\"M\"},\"multipleBirthBoolean\":false,\"communication\":[{\"language\":{\"coding\":[{\"system\":\"urn:ietf:bcp:47\",\"code\":\"en-US\",\"display\":\"English\"}],\"text\":\"English\"}}]}\r\n",
      "{\"resourceType\":\"Patient\",\"id\":\"17599882dd1-952e4346-77fa-4c68-840f-a5eadfd3beb4\",\"meta\":{\"versionId\":\"1\",\"lastUpdated\":\"2020-11-05T17:50:40.09Z\",\"profile\":[\"http://hl7.org/fhir/us/core/StructureDefinition/us-core-patient\"]},\"text\":{\"status\":\"generated\",\"div\":\"<div xmlns=\\\"http://www.w3.org/1999/xhtml\\\">Generated by <a href=\\\"https://github.com/synthetichealth/synthea\\\">Synthea</a>.Version identifier: v2.6.1-45-gc8c88a7e\\n .   Person seed: -5463633259864597864  Population seed: 1604287715314</div>\"},\"extension\":[{\"extension\":[{\"url\":\"ombCategory\",\"valueCoding\":{\"system\":\"urn:oid:2.16.840.1.113883.6.238\",\"code\":\"2106-3\",\"display\":\"White\"}},{\"url\":\"text\",\"valueString\":\"White\"}],\"url\":\"http://hl7.org/fhir/us/core/StructureDefinition/us-core-race\"},{\"extension\":[{\"url\":\"ombCategory\",\"valueCoding\":{\"system\":\"urn:oid:2.16.840.1.113883.6.238\",\"code\":\"2186-5\",\"display\":\"Non Hispanic or Latino\"}},{\"url\":\"text\",\"valueString\":\"Non Hispanic or Latino\"}],\"url\":\"http://hl7.org/fhir/us/core/StructureDefinition/us-core-ethnicity\"},{\"url\":\"http://hl7.org/fhir/StructureDefinition/patient-mothersMaidenName\",\"valueString\":\"Hildred Waelchi\"},{\"url\":\"http://hl7.org/fhir/us/core/StructureDefinition/us-core-birthsex\",\"valueCode\":\"M\"},{\"url\":\"http://hl7.org/fhir/StructureDefinition/patient-birthPlace\",\"valueAddress\":{\"city\":\"Springfield\",\"state\":\"Massachusetts\",\"country\":\"US\"}},{\"url\":\"http://synthetichealth.github.io/synthea/disability-adjusted-life-years\",\"valueDecimal\":12.003406686695001},{\"url\":\"http://synthetichealth.github.io/synthea/quality-adjusted-life-years\",\"valueDecimal\":25.996593313305}],\"identifier\":[{\"system\":\"https://github.com/synthetichealth/synthea\",\"value\":\"a465ea50-5d71-6966-13a4-623ca96af091\"},{\"type\":{\"coding\":[{\"system\":\"http://terminology.hl7.org/CodeSystem/v2-0203\",\"code\":\"MR\",\"display\":\"Medical Record Number\"}],\"text\":\"Medical Record Number\"},\"system\":\"http://hospital.smarthealthit.org\",\"value\":\"a465ea50-5d71-6966-13a4-623ca96af091\"},{\"type\":{\"coding\":[{\"system\":\"http://terminology.hl7.org/CodeSystem/v2-0203\",\"code\":\"SS\",\"display\":\"Social Security Number\"}],\"text\":\"Social Security Number\"},\"system\":\"http://hl7.org/fhir/sid/us-ssn\",\"value\":\"999-26-3624\"},{\"type\":{\"coding\":[{\"system\":\"http://terminology.hl7.org/CodeSystem/v2-0203\",\"code\":\"DL\",\"display\":\"Driver's License\"}],\"text\":\"Driver's License\"},\"system\":\"urn:oid:2.16.840.1.113883.4.3.25\",\"value\":\"S99981801\"},{\"type\":{\"coding\":[{\"system\":\"http://terminology.hl7.org/CodeSystem/v2-0203\",\"code\":\"PPN\",\"display\":\"Passport Number\"}],\"text\":\"Passport Number\"},\"system\":\"http://standardhealthrecord.org/fhir/StructureDefinition/passportNumber\",\"value\":\"X76474479X\"}],\"name\":[{\"use\":\"official\",\"family\":\"Reilly\",\"given\":[\"Myron\"],\"prefix\":[\"Mr.\"]}],\"telecom\":[{\"system\":\"phone\",\"value\":\"555-613-4360\",\"use\":\"home\"}],\"gender\":\"male\",\"birthDate\":\"1968-04-16\",\"deceasedDateTime\":\"2007-12-11T15:30:10-05:00\",\"address\":[{\"extension\":[{\"extension\":[{\"url\":\"latitude\",\"valueDecimal\":42.27939647894554},{\"url\":\"longitude\",\"valueDecimal\":-70.90468672019144}],\"url\":\"http://hl7.org/fhir/StructureDefinition/geolocation\"}],\"line\":[\"214 Metz Rapid\"],\"city\":\"Weymouth\",\"state\":\"MA\",\"postalCode\":\"02189\",\"country\":\"US\"}],\"maritalStatus\":{\"coding\":[{\"system\":\"http://terminology.hl7.org/CodeSystem/v3-MaritalStatus\",\"code\":\"M\",\"display\":\"M\"}],\"text\":\"M\"},\"multipleBirthBoolean\":false,\"communication\":[{\"language\":{\"coding\":[{\"system\":\"urn:ietf:bcp:47\",\"code\":\"en-US\",\"display\":\"English\"}],\"text\":\"English\"}}]}\r\n",
      "{\"resourceType\":\"Patient\",\"id\":\"175bf6fe970-4938ecb1-380a-40d3-aea0-a80899de060a\",\"meta\":{\"versionId\":\"1\",\"lastUpdated\":\"2020-11-13T02:29:43.928Z\",\"profile\":[\"http://hl7.org/fhir/us/core/StructureDefinition/us-core-patient\"]},\"text\":{\"status\":\"generated\",\"div\":\"<div xmlns=\\\"http://www.w3.org/1999/xhtml\\\">Generated by <a href=\\\"https://github.com/synthetichealth/synthea\\\">Synthea</a>.Version identifier: v2.6.1-45-gc8c88a7e\\n .   Person seed: 5023584965876336481  Population seed: 1604287715314</div>\"},\"extension\":[{\"extension\":[{\"url\":\"ombCategory\",\"valueCoding\":{\"system\":\"urn:oid:2.16.840.1.113883.6.238\",\"code\":\"2106-3\",\"display\":\"White\"}},{\"url\":\"text\",\"valueString\":\"White\"}],\"url\":\"http://hl7.org/fhir/us/core/StructureDefinition/us-core-race\"},{\"extension\":[{\"url\":\"ombCategory\",\"valueCoding\":{\"system\":\"urn:oid:2.16.840.1.113883.6.238\",\"code\":\"2186-5\",\"display\":\"Non Hispanic or Latino\"}},{\"url\":\"text\",\"valueString\":\"Non Hispanic or Latino\"}],\"url\":\"http://hl7.org/fhir/us/core/StructureDefinition/us-core-ethnicity\"},{\"url\":\"http://hl7.org/fhir/StructureDefinition/patient-mothersMaidenName\",\"valueString\":\"Angelyn Pagac\"},{\"url\":\"http://hl7.org/fhir/us/core/StructureDefinition/us-core-birthsex\",\"valueCode\":\"F\"},{\"url\":\"http://hl7.org/fhir/StructureDefinition/patient-birthPlace\",\"valueAddress\":{\"city\":\"Fitchburg\",\"state\":\"Massachusetts\",\"country\":\"US\"}},{\"url\":\"http://synthetichealth.github.io/synthea/disability-adjusted-life-years\",\"valueDecimal\":0.4697149185346634},{\"url\":\"http://synthetichealth.github.io/synthea/quality-adjusted-life-years\",\"valueDecimal\":13.530285081465337}],\"identifier\":[{\"system\":\"https://github.com/synthetichealth/synthea\",\"value\":\"466485d1-d3e3-e583-a4da-e99a201e4f93\"},{\"type\":{\"coding\":[{\"system\":\"http://terminology.hl7.org/CodeSystem/v2-0203\",\"code\":\"MR\",\"display\":\"Medical Record Number\"}],\"text\":\"Medical Record Number\"},\"system\":\"http://hospital.smarthealthit.org\",\"value\":\"466485d1-d3e3-e583-a4da-e99a201e4f93\"},{\"type\":{\"coding\":[{\"system\":\"http://terminology.hl7.org/CodeSystem/v2-0203\",\"code\":\"SS\",\"display\":\"Social Security Number\"}],\"text\":\"Social Security Number\"},\"system\":\"http://hl7.org/fhir/sid/us-ssn\",\"value\":\"999-70-7623\"}],\"name\":[{\"use\":\"official\",\"family\":\"Wehner\",\"given\":[\"Freeda\"]}],\"telecom\":[{\"system\":\"phone\",\"value\":\"555-710-5478\",\"use\":\"home\"}],\"gender\":\"female\",\"birthDate\":\"2005-07-14\",\"address\":[{\"extension\":[{\"extension\":[{\"url\":\"latitude\",\"valueDecimal\":42.29908382931633},{\"url\":\"longitude\",\"valueDecimal\":-72.5656009336499}],\"url\":\"http://hl7.org/fhir/StructureDefinition/geolocation\"}],\"line\":[\"510 Konopelski Light\"],\"city\":\"South Hadley\",\"state\":\"MA\",\"country\":\"US\"}],\"maritalStatus\":{\"coding\":[{\"system\":\"http://terminology.hl7.org/CodeSystem/v3-MaritalStatus\",\"code\":\"S\",\"display\":\"Never Married\"}],\"text\":\"Never Married\"},\"multipleBirthBoolean\":false,\"communication\":[{\"language\":{\"coding\":[{\"system\":\"urn:ietf:bcp:47\",\"code\":\"en-US\",\"display\":\"English\"}],\"text\":\"English\"}}]}\r\n",
      "{\"resourceType\":\"Patient\",\"id\":\"175bc30cb6d-ea179013-3dc5-451b-9fd9-920ade6b251d\",\"meta\":{\"versionId\":\"1\",\"lastUpdated\":\"2020-11-12T11:21:55.833Z\",\"profile\":[\"http://hl7.org/fhir/us/core/StructureDefinition/us-core-patient\"]},\"text\":{\"status\":\"generated\",\"div\":\"<div xmlns=\\\"http://www.w3.org/1999/xhtml\\\">Generated by <a href=\\\"https://github.com/synthetichealth/synthea\\\">Synthea</a>.Version identifier: v2.6.1-45-gc8c88a7e\\n .   Person seed: -3906462213851746096  Population seed: 1604618056762</div>\"},\"extension\":[{\"extension\":[{\"url\":\"ombCategory\",\"valueCoding\":{\"system\":\"urn:oid:2.16.840.1.113883.6.238\",\"code\":\"2054-5\",\"display\":\"Black or African American\"}},{\"url\":\"text\",\"valueString\":\"Black or African American\"}],\"url\":\"http://hl7.org/fhir/us/core/StructureDefinition/us-core-race\"},{\"extension\":[{\"url\":\"ombCategory\",\"valueCoding\":{\"system\":\"urn:oid:2.16.840.1.113883.6.238\",\"code\":\"2186-5\",\"display\":\"Non Hispanic or Latino\"}},{\"url\":\"text\",\"valueString\":\"Non Hispanic or Latino\"}],\"url\":\"http://hl7.org/fhir/us/core/StructureDefinition/us-core-ethnicity\"},{\"url\":\"http://hl7.org/fhir/StructureDefinition/patient-mothersMaidenName\",\"valueString\":\"Faustina Bailey\"},{\"url\":\"http://hl7.org/fhir/us/core/StructureDefinition/us-core-birthsex\",\"valueCode\":\"F\"},{\"url\":\"http://hl7.org/fhir/StructureDefinition/patient-birthPlace\",\"valueAddress\":{\"city\":\"Boston\",\"state\":\"Massachusetts\",\"country\":\"US\"}},{\"url\":\"http://synthetichealth.github.io/synthea/disability-adjusted-life-years\",\"valueDecimal\":0.0},{\"url\":\"http://synthetichealth.github.io/synthea/quality-adjusted-life-years\",\"valueDecimal\":1.0}],\"identifier\":[{\"system\":\"https://github.com/synthetichealth/synthea\",\"value\":\"f496ff71-f15b-5484-d955-59b3b24a4b17\"},{\"type\":{\"coding\":[{\"system\":\"http://terminology.hl7.org/CodeSystem/v2-0203\",\"code\":\"MR\",\"display\":\"Medical Record Number\"}],\"text\":\"Medical Record Number\"},\"system\":\"http://hospital.smarthealthit.org\",\"value\":\"f496ff71-f15b-5484-d955-59b3b24a4b17\"},{\"type\":{\"coding\":[{\"system\":\"http://terminology.hl7.org/CodeSystem/v2-0203\",\"code\":\"SS\",\"display\":\"Social Security Number\"}],\"text\":\"Social Security Number\"},\"system\":\"http://hl7.org/fhir/sid/us-ssn\",\"value\":\"999-75-2004\"}],\"name\":[{\"use\":\"official\",\"family\":\"Kub\",\"given\":[\"Annett\"]}],\"telecom\":[{\"system\":\"phone\",\"value\":\"555-375-6200\",\"use\":\"home\"}],\"gender\":\"female\",\"birthDate\":\"2018-05-18\",\"address\":[{\"extension\":[{\"extension\":[{\"url\":\"latitude\",\"valueDecimal\":42.37192097065},{\"url\":\"longitude\",\"valueDecimal\":-71.0324458367702}],\"url\":\"http://hl7.org/fhir/StructureDefinition/geolocation\"}],\"line\":[\"103 Stamm Approach Apt 66\"],\"city\":\"Boston\",\"state\":\"MA\",\"postalCode\":\"02127\",\"country\":\"US\"}],\"maritalStatus\":{\"coding\":[{\"system\":\"http://terminology.hl7.org/CodeSystem/v3-MaritalStatus\",\"code\":\"S\",\"display\":\"Never Married\"}],\"text\":\"Never Married\"},\"multipleBirthBoolean\":false,\"communication\":[{\"language\":{\"coding\":[{\"system\":\"urn:ietf:bcp:47\",\"code\":\"en-US\",\"display\":\"English\"}],\"text\":\"English\"}}]}\r\n",
      "{\"resourceType\":\"Patient\",\"id\":\"175c120d0a8-97da677d-6b7e-42c1-bc5f-1baec45095d7\",\"meta\":{\"versionId\":\"1\",\"lastUpdated\":\"2020-11-13T10:22:34.681Z\",\"profile\":[\"http://hl7.org/fhir/us/core/StructureDefinition/us-core-patient\"]},\"text\":{\"status\":\"generated\",\"div\":\"<div xmlns=\\\"http://www.w3.org/1999/xhtml\\\">Generated by <a href=\\\"https://github.com/synthetichealth/synthea\\\">Synthea</a>.Version identifier: v2.6.1-45-gc8c88a7e\\n .   Person seed: -450463514194689968  Population seed: 1604618056762</div>\"},\"extension\":[{\"extension\":[{\"url\":\"ombCategory\",\"valueCoding\":{\"system\":\"urn:oid:2.16.840.1.113883.6.238\",\"code\":\"2106-3\",\"display\":\"White\"}},{\"url\":\"text\",\"valueString\":\"White\"}],\"url\":\"http://hl7.org/fhir/us/core/StructureDefinition/us-core-race\"},{\"extension\":[{\"url\":\"ombCategory\",\"valueCoding\":{\"system\":\"urn:oid:2.16.840.1.113883.6.238\",\"code\":\"2135-2\",\"display\":\"Hispanic or Latino\"}},{\"url\":\"text\",\"valueString\":\"Hispanic or Latino\"}],\"url\":\"http://hl7.org/fhir/us/core/StructureDefinition/us-core-ethnicity\"},{\"url\":\"http://hl7.org/fhir/StructureDefinition/patient-mothersMaidenName\",\"valueString\":\"Carolina S�enz\"},{\"url\":\"http://hl7.org/fhir/us/core/StructureDefinition/us-core-birthsex\",\"valueCode\":\"M\"},{\"url\":\"http://hl7.org/fhir/StructureDefinition/patient-birthPlace\",\"valueAddress\":{\"city\":\"Roseau\",\"state\":\"Saint George\",\"country\":\"DM\"}},{\"url\":\"http://synthetichealth.github.io/synthea/disability-adjusted-life-years\",\"valueDecimal\":6.8329335732440395},{\"url\":\"http://synthetichealth.github.io/synthea/quality-adjusted-life-years\",\"valueDecimal\":38.16706642675596}],\"identifier\":[{\"system\":\"https://github.com/synthetichealth/synthea\",\"value\":\"2efb84a9-5553-2975-67fb-a9e43a4a64dd\"},{\"type\":{\"coding\":[{\"system\":\"http://terminology.hl7.org/CodeSystem/v2-0203\",\"code\":\"MR\",\"display\":\"Medical Record Number\"}],\"text\":\"Medical Record Number\"},\"system\":\"http://hospital.smarthealthit.org\",\"value\":\"2efb84a9-5553-2975-67fb-a9e43a4a64dd\"},{\"type\":{\"coding\":[{\"system\":\"http://terminology.hl7.org/CodeSystem/v2-0203\",\"code\":\"SS\",\"display\":\"Social Security Number\"}],\"text\":\"Social Security Number\"},\"system\":\"http://hl7.org/fhir/sid/us-ssn\",\"value\":\"999-99-8587\"},{\"type\":{\"coding\":[{\"system\":\"http://terminology.hl7.org/CodeSystem/v2-0203\",\"code\":\"DL\",\"display\":\"Driver's License\"}],\"text\":\"Driver's License\"},\"system\":\"urn:oid:2.16.840.1.113883.4.3.25\",\"value\":\"S99940798\"},{\"type\":{\"coding\":[{\"system\":\"http://terminology.hl7.org/CodeSystem/v2-0203\",\"code\":\"PPN\",\"display\":\"Passport Number\"}],\"text\":\"Passport Number\"},\"system\":\"http://standardhealthrecord.org/fhir/StructureDefinition/passportNumber\",\"value\":\"X13610718X\"}],\"name\":[{\"use\":\"official\",\"family\":\"Paz\",\"given\":[\"Daniel\"],\"prefix\":[\"Mr.\"]}],\"telecom\":[{\"system\":\"phone\",\"value\":\"555-710-1329\",\"use\":\"home\"}],\"gender\":\"male\",\"birthDate\":\"1960-10-01\",\"deceasedDateTime\":\"2006-09-21T04:49:34-04:00\",\"address\":[{\"extension\":[{\"extension\":[{\"url\":\"latitude\",\"valueDecimal\":42.73923434833507},{\"url\":\"longitude\",\"valueDecimal\":-73.04921577109815}],\"url\":\"http://hl7.org/fhir/StructureDefinition/geolocation\"}],\"line\":[\"936 Lesch Overpass\"],\"city\":\"North Adams\",\"state\":\"MA\",\"postalCode\":\"01247\",\"country\":\"US\"}],\"maritalStatus\":{\"coding\":[{\"system\":\"http://terminology.hl7.org/CodeSystem/v3-MaritalStatus\",\"code\":\"M\",\"display\":\"M\"}],\"text\":\"M\"},\"multipleBirthBoolean\":false,\"communication\":[{\"language\":{\"coding\":[{\"system\":\"urn:ietf:bcp:47\",\"code\":\"es\",\"display\":\"Spanish\"}],\"text\":\"Spanish\"}}]}\r\n",
      "{\"resourceType\":\"Patient\",\"id\":\"175bc972562-ec462f0d-4c6f-405c-a7cd-9433d10c6e83\",\"meta\":{\"versionId\":\"1\",\"lastUpdated\":\"2020-11-12T13:13:43.531Z\",\"profile\":[\"http://hl7.org/fhir/us/core/StructureDefinition/us-core-patient\"]},\"text\":{\"status\":\"generated\",\"div\":\"<div xmlns=\\\"http://www.w3.org/1999/xhtml\\\">Generated by <a href=\\\"https://github.com/synthetichealth/synthea\\\">Synthea</a>.Version identifier: v2.6.1-45-gc8c88a7e\\n .   Person seed: 239290397098736581  Population seed: 1604618056762</div>\"},\"extension\":[{\"extension\":[{\"url\":\"ombCategory\",\"valueCoding\":{\"system\":\"urn:oid:2.16.840.1.113883.6.238\",\"code\":\"2106-3\",\"display\":\"White\"}},{\"url\":\"text\",\"valueString\":\"White\"}],\"url\":\"http://hl7.org/fhir/us/core/StructureDefinition/us-core-race\"},{\"extension\":[{\"url\":\"ombCategory\",\"valueCoding\":{\"system\":\"urn:oid:2.16.840.1.113883.6.238\",\"code\":\"2186-5\",\"display\":\"Non Hispanic or Latino\"}},{\"url\":\"text\",\"valueString\":\"Non Hispanic or Latino\"}],\"url\":\"http://hl7.org/fhir/us/core/StructureDefinition/us-core-ethnicity\"},{\"url\":\"http://hl7.org/fhir/StructureDefinition/patient-mothersMaidenName\",\"valueString\":\"Holli MacGyver\"},{\"url\":\"http://hl7.org/fhir/us/core/StructureDefinition/us-core-birthsex\",\"valueCode\":\"F\"},{\"url\":\"http://hl7.org/fhir/StructureDefinition/patient-birthPlace\",\"valueAddress\":{\"city\":\"Watertown\",\"state\":\"Massachusetts\",\"country\":\"US\"}},{\"url\":\"http://synthetichealth.github.io/synthea/disability-adjusted-life-years\",\"valueDecimal\":0.0},{\"url\":\"http://synthetichealth.github.io/synthea/quality-adjusted-life-years\",\"valueDecimal\":10.0}],\"identifier\":[{\"system\":\"https://github.com/synthetichealth/synthea\",\"value\":\"916c9152-c99c-42c6-3da3-01048f71d977\"},{\"type\":{\"coding\":[{\"system\":\"http://terminology.hl7.org/CodeSystem/v2-0203\",\"code\":\"MR\",\"display\":\"Medical Record Number\"}],\"text\":\"Medical Record Number\"},\"system\":\"http://hospital.smarthealthit.org\",\"value\":\"916c9152-c99c-42c6-3da3-01048f71d977\"},{\"type\":{\"coding\":[{\"system\":\"http://terminology.hl7.org/CodeSystem/v2-0203\",\"code\":\"SS\",\"display\":\"Social Security Number\"}],\"text\":\"Social Security Number\"},\"system\":\"http://hl7.org/fhir/sid/us-ssn\",\"value\":\"999-87-8244\"}],\"name\":[{\"use\":\"official\",\"family\":\"Kshlerin\",\"given\":[\"Annice\"]}],\"telecom\":[{\"system\":\"phone\",\"value\":\"555-700-7812\",\"use\":\"home\"}],\"gender\":\"female\",\"birthDate\":\"2009-03-23\",\"address\":[{\"extension\":[{\"extension\":[{\"url\":\"latitude\",\"valueDecimal\":42.495375492383445},{\"url\":\"longitude\",\"valueDecimal\":-71.71606633942356}],\"url\":\"http://hl7.org/fhir/StructureDefinition/geolocation\"}],\"line\":[\"330 Kunde Mall\"],\"city\":\"Leominster\",\"state\":\"MA\",\"country\":\"US\"}],\"maritalStatus\":{\"coding\":[{\"system\":\"http://terminology.hl7.org/CodeSystem/v3-MaritalStatus\",\"code\":\"S\",\"display\":\"Never Married\"}],\"text\":\"Never Married\"},\"multipleBirthBoolean\":false,\"communication\":[{\"language\":{\"coding\":[{\"system\":\"urn:ietf:bcp:47\",\"code\":\"en-US\",\"display\":\"English\"}],\"text\":\"English\"}}]}\r\n",
      "{\"resourceType\":\"Patient\",\"id\":\"175bc4b9697-1a09fdf0-d69c-476e-b1a6-371c47a37e52\",\"meta\":{\"versionId\":\"1\",\"lastUpdated\":\"2020-11-12T11:51:11.786Z\",\"profile\":[\"http://hl7.org/fhir/us/core/StructureDefinition/us-core-patient\"]},\"text\":{\"status\":\"generated\",\"div\":\"<div xmlns=\\\"http://www.w3.org/1999/xhtml\\\">Generated by <a href=\\\"https://github.com/synthetichealth/synthea\\\">Synthea</a>.Version identifier: v2.6.1-45-gc8c88a7e\\n .   Person seed: 4756934397577020051  Population seed: 1604618056762</div>\"},\"extension\":[{\"extension\":[{\"url\":\"ombCategory\",\"valueCoding\":{\"system\":\"urn:oid:2.16.840.1.113883.6.238\",\"code\":\"2054-5\",\"display\":\"Black or African American\"}},{\"url\":\"text\",\"valueString\":\"Black or African American\"}],\"url\":\"http://hl7.org/fhir/us/core/StructureDefinition/us-core-race\"},{\"extension\":[{\"url\":\"ombCategory\",\"valueCoding\":{\"system\":\"urn:oid:2.16.840.1.113883.6.238\",\"code\":\"2186-5\",\"display\":\"Non Hispanic or Latino\"}},{\"url\":\"text\",\"valueString\":\"Non Hispanic or Latino\"}],\"url\":\"http://hl7.org/fhir/us/core/StructureDefinition/us-core-ethnicity\"},{\"url\":\"http://hl7.org/fhir/StructureDefinition/patient-mothersMaidenName\",\"valueString\":\"Rosaria Paucek\"},{\"url\":\"http://hl7.org/fhir/us/core/StructureDefinition/us-core-birthsex\",\"valueCode\":\"F\"},{\"url\":\"http://hl7.org/fhir/StructureDefinition/patient-birthPlace\",\"valueAddress\":{\"city\":\"Somerville\",\"state\":\"Massachusetts\",\"country\":\"US\"}},{\"url\":\"http://synthetichealth.github.io/synthea/disability-adjusted-life-years\",\"valueDecimal\":0.9502551502973866},{\"url\":\"http://synthetichealth.github.io/synthea/quality-adjusted-life-years\",\"valueDecimal\":81.04974484970262}],\"identifier\":[{\"system\":\"https://github.com/synthetichealth/synthea\",\"value\":\"7e92f0b8-0c98-d219-efea-8abf2eee7698\"},{\"type\":{\"coding\":[{\"system\":\"http://terminology.hl7.org/CodeSystem/v2-0203\",\"code\":\"MR\",\"display\":\"Medical Record Number\"}],\"text\":\"Medical Record Number\"},\"system\":\"http://hospital.smarthealthit.org\",\"value\":\"7e92f0b8-0c98-d219-efea-8abf2eee7698\"},{\"type\":{\"coding\":[{\"system\":\"http://terminology.hl7.org/CodeSystem/v2-0203\",\"code\":\"SS\",\"display\":\"Social Security Number\"}],\"text\":\"Social Security Number\"},\"system\":\"http://hl7.org/fhir/sid/us-ssn\",\"value\":\"999-88-4022\"},{\"type\":{\"coding\":[{\"system\":\"http://terminology.hl7.org/CodeSystem/v2-0203\",\"code\":\"DL\",\"display\":\"Driver's License\"}],\"text\":\"Driver's License\"},\"system\":\"urn:oid:2.16.840.1.113883.4.3.25\",\"value\":\"S99924756\"},{\"type\":{\"coding\":[{\"system\":\"http://terminology.hl7.org/CodeSystem/v2-0203\",\"code\":\"PPN\",\"display\":\"Passport Number\"}],\"text\":\"Passport Number\"},\"system\":\"http://standardhealthrecord.org/fhir/StructureDefinition/passportNumber\",\"value\":\"X4957109X\"}],\"name\":[{\"use\":\"official\",\"family\":\"Schmidt\",\"given\":[\"Annetta\"],\"prefix\":[\"Ms.\"]}],\"telecom\":[{\"system\":\"phone\",\"value\":\"555-423-7368\",\"use\":\"home\"}],\"gender\":\"female\",\"birthDate\":\"1927-06-17\",\"deceasedDateTime\":\"2010-04-05T22:23:22-04:00\",\"address\":[{\"extension\":[{\"extension\":[{\"url\":\"latitude\",\"valueDecimal\":41.53229578185067},{\"url\":\"longitude\",\"valueDecimal\":-70.9884505002507}],\"url\":\"http://hl7.org/fhir/StructureDefinition/geolocation\"}],\"line\":[\"198 Lemke Plaza\"],\"city\":\"Dartmouth\",\"state\":\"MA\",\"country\":\"US\"}],\"maritalStatus\":{\"coding\":[{\"system\":\"http://terminology.hl7.org/CodeSystem/v3-MaritalStatus\",\"code\":\"S\",\"display\":\"S\"}],\"text\":\"S\"},\"multipleBirthBoolean\":false,\"communication\":[{\"language\":{\"coding\":[{\"system\":\"urn:ietf:bcp:47\",\"code\":\"en-US\",\"display\":\"English\"}],\"text\":\"English\"}}]}\r\n",
      "{\"resourceType\":\"Patient\",\"id\":\"17598e2dcf2-54a11ef3-316b-4821-a787-09b160d39589\",\"meta\":{\"versionId\":\"1\",\"lastUpdated\":\"2020-11-05T14:50:05.943Z\",\"profile\":[\"http://hl7.org/fhir/us/core/StructureDefinition/us-core-patient\"]},\"text\":{\"status\":\"generated\",\"div\":\"<div xmlns=\\\"http://www.w3.org/1999/xhtml\\\">Generated by <a href=\\\"https://github.com/synthetichealth/synthea\\\">Synthea</a>.Version identifier: v2.6.1-45-gc8c88a7e\\n .   Person seed: 7330608626751860825  Population seed: 1604287715314</div>\"},\"extension\":[{\"extension\":[{\"url\":\"ombCategory\",\"valueCoding\":{\"system\":\"urn:oid:2.16.840.1.113883.6.238\",\"code\":\"2106-3\",\"display\":\"White\"}},{\"url\":\"text\",\"valueString\":\"White\"}],\"url\":\"http://hl7.org/fhir/us/core/StructureDefinition/us-core-race\"},{\"extension\":[{\"url\":\"ombCategory\",\"valueCoding\":{\"system\":\"urn:oid:2.16.840.1.113883.6.238\",\"code\":\"2186-5\",\"display\":\"Non Hispanic or Latino\"}},{\"url\":\"text\",\"valueString\":\"Non Hispanic or Latino\"}],\"url\":\"http://hl7.org/fhir/us/core/StructureDefinition/us-core-ethnicity\"},{\"url\":\"http://hl7.org/fhir/StructureDefinition/patient-mothersMaidenName\",\"valueString\":\"Tonia Harber\"},{\"url\":\"http://hl7.org/fhir/us/core/StructureDefinition/us-core-birthsex\",\"valueCode\":\"F\"},{\"url\":\"http://hl7.org/fhir/StructureDefinition/patient-birthPlace\",\"valueAddress\":{\"city\":\"Dennis\",\"state\":\"Massachusetts\",\"country\":\"US\"}},{\"url\":\"http://synthetichealth.github.io/synthea/disability-adjusted-life-years\",\"valueDecimal\":0.0925865895250671},{\"url\":\"http://synthetichealth.github.io/synthea/quality-adjusted-life-years\",\"valueDecimal\":39.90741341047493}],\"identifier\":[{\"system\":\"https://github.com/synthetichealth/synthea\",\"value\":\"22b72dc7-136e-600a-cffd-c56d310bff25\"},{\"type\":{\"coding\":[{\"system\":\"http://terminology.hl7.org/CodeSystem/v2-0203\",\"code\":\"MR\",\"display\":\"Medical Record Number\"}],\"text\":\"Medical Record Number\"},\"system\":\"http://hospital.smarthealthit.org\",\"value\":\"22b72dc7-136e-600a-cffd-c56d310bff25\"},{\"type\":{\"coding\":[{\"system\":\"http://terminology.hl7.org/CodeSystem/v2-0203\",\"code\":\"SS\",\"display\":\"Social Security Number\"}],\"text\":\"Social Security Number\"},\"system\":\"http://hl7.org/fhir/sid/us-ssn\",\"value\":\"999-53-4381\"},{\"type\":{\"coding\":[{\"system\":\"http://terminology.hl7.org/CodeSystem/v2-0203\",\"code\":\"DL\",\"display\":\"Driver's License\"}],\"text\":\"Driver's License\"},\"system\":\"urn:oid:2.16.840.1.113883.4.3.25\",\"value\":\"S99974135\"},{\"type\":{\"coding\":[{\"system\":\"http://terminology.hl7.org/CodeSystem/v2-0203\",\"code\":\"PPN\",\"display\":\"Passport Number\"}],\"text\":\"Passport Number\"},\"system\":\"http://standardhealthrecord.org/fhir/StructureDefinition/passportNumber\",\"value\":\"X31903468X\"}],\"name\":[{\"use\":\"official\",\"family\":\"Kreiger\",\"given\":[\"Becki\"],\"prefix\":[\"Mrs.\"]},{\"use\":\"maiden\",\"family\":\"Douglas\",\"given\":[\"Becki\"],\"prefix\":[\"Mrs.\"]}],\"telecom\":[{\"system\":\"phone\",\"value\":\"555-953-1020\",\"use\":\"home\"}],\"gender\":\"female\",\"birthDate\":\"1979-02-07\",\"address\":[{\"extension\":[{\"extension\":[{\"url\":\"latitude\",\"valueDecimal\":42.33944676849271},{\"url\":\"longitude\",\"valueDecimal\":-71.49222127252372}],\"url\":\"http://hl7.org/fhir/StructureDefinition/geolocation\"}],\"line\":[\"904 Yost Way\"],\"city\":\"Southborough\",\"state\":\"MA\",\"country\":\"US\"}],\"maritalStatus\":{\"coding\":[{\"system\":\"http://terminology.hl7.org/CodeSystem/v3-MaritalStatus\",\"code\":\"M\",\"display\":\"M\"}],\"text\":\"M\"},\"multipleBirthBoolean\":false,\"communication\":[{\"language\":{\"coding\":[{\"system\":\"urn:ietf:bcp:47\",\"code\":\"en-US\",\"display\":\"English\"}],\"text\":\"English\"}}]}\r\n",
      "{\"resourceType\":\"Patient\",\"id\":\"175bd2f04b6-68e8ee5e-c51d-4ced-b44d-e456a48812c8\",\"meta\":{\"versionId\":\"1\",\"lastUpdated\":\"2020-11-12T15:59:36.641Z\",\"profile\":[\"http://hl7.org/fhir/us/core/StructureDefinition/us-core-patient\"]},\"text\":{\"status\":\"generated\",\"div\":\"<div xmlns=\\\"http://www.w3.org/1999/xhtml\\\">Generated by <a href=\\\"https://github.com/synthetichealth/synthea\\\">Synthea</a>.Version identifier: v2.6.1-45-gc8c88a7e\\n .   Person seed: 7113931789052636222  Population seed: 1604618056762</div>\"},\"extension\":[{\"extension\":[{\"url\":\"ombCategory\",\"valueCoding\":{\"system\":\"urn:oid:2.16.840.1.113883.6.238\",\"code\":\"2106-3\",\"display\":\"White\"}},{\"url\":\"text\",\"valueString\":\"White\"}],\"url\":\"http://hl7.org/fhir/us/core/StructureDefinition/us-core-race\"},{\"extension\":[{\"url\":\"ombCategory\",\"valueCoding\":{\"system\":\"urn:oid:2.16.840.1.113883.6.238\",\"code\":\"2186-5\",\"display\":\"Non Hispanic or Latino\"}},{\"url\":\"text\",\"valueString\":\"Non Hispanic or Latino\"}],\"url\":\"http://hl7.org/fhir/us/core/StructureDefinition/us-core-ethnicity\"},{\"url\":\"http://hl7.org/fhir/StructureDefinition/patient-mothersMaidenName\",\"valueString\":\"Rory Jakubowski\"},{\"url\":\"http://hl7.org/fhir/us/core/StructureDefinition/us-core-birthsex\",\"valueCode\":\"F\"},{\"url\":\"http://hl7.org/fhir/StructureDefinition/patient-birthPlace\",\"valueAddress\":{\"city\":\"Boston\",\"state\":\"Massachusetts\",\"country\":\"US\"}},{\"url\":\"http://synthetichealth.github.io/synthea/disability-adjusted-life-years\",\"valueDecimal\":0.0},{\"url\":\"http://synthetichealth.github.io/synthea/quality-adjusted-life-years\",\"valueDecimal\":31.0}],\"identifier\":[{\"system\":\"https://github.com/synthetichealth/synthea\",\"value\":\"55bc4a23-f9d7-5f20-793e-168bad4caf51\"},{\"type\":{\"coding\":[{\"system\":\"http://terminology.hl7.org/CodeSystem/v2-0203\",\"code\":\"MR\",\"display\":\"Medical Record Number\"}],\"text\":\"Medical Record Number\"},\"system\":\"http://hospital.smarthealthit.org\",\"value\":\"55bc4a23-f9d7-5f20-793e-168bad4caf51\"},{\"type\":{\"coding\":[{\"system\":\"http://terminology.hl7.org/CodeSystem/v2-0203\",\"code\":\"SS\",\"display\":\"Social Security Number\"}],\"text\":\"Social Security Number\"},\"system\":\"http://hl7.org/fhir/sid/us-ssn\",\"value\":\"999-58-9088\"},{\"type\":{\"coding\":[{\"system\":\"http://terminology.hl7.org/CodeSystem/v2-0203\",\"code\":\"DL\",\"display\":\"Driver's License\"}],\"text\":\"Driver's License\"},\"system\":\"urn:oid:2.16.840.1.113883.4.3.25\",\"value\":\"S99928075\"},{\"type\":{\"coding\":[{\"system\":\"http://terminology.hl7.org/CodeSystem/v2-0203\",\"code\":\"PPN\",\"display\":\"Passport Number\"}],\"text\":\"Passport Number\"},\"system\":\"http://standardhealthrecord.org/fhir/StructureDefinition/passportNumber\",\"value\":\"X83956585X\"}],\"name\":[{\"use\":\"official\",\"family\":\"Toy\",\"given\":[\"Annika\"],\"prefix\":[\"Mrs.\"]},{\"use\":\"maiden\",\"family\":\"Upton\",\"given\":[\"Annika\"],\"prefix\":[\"Mrs.\"]}],\"telecom\":[{\"system\":\"phone\",\"value\":\"555-709-5414\",\"use\":\"home\"}],\"gender\":\"female\",\"birthDate\":\"1988-06-26\",\"address\":[{\"extension\":[{\"extension\":[{\"url\":\"latitude\",\"valueDecimal\":41.79264774948349},{\"url\":\"longitude\",\"valueDecimal\":-70.69780383547085}],\"url\":\"http://hl7.org/fhir/StructureDefinition/geolocation\"}],\"line\":[\"131 Torphy Ville Unit 5\"],\"city\":\"Wareham\",\"state\":\"MA\",\"country\":\"US\"}],\"maritalStatus\":{\"coding\":[{\"system\":\"http://terminology.hl7.org/CodeSystem/v3-MaritalStatus\",\"code\":\"M\",\"display\":\"M\"}],\"text\":\"M\"},\"multipleBirthBoolean\":false,\"communication\":[{\"language\":{\"coding\":[{\"system\":\"urn:ietf:bcp:47\",\"code\":\"en-US\",\"display\":\"English\"}],\"text\":\"English\"}}]}\r\n",
      "{\"resourceType\":\"Patient\",\"id\":\"175c1530f75-29281d15-b073-48a3-9926-fc40b4ff6110\",\"meta\":{\"versionId\":\"1\",\"lastUpdated\":\"2020-11-13T11:17:27.549Z\",\"profile\":[\"http://hl7.org/fhir/us/core/StructureDefinition/us-core-patient\"]},\"text\":{\"status\":\"generated\",\"div\":\"<div xmlns=\\\"http://www.w3.org/1999/xhtml\\\">Generated by <a href=\\\"https://github.com/synthetichealth/synthea\\\">Synthea</a>.Version identifier: v2.6.1-45-gc8c88a7e\\n .   Person seed: 2538314736587205834  Population seed: 1604618056762</div>\"},\"extension\":[{\"extension\":[{\"url\":\"ombCategory\",\"valueCoding\":{\"system\":\"urn:oid:2.16.840.1.113883.6.238\",\"code\":\"2054-5\",\"display\":\"Black or African American\"}},{\"url\":\"text\",\"valueString\":\"Black or African American\"}],\"url\":\"http://hl7.org/fhir/us/core/StructureDefinition/us-core-race\"},{\"extension\":[{\"url\":\"ombCategory\",\"valueCoding\":{\"system\":\"urn:oid:2.16.840.1.113883.6.238\",\"code\":\"2135-2\",\"display\":\"Hispanic or Latino\"}},{\"url\":\"text\",\"valueString\":\"Hispanic or Latino\"}],\"url\":\"http://hl7.org/fhir/us/core/StructureDefinition/us-core-ethnicity\"},{\"url\":\"http://hl7.org/fhir/StructureDefinition/patient-mothersMaidenName\",\"valueString\":\"Nia Williamson\"},{\"url\":\"http://hl7.org/fhir/us/core/StructureDefinition/us-core-birthsex\",\"valueCode\":\"M\"},{\"url\":\"http://hl7.org/fhir/StructureDefinition/patient-birthPlace\",\"valueAddress\":{\"city\":\"Springfield\",\"state\":\"Massachusetts\",\"country\":\"US\"}},{\"url\":\"http://synthetichealth.github.io/synthea/disability-adjusted-life-years\",\"valueDecimal\":0.0},{\"url\":\"http://synthetichealth.github.io/synthea/quality-adjusted-life-years\",\"valueDecimal\":14.0}],\"identifier\":[{\"system\":\"https://github.com/synthetichealth/synthea\",\"value\":\"3be3c83c-359c-d5d0-f13d-f3d0cb0eb2ec\"},{\"type\":{\"coding\":[{\"system\":\"http://terminology.hl7.org/CodeSystem/v2-0203\",\"code\":\"MR\",\"display\":\"Medical Record Number\"}],\"text\":\"Medical Record Number\"},\"system\":\"http://hospital.smarthealthit.org\",\"value\":\"3be3c83c-359c-d5d0-f13d-f3d0cb0eb2ec\"},{\"type\":{\"coding\":[{\"system\":\"http://terminology.hl7.org/CodeSystem/v2-0203\",\"code\":\"SS\",\"display\":\"Social Security Number\"}],\"text\":\"Social Security Number\"},\"system\":\"http://hl7.org/fhir/sid/us-ssn\",\"value\":\"999-63-6040\"}],\"name\":[{\"use\":\"official\",\"family\":\"Koepp\",\"given\":[\"Elliott\"]}],\"telecom\":[{\"system\":\"phone\",\"value\":\"555-770-7000\",\"use\":\"home\"}],\"gender\":\"male\",\"birthDate\":\"2005-10-05\",\"address\":[{\"extension\":[{\"extension\":[{\"url\":\"latitude\",\"valueDecimal\":42.02386522436183},{\"url\":\"longitude\",\"valueDecimal\":-72.5205986132899}],\"url\":\"http://hl7.org/fhir/StructureDefinition/geolocation\"}],\"line\":[\"699 Turner Byway Suite 30\"],\"city\":\"Longmeadow\",\"state\":\"MA\",\"postalCode\":\"01106\",\"country\":\"US\"}],\"maritalStatus\":{\"coding\":[{\"system\":\"http://terminology.hl7.org/CodeSystem/v3-MaritalStatus\",\"code\":\"S\",\"display\":\"Never Married\"}],\"text\":\"Never Married\"},\"multipleBirthBoolean\":false,\"communication\":[{\"language\":{\"coding\":[{\"system\":\"urn:ietf:bcp:47\",\"code\":\"en-US\",\"display\":\"English\"}],\"text\":\"English\"}}]}\r\n",
      "{\"resourceType\":\"Patient\",\"id\":\"175bee217b3-73774075-95d2-459b-9de1-ba1e598188e0\",\"meta\":{\"versionId\":\"1\",\"lastUpdated\":\"2020-11-12T23:54:49.667Z\",\"profile\":[\"http://hl7.org/fhir/us/core/StructureDefinition/us-core-patient\"]},\"text\":{\"status\":\"generated\",\"div\":\"<div xmlns=\\\"http://www.w3.org/1999/xhtml\\\">Generated by <a href=\\\"https://github.com/synthetichealth/synthea\\\">Synthea</a>.Version identifier: v2.6.1-45-gc8c88a7e\\n .   Person seed: 3231851466134939326  Population seed: 1604287715314</div>\"},\"extension\":[{\"extension\":[{\"url\":\"ombCategory\",\"valueCoding\":{\"system\":\"urn:oid:2.16.840.1.113883.6.238\",\"code\":\"2106-3\",\"display\":\"White\"}},{\"url\":\"text\",\"valueString\":\"White\"}],\"url\":\"http://hl7.org/fhir/us/core/StructureDefinition/us-core-race\"},{\"extension\":[{\"url\":\"ombCategory\",\"valueCoding\":{\"system\":\"urn:oid:2.16.840.1.113883.6.238\",\"code\":\"2186-5\",\"display\":\"Non Hispanic or Latino\"}},{\"url\":\"text\",\"valueString\":\"Non Hispanic or Latino\"}],\"url\":\"http://hl7.org/fhir/us/core/StructureDefinition/us-core-ethnicity\"},{\"url\":\"http://hl7.org/fhir/StructureDefinition/patient-mothersMaidenName\",\"valueString\":\"Makeda Dibbert\"},{\"url\":\"http://hl7.org/fhir/us/core/StructureDefinition/us-core-birthsex\",\"valueCode\":\"F\"},{\"url\":\"http://hl7.org/fhir/StructureDefinition/patient-birthPlace\",\"valueAddress\":{\"city\":\"Shrewsbury\",\"state\":\"Massachusetts\",\"country\":\"US\"}},{\"url\":\"http://synthetichealth.github.io/synthea/disability-adjusted-life-years\",\"valueDecimal\":0.0},{\"url\":\"http://synthetichealth.github.io/synthea/quality-adjusted-life-years\",\"valueDecimal\":1.0}],\"identifier\":[{\"system\":\"https://github.com/synthetichealth/synthea\",\"value\":\"3db1d517-c5a7-1caa-e7c7-4c286154c1ff\"},{\"type\":{\"coding\":[{\"system\":\"http://terminology.hl7.org/CodeSystem/v2-0203\",\"code\":\"MR\",\"display\":\"Medical Record Number\"}],\"text\":\"Medical Record Number\"},\"system\":\"http://hospital.smarthealthit.org\",\"value\":\"3db1d517-c5a7-1caa-e7c7-4c286154c1ff\"},{\"type\":{\"coding\":[{\"system\":\"http://terminology.hl7.org/CodeSystem/v2-0203\",\"code\":\"SS\",\"display\":\"Social Security Number\"}],\"text\":\"Social Security Number\"},\"system\":\"http://hl7.org/fhir/sid/us-ssn\",\"value\":\"999-54-5761\"}],\"name\":[{\"use\":\"official\",\"family\":\"Conn\",\"given\":[\"Courtney\"]}],\"telecom\":[{\"system\":\"phone\",\"value\":\"555-979-6459\",\"use\":\"home\"}],\"gender\":\"female\",\"birthDate\":\"2018-11-03\",\"address\":[{\"extension\":[{\"extension\":[{\"url\":\"latitude\",\"valueDecimal\":41.62801698905241},{\"url\":\"longitude\",\"valueDecimal\":-70.84489810282088}],\"url\":\"http://hl7.org/fhir/StructureDefinition/geolocation\"}],\"line\":[\"649 Reinger Terrace Suite 79\"],\"city\":\"Fairhaven\",\"state\":\"MA\",\"country\":\"US\"}],\"maritalStatus\":{\"coding\":[{\"system\":\"http://terminology.hl7.org/CodeSystem/v3-MaritalStatus\",\"code\":\"S\",\"display\":\"Never Married\"}],\"text\":\"Never Married\"},\"multipleBirthBoolean\":false,\"communication\":[{\"language\":{\"coding\":[{\"system\":\"urn:ietf:bcp:47\",\"code\":\"en-US\",\"display\":\"English\"}],\"text\":\"English\"}}]}\r\n",
      "{\"resourceType\":\"Patient\",\"id\":\"175bc9cacba-e6192946-de02-448d-a102-942da025633f\",\"meta\":{\"versionId\":\"1\",\"lastUpdated\":\"2020-11-12T13:19:45.857Z\",\"profile\":[\"http://hl7.org/fhir/us/core/StructureDefinition/us-core-patient\"]},\"text\":{\"status\":\"generated\",\"div\":\"<div xmlns=\\\"http://www.w3.org/1999/xhtml\\\">Generated by <a href=\\\"https://github.com/synthetichealth/synthea\\\">Synthea</a>.Version identifier: v2.6.1-45-gc8c88a7e\\n .   Person seed: 239290397098736581  Population seed: 1604618056762</div>\"},\"extension\":[{\"extension\":[{\"url\":\"ombCategory\",\"valueCoding\":{\"system\":\"urn:oid:2.16.840.1.113883.6.238\",\"code\":\"2106-3\",\"display\":\"White\"}},{\"url\":\"text\",\"valueString\":\"White\"}],\"url\":\"http://hl7.org/fhir/us/core/StructureDefinition/us-core-race\"},{\"extension\":[{\"url\":\"ombCategory\",\"valueCoding\":{\"system\":\"urn:oid:2.16.840.1.113883.6.238\",\"code\":\"2186-5\",\"display\":\"Non Hispanic or Latino\"}},{\"url\":\"text\",\"valueString\":\"Non Hispanic or Latino\"}],\"url\":\"http://hl7.org/fhir/us/core/StructureDefinition/us-core-ethnicity\"},{\"url\":\"http://hl7.org/fhir/StructureDefinition/patient-mothersMaidenName\",\"valueString\":\"Holli MacGyver\"},{\"url\":\"http://hl7.org/fhir/us/core/StructureDefinition/us-core-birthsex\",\"valueCode\":\"F\"},{\"url\":\"http://hl7.org/fhir/StructureDefinition/patient-birthPlace\",\"valueAddress\":{\"city\":\"Watertown\",\"state\":\"Massachusetts\",\"country\":\"US\"}},{\"url\":\"http://synthetichealth.github.io/synthea/disability-adjusted-life-years\",\"valueDecimal\":0.0},{\"url\":\"http://synthetichealth.github.io/synthea/quality-adjusted-life-years\",\"valueDecimal\":10.0}],\"identifier\":[{\"system\":\"https://github.com/synthetichealth/synthea\",\"value\":\"916c9152-c99c-42c6-3da3-01048f71d977\"},{\"type\":{\"coding\":[{\"system\":\"http://terminology.hl7.org/CodeSystem/v2-0203\",\"code\":\"MR\",\"display\":\"Medical Record Number\"}],\"text\":\"Medical Record Number\"},\"system\":\"http://hospital.smarthealthit.org\",\"value\":\"916c9152-c99c-42c6-3da3-01048f71d977\"},{\"type\":{\"coding\":[{\"system\":\"http://terminology.hl7.org/CodeSystem/v2-0203\",\"code\":\"SS\",\"display\":\"Social Security Number\"}],\"text\":\"Social Security Number\"},\"system\":\"http://hl7.org/fhir/sid/us-ssn\",\"value\":\"999-87-8244\"}],\"name\":[{\"use\":\"official\",\"family\":\"Kshlerin\",\"given\":[\"Annice\"]}],\"telecom\":[{\"system\":\"phone\",\"value\":\"555-700-7812\",\"use\":\"home\"}],\"gender\":\"female\",\"birthDate\":\"2009-03-23\",\"address\":[{\"extension\":[{\"extension\":[{\"url\":\"latitude\",\"valueDecimal\":42.495375492383445},{\"url\":\"longitude\",\"valueDecimal\":-71.71606633942356}],\"url\":\"http://hl7.org/fhir/StructureDefinition/geolocation\"}],\"line\":[\"330 Kunde Mall\"],\"city\":\"Leominster\",\"state\":\"MA\",\"country\":\"US\"}],\"maritalStatus\":{\"coding\":[{\"system\":\"http://terminology.hl7.org/CodeSystem/v3-MaritalStatus\",\"code\":\"S\",\"display\":\"Never Married\"}],\"text\":\"Never Married\"},\"multipleBirthBoolean\":false,\"communication\":[{\"language\":{\"coding\":[{\"system\":\"urn:ietf:bcp:47\",\"code\":\"en-US\",\"display\":\"English\"}],\"text\":\"English\"}}]}\r\n",
      "{\"resourceType\":\"Patient\",\"id\":\"1759c22d76e-7451006e-cb2e-4989-b7a6-9c782d3a4be5\",\"meta\":{\"versionId\":\"1\",\"lastUpdated\":\"2020-11-06T05:58:50.487Z\",\"profile\":[\"http://hl7.org/fhir/us/core/StructureDefinition/us-core-patient\"]},\"text\":{\"status\":\"generated\",\"div\":\"<div xmlns=\\\"http://www.w3.org/1999/xhtml\\\">Generated by <a href=\\\"https://github.com/synthetichealth/synthea\\\">Synthea</a>.Version identifier: v2.6.1-45-gc8c88a7e\\n .   Person seed: 7444687564011806958  Population seed: 1604618056762</div>\"},\"extension\":[{\"extension\":[{\"url\":\"ombCategory\",\"valueCoding\":{\"system\":\"urn:oid:2.16.840.1.113883.6.238\",\"code\":\"2106-3\",\"display\":\"White\"}},{\"url\":\"text\",\"valueString\":\"White\"}],\"url\":\"http://hl7.org/fhir/us/core/StructureDefinition/us-core-race\"},{\"extension\":[{\"url\":\"ombCategory\",\"valueCoding\":{\"system\":\"urn:oid:2.16.840.1.113883.6.238\",\"code\":\"2186-5\",\"display\":\"Non Hispanic or Latino\"}},{\"url\":\"text\",\"valueString\":\"Non Hispanic or Latino\"}],\"url\":\"http://hl7.org/fhir/us/core/StructureDefinition/us-core-ethnicity\"},{\"url\":\"http://hl7.org/fhir/StructureDefinition/patient-mothersMaidenName\",\"valueString\":\"Bao Corkery\"},{\"url\":\"http://hl7.org/fhir/us/core/StructureDefinition/us-core-birthsex\",\"valueCode\":\"M\"},{\"url\":\"http://hl7.org/fhir/StructureDefinition/patient-birthPlace\",\"valueAddress\":{\"city\":\"Methuen\",\"state\":\"Massachusetts\",\"country\":\"US\"}},{\"url\":\"http://synthetichealth.github.io/synthea/disability-adjusted-life-years\",\"valueDecimal\":0.0},{\"url\":\"http://synthetichealth.github.io/synthea/quality-adjusted-life-years\",\"valueDecimal\":20.0}],\"identifier\":[{\"system\":\"https://github.com/synthetichealth/synthea\",\"value\":\"6812c50a-a4df-8b85-935a-6cb50620742d\"},{\"type\":{\"coding\":[{\"system\":\"http://terminology.hl7.org/CodeSystem/v2-0203\",\"code\":\"MR\",\"display\":\"Medical Record Number\"}],\"text\":\"Medical Record Number\"},\"system\":\"http://hospital.smarthealthit.org\",\"value\":\"6812c50a-a4df-8b85-935a-6cb50620742d\"},{\"type\":{\"coding\":[{\"system\":\"http://terminology.hl7.org/CodeSystem/v2-0203\",\"code\":\"SS\",\"display\":\"Social Security Number\"}],\"text\":\"Social Security Number\"},\"system\":\"http://hl7.org/fhir/sid/us-ssn\",\"value\":\"999-30-2381\"},{\"type\":{\"coding\":[{\"system\":\"http://terminology.hl7.org/CodeSystem/v2-0203\",\"code\":\"DL\",\"display\":\"Driver's License\"}],\"text\":\"Driver's License\"},\"system\":\"urn:oid:2.16.840.1.113883.4.3.25\",\"value\":\"S99953037\"},{\"type\":{\"coding\":[{\"system\":\"http://terminology.hl7.org/CodeSystem/v2-0203\",\"code\":\"PPN\",\"display\":\"Passport Number\"}],\"text\":\"Passport Number\"},\"system\":\"http://standardhealthrecord.org/fhir/StructureDefinition/passportNumber\",\"value\":\"X36177627X\"}],\"name\":[{\"use\":\"official\",\"family\":\"Connelly\",\"given\":[\"Amado\"],\"prefix\":[\"Mr.\"]}],\"telecom\":[{\"system\":\"phone\",\"value\":\"555-364-1817\",\"use\":\"home\"}],\"gender\":\"male\",\"birthDate\":\"1999-08-06\",\"address\":[{\"extension\":[{\"extension\":[{\"url\":\"latitude\",\"valueDecimal\":42.54876625542709},{\"url\":\"longitude\",\"valueDecimal\":-70.91751813259808}],\"url\":\"http://hl7.org/fhir/StructureDefinition/geolocation\"}],\"line\":[\"185 Daniel Trace Suite 1\"],\"city\":\"Danvers\",\"state\":\"MA\",\"postalCode\":\"01923\",\"country\":\"US\"}],\"maritalStatus\":{\"coding\":[{\"system\":\"http://terminology.hl7.org/CodeSystem/v3-MaritalStatus\",\"code\":\"S\",\"display\":\"Never Married\"}],\"text\":\"Never Married\"},\"multipleBirthBoolean\":false,\"communication\":[{\"language\":{\"coding\":[{\"system\":\"urn:ietf:bcp:47\",\"code\":\"en-US\",\"display\":\"English\"}],\"text\":\"English\"}}]}\r\n",
      "{\"resourceType\":\"Patient\",\"id\":\"1759b8093df-50436116-7cbe-43ac-b631-f315d11c0f48\",\"meta\":{\"versionId\":\"1\",\"lastUpdated\":\"2020-11-06T03:01:36.359Z\",\"profile\":[\"http://hl7.org/fhir/us/core/StructureDefinition/us-core-patient\"]},\"text\":{\"status\":\"generated\",\"div\":\"<div xmlns=\\\"http://www.w3.org/1999/xhtml\\\">Generated by <a href=\\\"https://github.com/synthetichealth/synthea\\\">Synthea</a>.Version identifier: v2.6.1-45-gc8c88a7e\\n .   Person seed: -7578249092516273791  Population seed: 1604618056762</div>\"},\"extension\":[{\"extension\":[{\"url\":\"ombCategory\",\"valueCoding\":{\"system\":\"urn:oid:2.16.840.1.113883.6.238\",\"code\":\"2106-3\",\"display\":\"White\"}},{\"url\":\"text\",\"valueString\":\"White\"}],\"url\":\"http://hl7.org/fhir/us/core/StructureDefinition/us-core-race\"},{\"extension\":[{\"url\":\"ombCategory\",\"valueCoding\":{\"system\":\"urn:oid:2.16.840.1.113883.6.238\",\"code\":\"2186-5\",\"display\":\"Non Hispanic or Latino\"}},{\"url\":\"text\",\"valueString\":\"Non Hispanic or Latino\"}],\"url\":\"http://hl7.org/fhir/us/core/StructureDefinition/us-core-ethnicity\"},{\"url\":\"http://hl7.org/fhir/StructureDefinition/patient-mothersMaidenName\",\"valueString\":\"Macie McLaughlin\"},{\"url\":\"http://hl7.org/fhir/us/core/StructureDefinition/us-core-birthsex\",\"valueCode\":\"F\"},{\"url\":\"http://hl7.org/fhir/StructureDefinition/patient-birthPlace\",\"valueAddress\":{\"city\":\"Ayer\",\"state\":\"Massachusetts\",\"country\":\"US\"}},{\"url\":\"http://synthetichealth.github.io/synthea/disability-adjusted-life-years\",\"valueDecimal\":0.10248355984518417},{\"url\":\"http://synthetichealth.github.io/synthea/quality-adjusted-life-years\",\"valueDecimal\":53.89751644015482}],\"identifier\":[{\"system\":\"https://github.com/synthetichealth/synthea\",\"value\":\"3399edaa-8fc4-79d7-3385-7d8c497a9eda\"},{\"type\":{\"coding\":[{\"system\":\"http://terminology.hl7.org/CodeSystem/v2-0203\",\"code\":\"MR\",\"display\":\"Medical Record Number\"}],\"text\":\"Medical Record Number\"},\"system\":\"http://hospital.smarthealthit.org\",\"value\":\"3399edaa-8fc4-79d7-3385-7d8c497a9eda\"},{\"type\":{\"coding\":[{\"system\":\"http://terminology.hl7.org/CodeSystem/v2-0203\",\"code\":\"SS\",\"display\":\"Social Security Number\"}],\"text\":\"Social Security Number\"},\"system\":\"http://hl7.org/fhir/sid/us-ssn\",\"value\":\"999-24-6583\"},{\"type\":{\"coding\":[{\"system\":\"http://terminology.hl7.org/CodeSystem/v2-0203\",\"code\":\"DL\",\"display\":\"Driver's License\"}],\"text\":\"Driver's License\"},\"system\":\"urn:oid:2.16.840.1.113883.4.3.25\",\"value\":\"S99982123\"},{\"type\":{\"coding\":[{\"system\":\"http://terminology.hl7.org/CodeSystem/v2-0203\",\"code\":\"PPN\",\"display\":\"Passport Number\"}],\"text\":\"Passport Number\"},\"system\":\"http://standardhealthrecord.org/fhir/StructureDefinition/passportNumber\",\"value\":\"X76286742X\"}],\"name\":[{\"use\":\"official\",\"family\":\"Rau\",\"given\":[\"Adella\"],\"prefix\":[\"Mrs.\"]},{\"use\":\"maiden\",\"family\":\"Botsford\",\"given\":[\"Adella\"],\"prefix\":[\"Mrs.\"]}],\"telecom\":[{\"system\":\"phone\",\"value\":\"555-752-1053\",\"use\":\"home\"}],\"gender\":\"female\",\"birthDate\":\"1965-10-24\",\"address\":[{\"extension\":[{\"extension\":[{\"url\":\"latitude\",\"valueDecimal\":42.11142226190492},{\"url\":\"longitude\",\"valueDecimal\":-71.84081073633433}],\"url\":\"http://hl7.org/fhir/StructureDefinition/geolocation\"}],\"line\":[\"486 Kuhlman Bay Apt 82\"],\"city\":\"Oxford\",\"state\":\"MA\",\"postalCode\":\"01540\",\"country\":\"US\"}],\"maritalStatus\":{\"coding\":[{\"system\":\"http://terminology.hl7.org/CodeSystem/v3-MaritalStatus\",\"code\":\"M\",\"display\":\"M\"}],\"text\":\"M\"},\"multipleBirthBoolean\":false,\"communication\":[{\"language\":{\"coding\":[{\"system\":\"urn:ietf:bcp:47\",\"code\":\"en-US\",\"display\":\"English\"}],\"text\":\"English\"}}]}\r\n",
      "{\"resourceType\":\"Patient\",\"id\":\"175be079d4b-c2f235ed-dc67-4c47-b973-fd215d74c6fa\",\"meta\":{\"versionId\":\"1\",\"lastUpdated\":\"2020-11-12T19:56:11.474Z\",\"profile\":[\"http://hl7.org/fhir/us/core/StructureDefinition/us-core-patient\"]},\"text\":{\"status\":\"generated\",\"div\":\"<div xmlns=\\\"http://www.w3.org/1999/xhtml\\\">Generated by <a href=\\\"https://github.com/synthetichealth/synthea\\\">Synthea</a>.Version identifier: v2.6.1-45-gc8c88a7e\\n .   Person seed: -5426782007757076574  Population seed: 1604287715314</div>\"},\"extension\":[{\"extension\":[{\"url\":\"ombCategory\",\"valueCoding\":{\"system\":\"urn:oid:2.16.840.1.113883.6.238\",\"code\":\"2106-3\",\"display\":\"White\"}},{\"url\":\"text\",\"valueString\":\"White\"}],\"url\":\"http://hl7.org/fhir/us/core/StructureDefinition/us-core-race\"},{\"extension\":[{\"url\":\"ombCategory\",\"valueCoding\":{\"system\":\"urn:oid:2.16.840.1.113883.6.238\",\"code\":\"2186-5\",\"display\":\"Non Hispanic or Latino\"}},{\"url\":\"text\",\"valueString\":\"Non Hispanic or Latino\"}],\"url\":\"http://hl7.org/fhir/us/core/StructureDefinition/us-core-ethnicity\"},{\"url\":\"http://hl7.org/fhir/StructureDefinition/patient-mothersMaidenName\",\"valueString\":\"Cheree Beatty\"},{\"url\":\"http://hl7.org/fhir/us/core/StructureDefinition/us-core-birthsex\",\"valueCode\":\"M\"},{\"url\":\"http://hl7.org/fhir/StructureDefinition/patient-birthPlace\",\"valueAddress\":{\"city\":\"Hanson\",\"state\":\"Massachusetts\",\"country\":\"US\"}},{\"url\":\"http://synthetichealth.github.io/synthea/disability-adjusted-life-years\",\"valueDecimal\":0.8048091928777013},{\"url\":\"http://synthetichealth.github.io/synthea/quality-adjusted-life-years\",\"valueDecimal\":62.1951908071223}],\"identifier\":[{\"system\":\"https://github.com/synthetichealth/synthea\",\"value\":\"1e245451-1867-de2c-4aba-631f53eb9daf\"},{\"type\":{\"coding\":[{\"system\":\"http://terminology.hl7.org/CodeSystem/v2-0203\",\"code\":\"MR\",\"display\":\"Medical Record Number\"}],\"text\":\"Medical Record Number\"},\"system\":\"http://hospital.smarthealthit.org\",\"value\":\"1e245451-1867-de2c-4aba-631f53eb9daf\"},{\"type\":{\"coding\":[{\"system\":\"http://terminology.hl7.org/CodeSystem/v2-0203\",\"code\":\"SS\",\"display\":\"Social Security Number\"}],\"text\":\"Social Security Number\"},\"system\":\"http://hl7.org/fhir/sid/us-ssn\",\"value\":\"999-33-4638\"},{\"type\":{\"coding\":[{\"system\":\"http://terminology.hl7.org/CodeSystem/v2-0203\",\"code\":\"DL\",\"display\":\"Driver's License\"}],\"text\":\"Driver's License\"},\"system\":\"urn:oid:2.16.840.1.113883.4.3.25\",\"value\":\"S99918387\"},{\"type\":{\"coding\":[{\"system\":\"http://terminology.hl7.org/CodeSystem/v2-0203\",\"code\":\"PPN\",\"display\":\"Passport Number\"}],\"text\":\"Passport Number\"},\"system\":\"http://standardhealthrecord.org/fhir/StructureDefinition/passportNumber\",\"value\":\"X18030944X\"}],\"name\":[{\"use\":\"official\",\"family\":\"Tillman\",\"given\":[\"Paul\"],\"prefix\":[\"Mr.\"]}],\"telecom\":[{\"system\":\"phone\",\"value\":\"555-424-1843\",\"use\":\"home\"}],\"gender\":\"male\",\"birthDate\":\"1956-07-27\",\"address\":[{\"extension\":[{\"extension\":[{\"url\":\"latitude\",\"valueDecimal\":42.00311093603289},{\"url\":\"longitude\",\"valueDecimal\":-71.73214220497746}],\"url\":\"http://hl7.org/fhir/StructureDefinition/geolocation\"}],\"line\":[\"179 O'Kon Brook\"],\"city\":\"Douglas\",\"state\":\"MA\",\"country\":\"US\"}],\"maritalStatus\":{\"coding\":[{\"system\":\"http://terminology.hl7.org/CodeSystem/v3-MaritalStatus\",\"code\":\"M\",\"display\":\"M\"}],\"text\":\"M\"},\"multipleBirthBoolean\":false,\"communication\":[{\"language\":{\"coding\":[{\"system\":\"urn:ietf:bcp:47\",\"code\":\"en-US\",\"display\":\"English\"}],\"text\":\"English\"}}]}\r\n",
      "\n"
     ]
    }
   ],
   "source": [
    "# retrieve one of the NDJSON files and view the first 25 rows\n",
    "ndjson = get(status_response.json().get('output')[1].get('url'))\n",
    "peek(ndjson.text)"
   ]
  },
  {
   "cell_type": "code",
   "execution_count": 34,
   "metadata": {},
   "outputs": [
    {
     "data": {
      "text/html": [
       "<style>\n",
       "div.output_area pre {\n",
       "    white-space: pre;\n",
       "}\n",
       "</style>\n"
      ],
      "text/plain": [
       "<IPython.core.display.HTML object>"
      ]
     },
     "metadata": {},
     "output_type": "display_data"
    }
   ],
   "source": [
    "%%html\n",
    "<style>\n",
    "div.output_area pre {\n",
    "    white-space: pre;\n",
    "}\n",
    "</style>"
   ]
  },
  {
   "cell_type": "markdown",
   "metadata": {},
   "source": [
    "---\n",
    "FHIR® is the registered trademark of HL7 and is used with the permission of HL7. Use of the FHIR trademark does not constitute endorsement of this product by HL7."
   ]
  }
 ],
 "metadata": {
  "celltoolbar": "Raw Cell Format",
  "kernelspec": {
   "display_name": "Python 3.7",
   "language": "python",
   "name": "python3"
  },
  "language_info": {
   "codemirror_mode": {
    "name": "ipython",
    "version": 3
   },
   "file_extension": ".py",
   "mimetype": "text/x-python",
   "name": "python",
   "nbconvert_exporter": "python",
   "pygments_lexer": "ipython3",
   "version": "3.7.9"
  }
 },
 "nbformat": 4,
 "nbformat_minor": 1
}
