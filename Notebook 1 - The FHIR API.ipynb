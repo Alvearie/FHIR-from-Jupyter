{
 "cells": [
  {
   "cell_type": "markdown",
   "metadata": {},
   "source": [
    "# Notebook 1:  The FHIR API\n",
    "\n",
    "## Learning the FHIR REST API"
   ]
  },
  {
   "cell_type": "code",
   "execution_count": null,
   "metadata": {},
   "outputs": [],
   "source": [
    "# setup imports\n",
    "import os\n",
    "from requests import get\n",
    "from requests import post\n",
    "from requests import put\n",
    "from requests import delete\n",
    "from requests import head\n",
    "\n",
    "# save the base url of the server\n",
    "base = 'https://cluster1-573846-250babbbe4c3000e15508cd07c1d282b-0000.us-east.containers.appdomain.cloud/open'\n",
    "\n",
    "# define some useful functions\n",
    "def peek(string, line_count=10):\n",
    "    print(os.linesep.join(string.split(os.linesep)[:line_count]) + '\\n')"
   ]
  },
  {
   "cell_type": "code",
   "execution_count": null,
   "metadata": {},
   "outputs": [],
   "source": [
    "#(Optional)\n",
    "\n",
    "# install jsonpointer\n",
    "!pip install jsonpointer\n",
    "\n",
    "from jsonpointer import resolve_pointer as resolve"
   ]
  },
  {
   "cell_type": "code",
   "execution_count": null,
   "metadata": {},
   "outputs": [],
   "source": [
    "# retrieve the server \"CapabilityStatement\" and print the important bits\n",
    "response = get(base + '/metadata')\n",
    "print('Response code: ' + str(response.status_code))\n",
    "result = response.json()\n",
    "print('Server: ' + result['name'] + ' ' + result['version'])\n",
    "print('Security: ' + str(result['rest'][0]['security']['service']))\n",
    "resources = result['rest'][0]['resource']\n",
    "\n",
    "supported_types = {r['type']: [i['code'] for i in r['interaction']] for r in resources}\n",
    "\n",
    "print('Supported types: ')\n",
    "for k,v in supported_types.items():\n",
    "    print('  ' + k + ': ' + str(v))"
   ]
  },
  {
   "cell_type": "code",
   "execution_count": null,
   "metadata": {},
   "outputs": [],
   "source": [
    "# the type of resource we want to query\n",
    "type = 'Patient'\n",
    "\n",
    "# retrieve all resources of a given type and print the HTTP status code and the first 20 lines of the response\n",
    "response = get(base + '/' + type)\n",
    "print('Response code: ' + str(response.status_code))\n",
    "peek('Response body: \\n' + response.text, 20)\n",
    "\n",
    "# technically you've now performed your first FHIR \"search\" (just with no parameters)"
   ]
  },
  {
   "cell_type": "code",
   "execution_count": null,
   "metadata": {},
   "outputs": [],
   "source": [
    "# results are paged and the \"link\" field in the response Bundle contains links to previous, current, and next page of results\n",
    "for link in response.json().get('link'):\n",
    "    if link.get('relation') == 'next':\n",
    "        page2 = get(link.get('url'))        \n",
    "peek('Second page: \\n' + page2.text, 20)\n",
    "print('Number of entries: ' + str(len(response.json().get('entry'))))"
   ]
  },
  {
   "cell_type": "code",
   "execution_count": null,
   "metadata": {},
   "outputs": [],
   "source": [
    "# we can control the number of search results by passing the _count parameter\n",
    "response = get(base + '/Patient?_count=1')\n",
    "peek('Single resource per page: \\n' + response.text, 25)\n",
    "print('Number of entries: ' + str(len(response.json().get('entry'))))"
   ]
  },
  {
   "cell_type": "code",
   "execution_count": null,
   "metadata": {},
   "outputs": [],
   "source": [
    "# if you're only interested in the count, you can specify that via either\n",
    "# A. _count=0 (0 results per page); or\n",
    "# B. _summary=count\n",
    "\n",
    "print(get(base + '/Patient' + '?' + '_summary=count').text)"
   ]
  },
  {
   "cell_type": "code",
   "execution_count": null,
   "metadata": {},
   "outputs": [],
   "source": [
    "# if you want a lot of results per page, you can reduce the amount of data returned via the _summary or _elements parameters\n",
    "\n",
    "# https://www.hl7.org/fhir/search.html#summary\n",
    "# look for the Σ flag in the Resource Content section of the resource page in the specification for what elements are considered \"summary\" elements \n",
    "reponse = get(base + '/Patient?_count=1' + '&' + '_summary=true')\n",
    "print('Summary: \\n' + str(response.json().get('entry')[0].get('resource').keys()))"
   ]
  },
  {
   "cell_type": "code",
   "execution_count": null,
   "metadata": {},
   "outputs": [],
   "source": [
    "# need more control?\n",
    "# you can use the _elements parameter to ask for specific fields back (although the server should include required fields and modifier fields as well)\n",
    "response = get(base + '/Patient?_count=1' + '&' + '_elements=id,gender')\n",
    "print('Elements: \\n' + str(response.json().get('entry')[0].get('resource').keys()))"
   ]
  },
  {
   "cell_type": "code",
   "execution_count": null,
   "metadata": {},
   "outputs": [],
   "source": [
    "# this can add up!\n",
    "\n",
    "response = get(base + '/Patient?_count=100')\n",
    "print('Normal: \\t' + str(len(response.content)) + ' bytes \\t(' + str(response.elapsed.total_seconds()) + ' s)')\n",
    "\n",
    "response = get(base + '/Patient?_count=100&_summary=true')\n",
    "print('Summary: \\t' + str(len(response.content)) + ' bytes \\t(' + str(response.elapsed.total_seconds()) + ' s)')\n",
    "\n",
    "response = get(base + '/Patient?_count=100&_elements=id,gender,birthDate')\n",
    "print('Elements: \\t' + str(len(response.content)) + ' bytes \\t(' + str(response.elapsed.total_seconds()) + ' s)')\n"
   ]
  },
  {
   "cell_type": "code",
   "execution_count": null,
   "metadata": {},
   "outputs": [],
   "source": [
    "# now add some search parameters\n",
    "\n",
    "# each FHIR resource type has its own set of parameters; find them toward the bottom of the page for that resource type in the specification\n",
    "# for example, for the Patient resource type, see https://www.hl7.org/fhir/patient.html#search\n",
    "response = get(base + '/Patient' + '?' + 'gender=male')\n",
    "print('Response code: ' + str(response.status_code))\n",
    "peek('Response body: \\n' + response.text, 25)"
   ]
  },
  {
   "cell_type": "code",
   "execution_count": null,
   "metadata": {},
   "outputs": [],
   "source": [
    "print('male:   \\t' + str(get(base + '/Patient' + '?' + 'gender=male' + '&' + '_summary=count').json().get('total')))\n",
    "print('female: \\t' + str(get(base + '/Patient' + '?' + 'gender=female' + '&' + '_summary=count').json().get('total')))"
   ]
  },
  {
   "cell_type": "code",
   "execution_count": null,
   "metadata": {},
   "outputs": [],
   "source": [
    "# use the \"missing\" modifier to look for resources that do NOT have a value for the target parameter\n",
    "response = get(base + '/Patient' + '?' + 'gender:missing=true' + '&' + '_summary=count')\n",
    "print('missing gender: ' + str(response.json().get('total')))"
   ]
  },
  {
   "cell_type": "code",
   "execution_count": null,
   "metadata": {},
   "outputs": [],
   "source": [
    "# search parameters have types\n",
    "\n",
    "# gender is considered a \"token\" search parameter\n",
    "\n",
    "# Token search\n",
    "# this parameter type is common for 'coded' values (Code, Coding, and CodeableConcept) and identifiers\n",
    "# token values consist of a system and a code, although sometimes the system is implicit (like in the case of gender)\n",
    "# users can search on the system and code (system|code), the code alone (code), system-less codes (|code), or even the system alone (system|)\n",
    "response = get(base + '/Patient' + '?' + 'gender=http://hl7.org/fhir/administrative-gender|male' + '&_count=1&_elements=gender')\n",
    "peek('male:\\n' + str(response.json()))\n",
    "\n",
    "\n",
    "# there are also Number, Date/DateTime, String, Reference, Quantity, URI, and Composite parameter types"
   ]
  },
  {
   "cell_type": "code",
   "execution_count": null,
   "metadata": {},
   "outputs": [],
   "source": [
    "# String search\n",
    "response = get(base + '/Patient' + '?' + 'family=Smith' + '&_elements=name')\n",
    "print('Smiths:')\n",
    "for entry in response.json().get('entry'):\n",
    "    resource = entry.get('resource')\n",
    "    print(resource.get('id'), end=': ')\n",
    "    print(', '.join(map(lambda n: n.get('family'), resource.get('name'))))\n",
    "        "
   ]
  },
  {
   "cell_type": "code",
   "execution_count": null,
   "metadata": {},
   "outputs": [],
   "source": [
    "# wait, \"Smitham\" !?\n",
    "\n",
    "# string search performs a case-insensitive \"begins-with\" search by default!\n",
    "# use the modifier \":exact\" if you want exact matches (and improved performance)\n",
    "response = get(base + '/Patient' + '?' + 'family:exact=Smith' + '&_elements=name')\n",
    "print('Smiths:')\n",
    "for entry in response.json().get('entry'):\n",
    "    resource = entry.get('resource')\n",
    "    print(resource.get('id'), end=': ')\n",
    "    print(', '.join(map(lambda n: n.get('family'), resource.get('name'))))\n",
    "print()\n",
    "\n",
    "# string search also has a \":contains\" modifier\n",
    "response = get(base + '/Patient' + '?' + 'family:contains=ski' + '&_elements=name')\n",
    "print('Skis:')\n",
    "for entry in response.json().get('entry'):\n",
    "    resource = entry.get('resource')\n",
    "    print(resource.get('id'), end=': ')\n",
    "    print(', '.join(map(lambda n: n.get('family'), resource.get('name'))))\n"
   ]
  },
  {
   "cell_type": "code",
   "execution_count": null,
   "metadata": {},
   "outputs": [],
   "source": [
    "# Date search\n",
    "response = get(base + '/Patient' + '?' + 'birthdate=1984' + '&_elements=birthDate')\n",
    "print('Born in 1984:')\n",
    "for entry in response.json().get('entry'):\n",
    "    resource = entry.get('resource')\n",
    "    print(resource.get('id'), end=': ')\n",
    "    print(resource.get('birthDate'))"
   ]
  },
  {
   "cell_type": "code",
   "execution_count": null,
   "metadata": {},
   "outputs": [],
   "source": [
    "# date searches support lt(<), le(<=), gt(>), ge(>=), sa(starts after), and eb(ends before) \"prefixes\"\n",
    "response = get(base + '/Patient' + '?' + 'birthdate=eb1984' + '&_elements=birthDate')\n",
    "print('Born before 1984:')\n",
    "for entry in response.json().get('entry'):\n",
    "    resource = entry.get('resource')\n",
    "    print(resource.get('id'), end=': ')\n",
    "    print(resource.get('birthDate'))\n",
    "\n",
    "response = get(base + '/Patient' + '?' + 'birthdate=sa1984' + '&_elements=birthDate')\n",
    "print('\\n' + 'Born after 1984:')\n",
    "for entry in response.json().get('entry'):\n",
    "    resource = entry.get('resource')\n",
    "    print(resource.get('id'), end=': ')\n",
    "    print(resource.get('birthDate'))\n",
    "\n",
    "# some servers support ap(approximately equal) as well, although the spec lets the server decide exactly what that means...\n",
    "response = get(base + '/Patient' + '?' + 'birthdate=ap1984' + '&_elements=birthDate')\n",
    "print('\\n' + 'Born \"around\" 1984:')\n",
    "for entry in response.json().get('entry'):\n",
    "    resource = entry.get('resource')\n",
    "    print(resource.get('id'), end=': ')\n",
    "    print(resource.get('birthDate'))"
   ]
  },
  {
   "cell_type": "code",
   "execution_count": null,
   "metadata": {},
   "outputs": [],
   "source": [
    "# Reference search\n",
    "response = get(base + '/Patient?general-practitioner:missing=false&_elements=generalPractitioner,link,managingOrganization&_count=1')\n",
    "peek('Patients with a general-practitioner:   \\n' + str(response.json()))\n",
    "\n",
    "# since our model doesn't have any reference fields on the Patient resources, lets look at Observations instead\n",
    "response = get(base + '/Condition' + '?' + 'subject=Patient/17598beef3c-73a65dab-c8e5-4756-a60a-69bbc48cef4f' + '&_elements=code')\n",
    "print('Conditions for patient 17598beef3c-73a65dab-c8e5-4756-a60a-69bbc48cef4f:')\n",
    "for entry in response.json().get('entry'):\n",
    "    resource = entry.get('resource')\n",
    "    print(resource.get('code'))\n",
    "\n",
    "# when the type of the reference is fixed to a single value, it can be omitted (Patient/x -> x)\n",
    "response2 = get(base + '/Condition' + '?' + 'patient=17598beef3c-73a65dab-c8e5-4756-a60a-69bbc48cef4f' + '&_elements=code')\n",
    "print('\\n' + 'Result entries match? ' + str(response.json().get('entry') == response2.json().get('entry')))\n",
    "\n",
    "# a reference to a resource's full url on the server should be equivalent to the relative reference format mentioned above\n",
    "response3 = get(base + '/Condition' + '?' + 'patient=' + base + '/Patient/17598beef3c-73a65dab-c8e5-4756-a60a-69bbc48cef4f' + '&_elements=code')\n",
    "print('\\n' + 'Result entries match? ' + str(response.json().get('entry') == response3.json().get('entry')))\n",
    "\n",
    "# references can also reference resources on other servers"
   ]
  },
  {
   "cell_type": "code",
   "execution_count": null,
   "metadata": {},
   "outputs": [],
   "source": [
    "# Chaining\n",
    "\n",
    "# where reference parameters get really interesting is when you want to query one resource type based on a property of another resource to which its linked\n",
    "# for example, here is a search for Type II Diabetes in female patients\n",
    "response = get(base + '/Condition' + '?' + 'code=http://snomed.info/sct|44054006' + '&' + 'patient:Patient.gender=female' + '&_count=1')\n",
    "peek('Type II Diabetes in female patients:   \\n' + str(response.json()))\n",
    "    \n",
    "# for example, here is a search for blood pressure values for female patients\n",
    "# TODO: fix this query!\n",
    "#response = get(base + '/Observation' + '?' + 'code=http://loinc.org|85354-9' + '&' + 'date=gt2020-01-01' + '&' + 'patient:Patient.gender=female' + '&_count=1')\n",
    "#peek('Blood Pressure Observations for female patients since 2020-01-01:   \\n' + str(response.json()))"
   ]
  },
  {
   "cell_type": "code",
   "execution_count": null,
   "metadata": {},
   "outputs": [],
   "source": [
    "# Reverse chaining\n",
    "\n",
    "# references can be search the other way around via the \"_has\" parameter\n",
    "response = get(base + '/Patient?gender=female' + '&' + '_has:Condition:patient:code=http://snomed.info/sct|44054006' + '&_count=1')\n",
    "peek('Female patients with Type II Diabetes:   \\n' + str(response.json()))\n",
    "\n",
    "# TODO: fix this query!\n",
    "#response = get(base + '/Patient?gender=female' + '&' + '_has:Observation:patient:code=http://loinc.org|85354-9' + '&_count=1')\n",
    "#peek('Female patients with Blood Pressure Observations:   \\n' + str(response.json()))"
   ]
  },
  {
   "cell_type": "code",
   "execution_count": null,
   "metadata": {},
   "outputs": [],
   "source": [
    "# Includes\n",
    "\n",
    "# its also possible to get a resource and its related resources back in a single query\n",
    "response = get(base + '/Condition?code=http://snomed.info/sct|44054006' + '&' + '_include=Condition:patient' + '&' + 'patient:Patient.gender=female' + '&_count=2')\n",
    "peek('Response contains both Conditions and Patients, but only the Conditions are counted in the page size and total:')\n",
    "print('Total: ' + str(response.json().get('total')))\n",
    "for entry in response.json().get('entry'):\n",
    "    resource = entry.get('resource')\n",
    "    print(resource.get('resourceType'), end=': ')\n",
    "    print(resource.get('id'))\n"
   ]
  },
  {
   "cell_type": "code",
   "execution_count": null,
   "metadata": {},
   "outputs": [],
   "source": [
    "# Reverse Includes\n",
    "\n",
    "response = get(base + '/Patient?gender=female' + '&' + '_revinclude=Condition:patient' + '&_count=2')\n",
    "peek('Response contains both Patients and Conditions, but only the Patients are counted in the page size and total:')\n",
    "print('Total: ' + str(response.json().get('total')))\n",
    "for entry in response.json().get('entry'):\n",
    "    resource = entry.get('resource')\n",
    "    print(resource.get('resourceType'), end=': ')\n",
    "    print(resource.get('id'))"
   ]
  },
  {
   "cell_type": "markdown",
   "metadata": {},
   "source": [
    "## Putting it together"
   ]
  },
  {
   "cell_type": "code",
   "execution_count": null,
   "metadata": {},
   "outputs": [],
   "source": [
    "response = get(base + '/Condition' + '?' + 'code=http://snomed.info/sct|44054006' + '&_count=1')\n",
    "print('Patients with Type II Diabetes:  ' + str(response.json().get('total')))"
   ]
  },
  {
   "cell_type": "code",
   "execution_count": null,
   "metadata": {},
   "outputs": [],
   "source": [
    "# SNOMED concepts for comorbidities of Type II Diabetes\n",
    "#coronary heart disease (CHD), 53741008\n",
    "#chronic kidney disease (CKD), 709044004\n",
    "#atrial fibrillation, 49436004\n",
    "#stroke, 230690007\n",
    "#hypertension, 38341003\n",
    "#heart failure, 84114007\n",
    "#peripheral vascular disease (PVD), 400047006\n",
    "#rheumatoid arthritis, 69896004\n",
    "#Malignant neoplasm, primary (morphologic abnormality), 86049000\n",
    "#Malignant neoplastic disease (disorder), 363346000\n",
    "#osteoporosis, 64859006\n",
    "#depression, 35489007\n",
    "#asthma, 195967001\n",
    "#chronic obstructive pulmonary disease (COPD), 13645005\n",
    "#dementia, 52448006\n",
    "#severe mental illness (SMI), 391193001\n",
    "#epilepsy, 84757009\n",
    "#hypothyroidism, 40930008\n",
    "#learning disability, 1855002\n",
    "\n",
    "print('CHD: \\t\\t\\t' + str(get(base + '/Condition?_summary=count&code=http://snomed.info/sct|' + '53741008').json().get('total')))\n",
    "print('CKD: \\t\\t\\t' + str(get(base + '/Condition?_summary=count&code=http://snomed.info/sct|' + '709044004').json().get('total')))\n",
    "print('AFib: \\t\\t\\t' + str(get(base + '/Condition?_summary=count&code=http://snomed.info/sct|' + '49436004').json().get('total')))\n",
    "print('stroke: \\t\\t' + str(get(base + '/Condition?_summary=count&code=http://snomed.info/sct|' + '230690007').json().get('total')))\n",
    "print('hypertension: \\t\\t' + str(get(base + '/Condition?_summary=count&code=http://snomed.info/sct|' + '38341003').json().get('total')))\n",
    "print('heart failure: \\t\\t' + str(get(base + '/Condition?_summary=count&code=http://snomed.info/sct|' + '84114007').json().get('total')))\n",
    "print('PVD: \\t\\t\\t' + str(get(base + '/Condition?_summary=count&code=http://snomed.info/sct|' + '400047006').json().get('total')))\n",
    "print('arthritis: \\t\\t' + str(get(base + '/Condition?_summary=count&code=http://snomed.info/sct|' + '69896004').json().get('total')))\n",
    "print('cancer: \\t\\t' + str(get(base + '/Condition?_summary=count&code=http://snomed.info/sct|' + '86049000').json().get('total') + get(base + '/Condition?_summary=count&code=http://snomed.info/sct|' + '363346000').json().get('total')))\n",
    "print('osteoporosis: \\t\\t' + str(get(base + '/Condition?_summary=count&code=http://snomed.info/sct|' + '64859006').json().get('total')))\n",
    "print('depression: \\t\\t' + str(get(base + '/Condition?_summary=count&code=http://snomed.info/sct|' + '35489007').json().get('total')))\n",
    "print('asthma: \\t\\t' + str(get(base + '/Condition?_summary=count&code=http://snomed.info/sct|' + '195967001').json().get('total')))\n",
    "print('COPD: \\t\\t\\t' + str(get(base + '/Condition?_summary=count&code=http://snomed.info/sct|' + '13645005').json().get('total')))\n",
    "print('dementia: \\t\\t' + str(get(base + '/Condition?_summary=count&code=http://snomed.info/sct|' + '52448006').json().get('total')))\n",
    "print('SMI: \\t\\t\\t' + str(get(base + '/Condition?_summary=count&code=http://snomed.info/sct|' + '391193001').json().get('total')))\n",
    "print('epilepsy: \\t\\t' + str(get(base + '/Condition?_summary=count&code=http://snomed.info/sct|' + '84757009').json().get('total')))\n",
    "print('hypothyroidism: \\t' + str(get(base + '/Condition?_summary=count&code=http://snomed.info/sct|' + '40930008').json().get('total')))\n",
    "print('learning disability: \\t' + str(get(base + '/Condition?_summary=count&code=http://snomed.info/sct|' + '1855002').json().get('total')))"
   ]
  },
  {
   "cell_type": "code",
   "execution_count": null,
   "metadata": {},
   "outputs": [],
   "source": [
    "# Patients with Type II Diabetes *and* comorbidities\n",
    "hasDiabetes = base + '/Patient?_elements=id&_has:Condition:patient:code=http://snomed.info/sct|44054006'\n",
    "\n",
    "def printPatientsWithComorbidity(conceptId):\n",
    "    responseJSON = get(hasDiabetes + '&_has:Condition:patient:code=http://snomed.info/sct|' + conceptId).json()\n",
    "    print('Total: ' + str(responseJSON.get('total')))\n",
    "    if 'entry' in responseJSON:\n",
    "        for entry in responseJSON.get('entry'):\n",
    "            print(entry.get('resource').get('id'), end=\", \")\n",
    "    print()\n",
    "\n",
    "print('CHD:')\n",
    "printPatientsWithComorbidity('53741008')\n",
    "\n",
    "print('AFib:')\n",
    "printPatientsWithComorbidity('49436004')\n",
    "\n",
    "print('stroke:')\n",
    "printPatientsWithComorbidity('230690007')\n",
    "\n",
    "print('heart failure:')\n",
    "printPatientsWithComorbidity('84114007')\n",
    "\n",
    "print('arthritis:')\n",
    "printPatientsWithComorbidity('69896004')\n",
    "\n",
    "print('osteoporosis:')\n",
    "printPatientsWithComorbidity('64859006')\n",
    "\n",
    "print('asthma:')\n",
    "printPatientsWithComorbidity('195967001')\n",
    "\n",
    "print('epilepsy:')\n",
    "printPatientsWithComorbidity('84757009')"
   ]
  },
  {
   "cell_type": "code",
   "execution_count": null,
   "metadata": {},
   "outputs": [],
   "source": [
    "peek('A1c:' + str(get(base + '/Observation?_elements=code&code=http://loinc.org|' + '4548-4').text), 50)\n"
   ]
  },
  {
   "cell_type": "markdown",
   "metadata": {},
   "source": [
    "## Bulk Export"
   ]
  },
  {
   "cell_type": "code",
   "execution_count": null,
   "metadata": {},
   "outputs": [],
   "source": []
  },
  {
   "cell_type": "code",
   "execution_count": null,
   "metadata": {},
   "outputs": [],
   "source": []
  },
  {
   "cell_type": "code",
   "execution_count": null,
   "metadata": {},
   "outputs": [],
   "source": []
  },
  {
   "cell_type": "code",
   "execution_count": null,
   "metadata": {},
   "outputs": [],
   "source": []
  },
  {
   "cell_type": "code",
   "execution_count": null,
   "metadata": {},
   "outputs": [],
   "source": []
  },
  {
   "cell_type": "code",
   "execution_count": null,
   "metadata": {},
   "outputs": [],
   "source": []
  },
  {
   "cell_type": "markdown",
   "metadata": {},
   "source": [
    "## Using the fhirpy pip module\n",
    "\n",
    "FHIR has a rich library of open source clients and servers for almost every lanuage.\n",
    "For python, there is a module called `fhirpy` which can be found at https://pypi.org/project/fhirpy/"
   ]
  },
  {
   "cell_type": "code",
   "execution_count": null,
   "metadata": {},
   "outputs": [],
   "source": [
    "!pip install fhirpy"
   ]
  },
  {
   "cell_type": "code",
   "execution_count": null,
   "metadata": {},
   "outputs": [],
   "source": [
    "from fhirpy import SyncFHIRClient\n",
    "\n",
    "fhir = SyncFHIRClient(base)"
   ]
  },
  {
   "cell_type": "code",
   "execution_count": null,
   "metadata": {},
   "outputs": [],
   "source": [
    "searchSet = fhir.resources('Practitioner')\n",
    "searchSet.fetch()"
   ]
  }
 ],
 "metadata": {
  "kernelspec": {
   "display_name": "Python 3.7",
   "language": "python",
   "name": "python3"
  },
  "language_info": {
   "codemirror_mode": {
    "name": "ipython",
    "version": 3
   },
   "file_extension": ".py",
   "mimetype": "text/x-python",
   "name": "python",
   "nbconvert_exporter": "python",
   "pygments_lexer": "ipython3",
   "version": "3.7.9"
  }
 },
 "nbformat": 4,
 "nbformat_minor": 1
}
